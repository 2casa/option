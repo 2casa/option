{
 "cells": [
  {
   "cell_type": "markdown",
   "metadata": {},
   "source": [
    "# ダイナミックヘッジ"
   ]
  },
  {
   "cell_type": "code",
   "execution_count": 1,
   "metadata": {},
   "outputs": [],
   "source": [
    "%matplotlib inline"
   ]
  },
  {
   "cell_type": "code",
   "execution_count": 2,
   "metadata": {},
   "outputs": [],
   "source": [
    "import pandas as pd\n",
    "import ivolat3"
   ]
  },
  {
   "cell_type": "code",
   "execution_count": 3,
   "metadata": {},
   "outputs": [],
   "source": [
    "s_df = pd.read_pickle('./data/s.pickle')\n",
    "op_pn = pd.read_pickle('./data/op1.pickle')\n",
    "\n",
    "s_df = s_df.loc['2018-02-26 15:15':'2018-03-07 15:15:00']\n",
    "op_pn = op_pn.loc['2018-02-26 15:15':'2018-03-07 15:15:00']\n",
    "\n",
    "df = pd.DataFrame([op_pn.loc[ix].loc[22250] for ix in op_pn])\n",
    "df.index = op_pn.keys()\n",
    "df['s'] = s_df['1803']\n",
    "put_ix = df['Call/Put'] == 'P'\n",
    "df.loc[put_ix, 'price'] = df.loc[put_ix].apply(\n",
    "    lambda x: x['s'] - 22250 + x['price'], axis=1)\n",
    "df.drop('Call/Put', axis=1, inplace=True)\n",
    "df['t'] = (pd.to_datetime('2018-03-09 9:00') -\n",
    "           df.index).map(lambda x: (x.days + x.seconds / 60 / 60 / 24) / 365)\n",
    "df['delta'] = df.apply(lambda x: ivolat3.delta_call(\n",
    "    x['s'], 22250, 0.001, 0, x['t'], x['iv']), axis=1)"
   ]
  },
  {
   "cell_type": "markdown",
   "metadata": {},
   "source": [
    "## オプションプレミアムとデルタ\n",
    "\n",
    "* 期間: 2018/02/26 - 2018/03/07\n",
    "* 権利行使価格: 2018年3月限コール22250(ATM)\n",
    "\n",
    "列名|値\n",
    "---|---\n",
    "price|コールオプションのプレミアム\n",
    "iv|ボラティリティ\n",
    "s|先物価格\n",
    "t|満期までの期間\n",
    "delta|オプションのデルタ"
   ]
  },
  {
   "cell_type": "code",
   "execution_count": 4,
   "metadata": {},
   "outputs": [
    {
     "data": {
      "text/html": [
       "<div>\n",
       "<style scoped>\n",
       "    .dataframe tbody tr th:only-of-type {\n",
       "        vertical-align: middle;\n",
       "    }\n",
       "\n",
       "    .dataframe tbody tr th {\n",
       "        vertical-align: top;\n",
       "    }\n",
       "\n",
       "    .dataframe thead th {\n",
       "        text-align: right;\n",
       "    }\n",
       "</style>\n",
       "<table border=\"1\" class=\"dataframe\">\n",
       "  <thead>\n",
       "    <tr style=\"text-align: right;\">\n",
       "      <th></th>\n",
       "      <th>price</th>\n",
       "      <th>iv</th>\n",
       "      <th>s</th>\n",
       "      <th>t</th>\n",
       "      <th>delta</th>\n",
       "    </tr>\n",
       "  </thead>\n",
       "  <tbody>\n",
       "    <tr>\n",
       "      <th>2018-02-26 15:15:00</th>\n",
       "      <td>261.13600</td>\n",
       "      <td>0.183005</td>\n",
       "      <td>22214.1</td>\n",
       "      <td>0.029424</td>\n",
       "      <td>0.486102</td>\n",
       "    </tr>\n",
       "    <tr>\n",
       "      <th>2018-02-27 15:15:00</th>\n",
       "      <td>353.09200</td>\n",
       "      <td>0.196899</td>\n",
       "      <td>22375.4</td>\n",
       "      <td>0.026684</td>\n",
       "      <td>0.575975</td>\n",
       "    </tr>\n",
       "    <tr>\n",
       "      <th>2018-02-28 15:15:00</th>\n",
       "      <td>205.30100</td>\n",
       "      <td>0.201231</td>\n",
       "      <td>22095.6</td>\n",
       "      <td>0.023944</td>\n",
       "      <td>0.417880</td>\n",
       "    </tr>\n",
       "    <tr>\n",
       "      <th>2018-03-01 15:15:00</th>\n",
       "      <td>72.13110</td>\n",
       "      <td>0.215770</td>\n",
       "      <td>21644.4</td>\n",
       "      <td>0.021204</td>\n",
       "      <td>0.194370</td>\n",
       "    </tr>\n",
       "    <tr>\n",
       "      <th>2018-03-02 15:15:00</th>\n",
       "      <td>23.57470</td>\n",
       "      <td>0.256367</td>\n",
       "      <td>21137.2</td>\n",
       "      <td>0.018465</td>\n",
       "      <td>0.072851</td>\n",
       "    </tr>\n",
       "    <tr>\n",
       "      <th>2018-03-05 15:15:00</th>\n",
       "      <td>8.06818</td>\n",
       "      <td>0.306589</td>\n",
       "      <td>20997.1</td>\n",
       "      <td>0.010245</td>\n",
       "      <td>0.032029</td>\n",
       "    </tr>\n",
       "    <tr>\n",
       "      <th>2018-03-06 15:15:00</th>\n",
       "      <td>11.44550</td>\n",
       "      <td>0.266243</td>\n",
       "      <td>21438.9</td>\n",
       "      <td>0.007506</td>\n",
       "      <td>0.055012</td>\n",
       "    </tr>\n",
       "    <tr>\n",
       "      <th>2018-03-07 15:15:00</th>\n",
       "      <td>4.83726</td>\n",
       "      <td>0.356209</td>\n",
       "      <td>21194.7</td>\n",
       "      <td>0.004766</td>\n",
       "      <td>0.024797</td>\n",
       "    </tr>\n",
       "  </tbody>\n",
       "</table>\n",
       "</div>"
      ],
      "text/plain": [
       "                         price        iv        s         t     delta\n",
       "2018-02-26 15:15:00  261.13600  0.183005  22214.1  0.029424  0.486102\n",
       "2018-02-27 15:15:00  353.09200  0.196899  22375.4  0.026684  0.575975\n",
       "2018-02-28 15:15:00  205.30100  0.201231  22095.6  0.023944  0.417880\n",
       "2018-03-01 15:15:00   72.13110  0.215770  21644.4  0.021204  0.194370\n",
       "2018-03-02 15:15:00   23.57470  0.256367  21137.2  0.018465  0.072851\n",
       "2018-03-05 15:15:00    8.06818  0.306589  20997.1  0.010245  0.032029\n",
       "2018-03-06 15:15:00   11.44550  0.266243  21438.9  0.007506  0.055012\n",
       "2018-03-07 15:15:00    4.83726  0.356209  21194.7  0.004766  0.024797"
      ]
     },
     "execution_count": 4,
     "metadata": {},
     "output_type": "execute_result"
    }
   ],
   "source": [
    "df"
   ]
  },
  {
   "cell_type": "markdown",
   "metadata": {},
   "source": [
    "### 先物価格/オプションプレミアム/デルタの推移"
   ]
  },
  {
   "cell_type": "code",
   "execution_count": 5,
   "metadata": {},
   "outputs": [
    {
     "data": {
      "text/plain": [
       "array([<matplotlib.axes._subplots.AxesSubplot object at 0x7f092a7ef6a0>,\n",
       "       <matplotlib.axes._subplots.AxesSubplot object at 0x7f09282bd710>,\n",
       "       <matplotlib.axes._subplots.AxesSubplot object at 0x7f092827a978>], dtype=object)"
      ]
     },
     "execution_count": 5,
     "metadata": {},
     "output_type": "execute_result"
    },
    {
     "data": {
      "image/png": "[encoded data removed]",
      "text/plain": [
       "<matplotlib.figure.Figure at 0x7f092a7eef98>"
      ]
     },
     "metadata": {},
     "output_type": "display_data"
    }
   ],
   "source": [
    "df[['s', 'price', 'delta']].plot(subplots=True)"
   ]
  },
  {
   "cell_type": "code",
   "execution_count": 6,
   "metadata": {},
   "outputs": [],
   "source": [
    "def get_returns(df, i):\n",
    "    hedge = df.iloc[i, df.columns.get_loc('hedge')]\n",
    "    s0 = df.iloc[i, df.columns.get_loc('s')]\n",
    "    returns = (df.iloc[i + 1:, df.columns.get_loc('s')] - s0) * hedge\n",
    "    returns.name = hedge\n",
    "    return returns\n",
    "\n",
    "\n",
    "hedge = -(df['delta'] - df['delta'].shift(1)).round(2)\n",
    "hedge[0] = df.iloc[0, df.columns.get_loc('delta')].round(2) * -1\n",
    "df['hedge'] = hedge\n",
    "hedge_returns_df = pd.concat([get_returns(df, i)\n",
    "                              for i in range(len(df))], axis=1)\n",
    "hedge_returns_df = hedge_returns_df.iloc[:, :-1]"
   ]
  },
  {
   "cell_type": "markdown",
   "metadata": {},
   "source": [
    "### ダイナミックヘッジ\n",
    "\n",
    "毎日hedge列分だけ先物をロングまたはショートしてデルタをニュートラルにする"
   ]
  },
  {
   "cell_type": "code",
   "execution_count": 7,
   "metadata": {},
   "outputs": [
    {
     "data": {
      "text/html": [
       "<div>\n",
       "<style scoped>\n",
       "    .dataframe tbody tr th:only-of-type {\n",
       "        vertical-align: middle;\n",
       "    }\n",
       "\n",
       "    .dataframe tbody tr th {\n",
       "        vertical-align: top;\n",
       "    }\n",
       "\n",
       "    .dataframe thead th {\n",
       "        text-align: right;\n",
       "    }\n",
       "</style>\n",
       "<table border=\"1\" class=\"dataframe\">\n",
       "  <thead>\n",
       "    <tr style=\"text-align: right;\">\n",
       "      <th></th>\n",
       "      <th>delta</th>\n",
       "      <th>hedge</th>\n",
       "    </tr>\n",
       "  </thead>\n",
       "  <tbody>\n",
       "    <tr>\n",
       "      <th>2018-02-26 15:15:00</th>\n",
       "      <td>0.486102</td>\n",
       "      <td>-0.49</td>\n",
       "    </tr>\n",
       "    <tr>\n",
       "      <th>2018-02-27 15:15:00</th>\n",
       "      <td>0.575975</td>\n",
       "      <td>-0.09</td>\n",
       "    </tr>\n",
       "    <tr>\n",
       "      <th>2018-02-28 15:15:00</th>\n",
       "      <td>0.417880</td>\n",
       "      <td>0.16</td>\n",
       "    </tr>\n",
       "    <tr>\n",
       "      <th>2018-03-01 15:15:00</th>\n",
       "      <td>0.194370</td>\n",
       "      <td>0.22</td>\n",
       "    </tr>\n",
       "    <tr>\n",
       "      <th>2018-03-02 15:15:00</th>\n",
       "      <td>0.072851</td>\n",
       "      <td>0.12</td>\n",
       "    </tr>\n",
       "    <tr>\n",
       "      <th>2018-03-05 15:15:00</th>\n",
       "      <td>0.032029</td>\n",
       "      <td>0.04</td>\n",
       "    </tr>\n",
       "    <tr>\n",
       "      <th>2018-03-06 15:15:00</th>\n",
       "      <td>0.055012</td>\n",
       "      <td>-0.02</td>\n",
       "    </tr>\n",
       "    <tr>\n",
       "      <th>2018-03-07 15:15:00</th>\n",
       "      <td>0.024797</td>\n",
       "      <td>0.03</td>\n",
       "    </tr>\n",
       "  </tbody>\n",
       "</table>\n",
       "</div>"
      ],
      "text/plain": [
       "                        delta  hedge\n",
       "2018-02-26 15:15:00  0.486102  -0.49\n",
       "2018-02-27 15:15:00  0.575975  -0.09\n",
       "2018-02-28 15:15:00  0.417880   0.16\n",
       "2018-03-01 15:15:00  0.194370   0.22\n",
       "2018-03-02 15:15:00  0.072851   0.12\n",
       "2018-03-05 15:15:00  0.032029   0.04\n",
       "2018-03-06 15:15:00  0.055012  -0.02\n",
       "2018-03-07 15:15:00  0.024797   0.03"
      ]
     },
     "execution_count": 7,
     "metadata": {},
     "output_type": "execute_result"
    }
   ],
   "source": [
    "df[['delta', 'hedge']]"
   ]
  },
  {
   "cell_type": "markdown",
   "metadata": {},
   "source": [
    "### ダイナミックヘッジの損益\n",
    "\n",
    "各ヘッジごとの損益"
   ]
  },
  {
   "cell_type": "code",
   "execution_count": 8,
   "metadata": {},
   "outputs": [
    {
     "data": {
      "text/html": [
       "<div>\n",
       "<style scoped>\n",
       "    .dataframe tbody tr th:only-of-type {\n",
       "        vertical-align: middle;\n",
       "    }\n",
       "\n",
       "    .dataframe tbody tr th {\n",
       "        vertical-align: top;\n",
       "    }\n",
       "\n",
       "    .dataframe thead th {\n",
       "        text-align: right;\n",
       "    }\n",
       "</style>\n",
       "<table border=\"1\" class=\"dataframe\">\n",
       "  <thead>\n",
       "    <tr style=\"text-align: right;\">\n",
       "      <th></th>\n",
       "      <th>-0.49</th>\n",
       "      <th>-0.09</th>\n",
       "      <th>0.16</th>\n",
       "      <th>0.22</th>\n",
       "      <th>0.12</th>\n",
       "      <th>0.04</th>\n",
       "      <th>-0.02</th>\n",
       "    </tr>\n",
       "  </thead>\n",
       "  <tbody>\n",
       "    <tr>\n",
       "      <th>2018-02-27 15:15:00</th>\n",
       "      <td>-79.037</td>\n",
       "      <td>NaN</td>\n",
       "      <td>NaN</td>\n",
       "      <td>NaN</td>\n",
       "      <td>NaN</td>\n",
       "      <td>NaN</td>\n",
       "      <td>NaN</td>\n",
       "    </tr>\n",
       "    <tr>\n",
       "      <th>2018-02-28 15:15:00</th>\n",
       "      <td>58.065</td>\n",
       "      <td>25.182</td>\n",
       "      <td>NaN</td>\n",
       "      <td>NaN</td>\n",
       "      <td>NaN</td>\n",
       "      <td>NaN</td>\n",
       "      <td>NaN</td>\n",
       "    </tr>\n",
       "    <tr>\n",
       "      <th>2018-03-01 15:15:00</th>\n",
       "      <td>279.153</td>\n",
       "      <td>65.790</td>\n",
       "      <td>-72.192</td>\n",
       "      <td>NaN</td>\n",
       "      <td>NaN</td>\n",
       "      <td>NaN</td>\n",
       "      <td>NaN</td>\n",
       "    </tr>\n",
       "    <tr>\n",
       "      <th>2018-03-02 15:15:00</th>\n",
       "      <td>527.681</td>\n",
       "      <td>111.438</td>\n",
       "      <td>-153.344</td>\n",
       "      <td>-111.584</td>\n",
       "      <td>NaN</td>\n",
       "      <td>NaN</td>\n",
       "      <td>NaN</td>\n",
       "    </tr>\n",
       "    <tr>\n",
       "      <th>2018-03-05 15:15:00</th>\n",
       "      <td>596.330</td>\n",
       "      <td>124.047</td>\n",
       "      <td>-175.760</td>\n",
       "      <td>-142.406</td>\n",
       "      <td>-16.812</td>\n",
       "      <td>NaN</td>\n",
       "      <td>NaN</td>\n",
       "    </tr>\n",
       "    <tr>\n",
       "      <th>2018-03-06 15:15:00</th>\n",
       "      <td>379.848</td>\n",
       "      <td>84.285</td>\n",
       "      <td>-105.072</td>\n",
       "      <td>-45.210</td>\n",
       "      <td>36.204</td>\n",
       "      <td>17.672</td>\n",
       "      <td>NaN</td>\n",
       "    </tr>\n",
       "    <tr>\n",
       "      <th>2018-03-07 15:15:00</th>\n",
       "      <td>499.506</td>\n",
       "      <td>106.263</td>\n",
       "      <td>-144.144</td>\n",
       "      <td>-98.934</td>\n",
       "      <td>6.900</td>\n",
       "      <td>7.904</td>\n",
       "      <td>4.884</td>\n",
       "    </tr>\n",
       "  </tbody>\n",
       "</table>\n",
       "</div>"
      ],
      "text/plain": [
       "                       -0.49    -0.09     0.16     0.22    0.12    0.04  -0.02\n",
       "2018-02-27 15:15:00  -79.037      NaN      NaN      NaN     NaN     NaN    NaN\n",
       "2018-02-28 15:15:00   58.065   25.182      NaN      NaN     NaN     NaN    NaN\n",
       "2018-03-01 15:15:00  279.153   65.790  -72.192      NaN     NaN     NaN    NaN\n",
       "2018-03-02 15:15:00  527.681  111.438 -153.344 -111.584     NaN     NaN    NaN\n",
       "2018-03-05 15:15:00  596.330  124.047 -175.760 -142.406 -16.812     NaN    NaN\n",
       "2018-03-06 15:15:00  379.848   84.285 -105.072  -45.210  36.204  17.672    NaN\n",
       "2018-03-07 15:15:00  499.506  106.263 -144.144  -98.934   6.900   7.904  4.884"
      ]
     },
     "execution_count": 8,
     "metadata": {},
     "output_type": "execute_result"
    }
   ],
   "source": [
    "hedge_returns_df"
   ]
  },
  {
   "cell_type": "code",
   "execution_count": 9,
   "metadata": {},
   "outputs": [],
   "source": [
    "hedge_returns = hedge_returns_df.sum(axis=1)\n",
    "call_returns = (df['price'] - df['price'][0])[1:].values\n",
    "call_and_hedge_returns = hedge_returns_df.sum(axis=1) + call_returns\n",
    "straddle = hedge_returns_df.iloc[:, 0] + call_returns\n",
    "retuns_df = pd.DataFrame([call_returns, hedge_returns, call_and_hedge_returns, straddle]).T\n",
    "retuns_df.columns = ['call', 'hedge', 'dynamichedge', 'straddle']"
   ]
  },
  {
   "cell_type": "markdown",
   "metadata": {},
   "source": [
    "列名|値\n",
    "---|---\n",
    "call|コールオプション(ロング)の損益\n",
    "hedge|先物でヘッジした分の損益\n",
    "dynamichedge|コールオプションと先物のヘッジを合計した損益\n",
    "straddle|最初に組成したコールオプション+先物を維持した場合の損益"
   ]
  },
  {
   "cell_type": "code",
   "execution_count": 10,
   "metadata": {},
   "outputs": [
    {
     "data": {
      "text/html": [
       "<div>\n",
       "<style scoped>\n",
       "    .dataframe tbody tr th:only-of-type {\n",
       "        vertical-align: middle;\n",
       "    }\n",
       "\n",
       "    .dataframe tbody tr th {\n",
       "        vertical-align: top;\n",
       "    }\n",
       "\n",
       "    .dataframe thead th {\n",
       "        text-align: right;\n",
       "    }\n",
       "</style>\n",
       "<table border=\"1\" class=\"dataframe\">\n",
       "  <thead>\n",
       "    <tr style=\"text-align: right;\">\n",
       "      <th></th>\n",
       "      <th>call</th>\n",
       "      <th>hedge</th>\n",
       "      <th>dynamichedge</th>\n",
       "      <th>straddle</th>\n",
       "    </tr>\n",
       "  </thead>\n",
       "  <tbody>\n",
       "    <tr>\n",
       "      <th>0</th>\n",
       "      <td>91.95600</td>\n",
       "      <td>-79.037</td>\n",
       "      <td>12.91900</td>\n",
       "      <td>12.91900</td>\n",
       "    </tr>\n",
       "    <tr>\n",
       "      <th>1</th>\n",
       "      <td>-55.83500</td>\n",
       "      <td>83.247</td>\n",
       "      <td>27.41200</td>\n",
       "      <td>2.23000</td>\n",
       "    </tr>\n",
       "    <tr>\n",
       "      <th>2</th>\n",
       "      <td>-189.00490</td>\n",
       "      <td>272.751</td>\n",
       "      <td>83.74610</td>\n",
       "      <td>90.14810</td>\n",
       "    </tr>\n",
       "    <tr>\n",
       "      <th>3</th>\n",
       "      <td>-237.56130</td>\n",
       "      <td>374.191</td>\n",
       "      <td>136.62970</td>\n",
       "      <td>290.11970</td>\n",
       "    </tr>\n",
       "    <tr>\n",
       "      <th>4</th>\n",
       "      <td>-253.06782</td>\n",
       "      <td>385.399</td>\n",
       "      <td>132.33118</td>\n",
       "      <td>343.26218</td>\n",
       "    </tr>\n",
       "    <tr>\n",
       "      <th>5</th>\n",
       "      <td>-249.69050</td>\n",
       "      <td>367.727</td>\n",
       "      <td>118.03650</td>\n",
       "      <td>130.15750</td>\n",
       "    </tr>\n",
       "    <tr>\n",
       "      <th>6</th>\n",
       "      <td>-256.29874</td>\n",
       "      <td>382.379</td>\n",
       "      <td>126.08026</td>\n",
       "      <td>243.20726</td>\n",
       "    </tr>\n",
       "  </tbody>\n",
       "</table>\n",
       "</div>"
      ],
      "text/plain": [
       "        call    hedge  dynamichedge   straddle\n",
       "0   91.95600  -79.037      12.91900   12.91900\n",
       "1  -55.83500   83.247      27.41200    2.23000\n",
       "2 -189.00490  272.751      83.74610   90.14810\n",
       "3 -237.56130  374.191     136.62970  290.11970\n",
       "4 -253.06782  385.399     132.33118  343.26218\n",
       "5 -249.69050  367.727     118.03650  130.15750\n",
       "6 -256.29874  382.379     126.08026  243.20726"
      ]
     },
     "execution_count": 10,
     "metadata": {},
     "output_type": "execute_result"
    }
   ],
   "source": [
    "retuns_df"
   ]
  },
  {
   "cell_type": "code",
   "execution_count": 11,
   "metadata": {},
   "outputs": [
    {
     "data": {
      "text/plain": [
       "<matplotlib.axes._subplots.AxesSubplot at 0x7f09281afef0>"
      ]
     },
     "execution_count": 11,
     "metadata": {},
     "output_type": "execute_result"
    },
    {
     "data": {
      "image/png": "[encoded data removed]",
      "text/plain": [
       "<matplotlib.figure.Figure at 0x7f0928120390>"
      ]
     },
     "metadata": {},
     "output_type": "display_data"
    }
   ],
   "source": [
    "retuns_df.plot()"
   ]
  },
  {
   "cell_type": "code",
   "execution_count": null,
   "metadata": {},
   "outputs": [],
   "source": []
  }
 ],
 "metadata": {
  "kernelspec": {
   "display_name": "Python 3",
   "language": "python",
   "name": "python3"
  },
  "language_info": {
   "codemirror_mode": {
    "name": "ipython",
    "version": 3
   },
   "file_extension": ".py",
   "mimetype": "text/x-python",
   "name": "python",
   "nbconvert_exporter": "python",
   "pygments_lexer": "ipython3",
   "version": "3.6.3"
  }
 },
 "nbformat": 4,
 "nbformat_minor": 2
}
