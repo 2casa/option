{
 "cells": [
  {
   "cell_type": "markdown",
   "metadata": {
    "slideshow": {
     "slide_type": "slide"
    }
   },
   "source": [
    "# オプション価格"
   ]
  },
  {
   "cell_type": "markdown",
   "metadata": {
    "slideshow": {
     "slide_type": "subslide"
    }
   },
   "source": [
    "### オプション価格を求めるには\n",
    "\n",
    "* 原資産価格\n",
    "* 権利行使価格\n",
    "* 満期までの期間\n",
    "* 価格を算出するためのモデル"
   ]
  },
  {
   "cell_type": "code",
   "execution_count": 1,
   "metadata": {
    "slideshow": {
     "slide_type": "skip"
    }
   },
   "outputs": [],
   "source": [
    "import numpy as np\n",
    "import pandas as pd\n",
    "from scipy import stats\n",
    "import matplotlib.pyplot as plt\n",
    "import ivolat3"
   ]
  },
  {
   "cell_type": "code",
   "execution_count": 2,
   "metadata": {
    "slideshow": {
     "slide_type": "skip"
    }
   },
   "outputs": [],
   "source": [
    "np.random.seed(1)\n",
    "s_df = pd.read_pickle(\"./data/s.pickle\")\n",
    "op_pn = pd.read_pickle(\"./data/op1.pickle\")\n",
    "t0 = pd.to_datetime(\"2018-02-26 15:15\")\n",
    "t1 = pd.to_datetime(\"2018-03-09 09:00\")\n",
    "s0 = s_df.loc[t0, \"1803\"]\n",
    "r = 0.001\n",
    "delta_t = t1 - t0\n",
    "t = (delta_t.days / 365) + (delta_t.seconds / 31536000)\n",
    "op_df = op_pn.loc[\"2018-02-26 15:15\"].dropna().copy()\n",
    "op_df[\"k\"] = op_df.index\n",
    "delta_call = op_df.apply(\n",
    "    lambda x: ivolat3.delta(s0, x[\"k\"], r, 0, t, x[\"iv\"], \"C\"), axis=1\n",
    ")\n",
    "\n",
    "delta_call = pd.Series(delta_call.values, index=op_df[\"k\"])\n",
    "k = delta_call.map(lambda x: abs(x - 0.25)).idxmin()\n",
    "price, sigma = op_df.loc[k, [\"price\", \"iv\"]]"
   ]
  },
  {
   "cell_type": "markdown",
   "metadata": {
    "slideshow": {
     "slide_type": "subslide"
    }
   },
   "source": [
    "### 2018年02月26日のコールオプション"
   ]
  },
  {
   "cell_type": "code",
   "execution_count": 3,
   "metadata": {
    "hide_input": true,
    "slideshow": {
     "slide_type": "fragment"
    }
   },
   "outputs": [
    {
     "name": "stdout",
     "output_type": "stream",
     "text": [
      "原資産価格: 22214.1\n",
      "権利行使価格: 22625.0\n",
      "満期までの期間: 0.03年(10.74日)\n",
      "プレミアム: 108.20\n",
      "ボラティリティ: 17.22%\n"
     ]
    }
   ],
   "source": [
    "print(\"原資産価格: {}\".format(s0))\n",
    "print(\"権利行使価格: {}\".format(k))\n",
    "print(\"満期までの期間: {:.2f}年({:.2f}日)\".format(t, t * 365))\n",
    "print(\"プレミアム: {:.2f}\".format(price))\n",
    "print(\"ボラティリティ: {:.2f}%\".format(sigma * 100))"
   ]
  },
  {
   "cell_type": "markdown",
   "metadata": {
    "slideshow": {
     "slide_type": "slide"
    }
   },
   "source": [
    "### 幾何ブラウン運動\n",
    "\n",
    "> 「[幾何ブラウン運動](https://ja.wikipedia.org/wiki/幾何ブラウン運動)」（2017年3月2日 (木) 04:18　UTCの版）『ウィキペディア日本語版』。\n",
    "\n",
    "$dS_t = \\mu S_t\\,dt + \\sigma S_t\\,dB_t$\n",
    "\n",
    "$S_t = S_0\\exp\\left( \\left(\\mu - \\frac{\\sigma^2}{2} \\right)t + \\sigma B_t\\right),$"
   ]
  },
  {
   "cell_type": "markdown",
   "metadata": {
    "slideshow": {
     "slide_type": "subslide"
    }
   },
   "source": [
    "$s_0 = 22214.1$  \n",
    "$\\mu = 0$  \n",
    "$sigma = 0.1722$  \n",
    "$t = 0.03$"
   ]
  },
  {
   "cell_type": "markdown",
   "metadata": {
    "slideshow": {
     "slide_type": "subslide"
    }
   },
   "source": [
    "幾何ブラウン運動に従う乱数を用いて$S_t$を算出\n",
    "\n",
    "```python\n",
    "def get_st(s0, mu, sigma, t):\n",
    "    return s0 * np.exp(\n",
    "        np.random.normal(\n",
    "            (mu - 0.5 * sigma ** 2) * t, sigma * np.sqrt(t))\n",
    "    )\n",
    "```"
   ]
  },
  {
   "cell_type": "markdown",
   "metadata": {
    "slideshow": {
     "slide_type": "subslide"
    }
   },
   "source": [
    "```python\n",
    ">>> get_st(s0, 0, sigma, t)\n",
    "23295.801603657848\n",
    ">>> get_st(s0, 0, sigma, t)\n",
    "21806.759778023705\n",
    ">>> get_st(s0, 0, sigma, t)\n",
    "21860.668118808022\n",
    "```"
   ]
  },
  {
   "cell_type": "code",
   "execution_count": 4,
   "metadata": {
    "slideshow": {
     "slide_type": "skip"
    }
   },
   "outputs": [],
   "source": [
    "def get_st(s0, mu, sigma, t):\n",
    "    return s0 * np.exp(\n",
    "        np.random.normal(\n",
    "            (mu - 0.5 * sigma ** 2) * t, sigma * np.sqrt(t))\n",
    "    )"
   ]
  },
  {
   "cell_type": "code",
   "execution_count": 5,
   "metadata": {
    "slideshow": {
     "slide_type": "skip"
    }
   },
   "outputs": [
    {
     "data": {
      "text/plain": [
       "23295.801603657848"
      ]
     },
     "execution_count": 5,
     "metadata": {},
     "output_type": "execute_result"
    }
   ],
   "source": [
    "get_st(s0, 0, sigma, t)"
   ]
  },
  {
   "cell_type": "code",
   "execution_count": 6,
   "metadata": {
    "slideshow": {
     "slide_type": "skip"
    }
   },
   "outputs": [
    {
     "data": {
      "text/plain": [
       "21806.759778023705"
      ]
     },
     "execution_count": 6,
     "metadata": {},
     "output_type": "execute_result"
    }
   ],
   "source": [
    "get_st(s0, 0, sigma, t)"
   ]
  },
  {
   "cell_type": "code",
   "execution_count": 7,
   "metadata": {
    "slideshow": {
     "slide_type": "skip"
    }
   },
   "outputs": [
    {
     "data": {
      "text/plain": [
       "21860.668118808022"
      ]
     },
     "execution_count": 7,
     "metadata": {},
     "output_type": "execute_result"
    }
   ],
   "source": [
    "get_st(s0, 0, sigma, t)"
   ]
  },
  {
   "cell_type": "code",
   "execution_count": 8,
   "metadata": {
    "slideshow": {
     "slide_type": "skip"
    }
   },
   "outputs": [
    {
     "data": {
      "text/plain": [
       "21511.680390211179"
      ]
     },
     "execution_count": 8,
     "metadata": {},
     "output_type": "execute_result"
    }
   ],
   "source": [
    "get_st(s0, 0, sigma, t)"
   ]
  },
  {
   "cell_type": "markdown",
   "metadata": {
    "slideshow": {
     "slide_type": "subslide"
    }
   },
   "source": [
    "上記を10000回繰り返した結果のヒストグラム"
   ]
  },
  {
   "cell_type": "code",
   "execution_count": 9,
   "metadata": {
    "slideshow": {
     "slide_type": "fragment"
    }
   },
   "outputs": [
    {
     "data": {
      "image/png": "[encoded data removed]",
      "text/plain": [
       "<matplotlib.figure.Figure at 0x7f408de82898>"
      ]
     },
     "metadata": {},
     "output_type": "display_data"
    }
   ],
   "source": [
    "st = np.array([get_st(s0, 0, sigma, t) for _ in range(10000)])\n",
    "\n",
    "fig, ax = plt.subplots()\n",
    "ax.hist(st, bins=100);"
   ]
  },
  {
   "cell_type": "markdown",
   "metadata": {
    "slideshow": {
     "slide_type": "subslide"
    }
   },
   "source": [
    "$k = 22625$を超えた価格がITMとなる"
   ]
  },
  {
   "cell_type": "code",
   "execution_count": 10,
   "metadata": {
    "slideshow": {
     "slide_type": "fragment"
    }
   },
   "outputs": [
    {
     "data": {
      "image/png": "[encoded data removed]",
      "text/plain": [
       "<matplotlib.figure.Figure at 0x7f408bcc6c50>"
      ]
     },
     "metadata": {},
     "output_type": "display_data"
    }
   ],
   "source": [
    "itm = st[st - k > 0]\n",
    "\n",
    "fig = plt.figure()\n",
    "ax = fig.add_subplot(1, 1, 1)\n",
    "ax.hist(st, range=(st.min(), st.max()), bins=100, label=\"OTM\");\n",
    "ax.hist(itm, range=(st.min(), st.max()), bins=100, label=\"ITM\");\n",
    "plt.legend()\n",
    "plt.show()"
   ]
  },
  {
   "cell_type": "markdown",
   "metadata": {
    "slideshow": {
     "slide_type": "subslide"
    }
   },
   "source": [
    "権利行使価格$k$で得られる損益は$s_t - k$または0の最大値をとる\n",
    "\n",
    "$max(s_t - k, 0)$"
   ]
  },
  {
   "cell_type": "code",
   "execution_count": 11,
   "metadata": {
    "slideshow": {
     "slide_type": "skip"
    }
   },
   "outputs": [],
   "source": [
    "payoff = [max(s - k, 0) for s in st]"
   ]
  },
  {
   "cell_type": "code",
   "execution_count": 12,
   "metadata": {
    "slideshow": {
     "slide_type": "fragment"
    }
   },
   "outputs": [
    {
     "data": {
      "image/png": "[encoded data removed]",
      "text/plain": [
       "<matplotlib.figure.Figure at 0x7f408bb945f8>"
      ]
     },
     "metadata": {},
     "output_type": "display_data"
    }
   ],
   "source": [
    "fig = plt.figure()\n",
    "ax = fig.add_subplot(1, 1, 1)\n",
    "_ = ax.hist(payoff)\n",
    "plt.show()"
   ]
  },
  {
   "cell_type": "markdown",
   "metadata": {
    "slideshow": {
     "slide_type": "subslide"
    }
   },
   "source": [
    "この差分の平均を算出するとコールオプションの価格となる"
   ]
  },
  {
   "cell_type": "code",
   "execution_count": 13,
   "metadata": {
    "slideshow": {
     "slide_type": "fragment"
    }
   },
   "outputs": [
    {
     "data": {
      "text/plain": [
       "109.49959424558575"
      ]
     },
     "execution_count": 13,
     "metadata": {},
     "output_type": "execute_result"
    }
   ],
   "source": [
    "np.mean([max(s - k, 0) for s in st])"
   ]
  },
  {
   "cell_type": "markdown",
   "metadata": {
    "slideshow": {
     "slide_type": "slide"
    }
   },
   "source": [
    "* 乱数を発生させるにはコンピュータを用いないといけない\n",
    "* 十分なサンプルを得るには数万回サイコロを振らないといけない -> 手が疲れる"
   ]
  },
  {
   "cell_type": "markdown",
   "metadata": {
    "slideshow": {
     "slide_type": "subslide"
    }
   },
   "source": [
    "### ブラックショールズ方程式\n",
    "\n",
    "> 「[ブラック–ショールズ方程式](https://ja.wikipedia.org/wiki/ブラック–ショールズ方程式)」（2016年10月10日 (月) 15:39 　UTCの版）『ウィキペディア日本語版』。\n",
    "\n",
    "下記の式を用いるとコールオプションの価格が一発で求められる\n",
    "\n",
    "$C(S_t, t) = S_t N(d_1) - Ke^{-r(T-t)} N(d_2)$\n",
    "\n",
    "プットオプションの価格はプットコールパリティから求められる"
   ]
  },
  {
   "cell_type": "markdown",
   "metadata": {
    "slideshow": {
     "slide_type": "subslide"
    }
   },
   "source": [
    "$N(d)$は確率密度関数と呼ばれ、先に試行した分布(ヒストグラム)の色が変わった部分を求められる"
   ]
  },
  {
   "cell_type": "code",
   "execution_count": 14,
   "metadata": {
    "slideshow": {
     "slide_type": "fragment"
    }
   },
   "outputs": [
    {
     "data": {
      "image/png": "[encoded data removed]",
      "text/plain": [
       "<matplotlib.figure.Figure at 0x7f408bcc6828>"
      ]
     },
     "metadata": {},
     "output_type": "display_data"
    }
   ],
   "source": [
    "_ = plt.hist(st, range=(st.min(), st.max()), bins=100, label=\"OTM\")\n",
    "_ = plt.hist(itm, range=(st.min(), st.max()), bins=100, label=\"ITM\")"
   ]
  },
  {
   "cell_type": "markdown",
   "metadata": {
    "slideshow": {
     "slide_type": "subslide"
    }
   },
   "source": [
    "```python\n",
    "def d1(S0, k, r, sigma, t):\n",
    "    return (np.log(S0 / k) + (r + sigma ** 2 / 2) * t) / (sigma * np.sqrt(t))\n",
    "\n",
    "\n",
    "def d2(S0, K, r, sigma, t):\n",
    "    return (np.log(S0 / k) + (r - sigma ** 2 / 2) * t) / (sigma * np.sqrt(t))\n",
    "\n",
    "\n",
    "def bs_call(S0, k, r, sigma, t):\n",
    "    return S0 * stats.norm.cdf(d1(S0, k, r, sigma, t)) - k * np.exp(\n",
    "        -r * t\n",
    "    ) * stats.norm.cdf(d2(S0, k, r, sigma, t))\n",
    "```"
   ]
  },
  {
   "cell_type": "markdown",
   "metadata": {
    "slideshow": {
     "slide_type": "subslide"
    }
   },
   "source": [
    "```python\n",
    ">> bs_call(s0, k, r, sigma, t)\n",
    "108.19777523292942\n",
    "```"
   ]
  },
  {
   "cell_type": "code",
   "execution_count": 15,
   "metadata": {
    "slideshow": {
     "slide_type": "skip"
    }
   },
   "outputs": [],
   "source": [
    "def d1(S0, k, r, sigma, t):\n",
    "    return (np.log(S0 / k) + (r + sigma ** 2 / 2) * t) / (sigma * np.sqrt(t))\n",
    "\n",
    "\n",
    "def d2(S0, K, r, sigma, t):\n",
    "    return (np.log(S0 / k) + (r - sigma ** 2 / 2) * t) / (sigma * np.sqrt(t))\n",
    "\n",
    "\n",
    "def bs_call(S0, k, r, sigma, t):\n",
    "    return S0 * stats.norm.cdf(d1(S0, k, r, sigma, t)) - k * np.exp(\n",
    "        -r * t\n",
    "    ) * stats.norm.cdf(d2(S0, k, r, sigma, t))"
   ]
  },
  {
   "cell_type": "code",
   "execution_count": 16,
   "metadata": {
    "slideshow": {
     "slide_type": "skip"
    }
   },
   "outputs": [
    {
     "data": {
      "text/plain": [
       "108.19777523292942"
      ]
     },
     "execution_count": 16,
     "metadata": {},
     "output_type": "execute_result"
    }
   ],
   "source": [
    "bs_call(s0, k, r, sigma, t)"
   ]
  },
  {
   "cell_type": "markdown",
   "metadata": {
    "slideshow": {
     "slide_type": "slide"
    }
   },
   "source": [
    "### インプライド・ボラティリティ\n",
    "\n",
    "* これまではボラティリティからオプションのプレミアムを算出していたが、オプションのプレミアムからボラティリティを逆算できる\n",
    "* プレミアムからボラティリティを求める式は存在しないため、ボラティリティの値を試行錯誤してプレミアムと等価になるまで繰り返し演算する\n",
    "* 結局はコンピュータが必要になる"
   ]
  },
  {
   "cell_type": "markdown",
   "metadata": {
    "slideshow": {
     "slide_type": "slide"
    }
   },
   "source": [
    "### グリークス\n",
    "\n",
    "ブラックショールズの式から偏微分して求められる"
   ]
  },
  {
   "cell_type": "markdown",
   "metadata": {
    "slideshow": {
     "slide_type": "subslide"
    }
   },
   "source": [
    "#### デルタ\n",
    "$$ \\Delta := \\frac{\\partial C}{\\partial S_t} = N(d_1) $$"
   ]
  },
  {
   "cell_type": "markdown",
   "metadata": {
    "slideshow": {
     "slide_type": "subslide"
    }
   },
   "source": [
    "#### ガンマ\n",
    "$$ \\Gamma := \\frac{\\partial^2 C}{\\partial S_t^2} = \\dfrac{1}{\\sigma S_t\\sqrt{T-t}}\\frac{1}{\\sqrt{2\\pi}}\\mathrm{exp}\\left\\{-\\frac{1}{2}d_1^2\\right\\} $$"
   ]
  },
  {
   "cell_type": "markdown",
   "metadata": {
    "slideshow": {
     "slide_type": "subslide"
    }
   },
   "source": [
    "#### ベガ\n",
    "$$ \\kappa := \\frac{\\partial C}{\\partial \\sigma} = S_t\\sqrt{T-t}\\frac{1}{\\sqrt{2\\pi}}\\mathrm{exp}\\left\\{-\\frac{1}{2}d_1^2\\right\\} $$\n"
   ]
  },
  {
   "cell_type": "markdown",
   "metadata": {
    "slideshow": {
     "slide_type": "subslide"
    }
   },
   "source": [
    "#### セータ\n",
    "$$ \\Theta := \\frac{\\partial C}{\\partial t} = - rKe^{-r(T-t)}N(d_2) - \\dfrac{\\sigma S_t}{2\\sqrt{T-t}}\\frac{1}{\\sqrt{2\\pi}}\\mathrm{exp}\\left\\{-\\frac{1}{2}d_1^2\\right\\} $$"
   ]
  },
  {
   "cell_type": "markdown",
   "metadata": {
    "slideshow": {
     "slide_type": "slide"
    }
   },
   "source": [
    "### モデルの課題\n",
    "\n",
    "* 原資産価格の価格が幾何ブラウン運動(対数正規分布)に従う前提となっている  \n",
    "  実際の分布はどうなのか？ -> いくつかの分布が提案されているが真の分布は誰もわからない\n",
    "* 実際のオプション価格は満期までの期間や権利行使価格によってばらつきがでる\n",
    "* 権利行使価格がATMから離れるほどボラティリティが変化する  \n",
    "  この曲線をボラティリティスマイルまたはボラティリティサーフェイサーと呼ばれる"
   ]
  },
  {
   "cell_type": "code",
   "execution_count": null,
   "metadata": {},
   "outputs": [],
   "source": []
  }
 ],
 "metadata": {
  "celltoolbar": "Slideshow",
  "hide_input": true,
  "kernelspec": {
   "display_name": "Python 3",
   "language": "python",
   "name": "python3"
  },
  "language_info": {
   "codemirror_mode": {
    "name": "ipython",
    "version": 3
   },
   "file_extension": ".py",
   "mimetype": "text/x-python",
   "name": "python",
   "nbconvert_exporter": "python",
   "pygments_lexer": "ipython3",
   "version": "3.6.3"
  },
  "varInspector": {
   "cols": {
    "lenName": 16,
    "lenType": 16,
    "lenVar": 40
   },
   "kernels_config": {
    "python": {
     "delete_cmd_postfix": "",
     "delete_cmd_prefix": "del ",
     "library": "var_list.py",
     "varRefreshCmd": "print(var_dic_list())"
    },
    "r": {
     "delete_cmd_postfix": ") ",
     "delete_cmd_prefix": "rm(",
     "library": "var_list.r",
     "varRefreshCmd": "cat(var_dic_list()) "
    }
   },
   "types_to_exclude": [
    "module",
    "function",
    "builtin_function_or_method",
    "instance",
    "_Feature"
   ],
   "window_display": false
  }
 },
 "nbformat": 4,
 "nbformat_minor": 2
}
