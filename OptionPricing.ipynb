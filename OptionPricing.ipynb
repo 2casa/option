{
 "cells": [
  {
   "cell_type": "markdown",
   "metadata": {},
   "source": [
    "### オプション価格を求めるには\n",
    "\n",
    "* 原資産価格\n",
    "* 権利行使価格\n",
    "* 満期までの期間\n",
    "* 価格を算出するためのモデル"
   ]
  },
  {
   "cell_type": "code",
   "execution_count": 1,
   "metadata": {},
   "outputs": [],
   "source": [
    "import numpy as np\n",
    "import pandas as pd\n",
    "from scipy import stats\n",
    "import matplotlib.pyplot as plt\n",
    "import ivolat3"
   ]
  },
  {
   "cell_type": "code",
   "execution_count": 2,
   "metadata": {},
   "outputs": [],
   "source": [
    "np.random.seed(1)\n",
    "s_df = pd.read_pickle('./data/s.pickle')\n",
    "op_pn = pd.read_pickle('./data/op1.pickle')\n",
    "t0 = pd.to_datetime('2018-02-26 15:15')\n",
    "t1 = pd.to_datetime('2018-03-09 09:00')\n",
    "s0 = s_df.loc[t0, '1803']\n",
    "r = 0.001\n",
    "delta_t = t1 - t0\n",
    "t = (delta_t.days / 365) + (delta_t.seconds / 31536000)\n",
    "op_df = op_pn.loc['2018-02-26 15:15'].dropna().copy()\n",
    "op_df['k'] = op_df.index\n",
    "delta_call = op_df.apply(lambda x: ivolat3.delta(\n",
    "    s0, x['k'], r, 0, t, x['iv'], 'C'), axis=1)\n",
    "\n",
    "delta_call = pd.Series(delta_call.values, index=op_df['k'])\n",
    "k = delta_call.map(lambda x: abs(x - 0.25)).idxmin()\n",
    "price, sigma = op_df.loc[k, ['price', 'iv']]"
   ]
  },
  {
   "cell_type": "markdown",
   "metadata": {},
   "source": [
    "### 2018年02月26日のコールオプション"
   ]
  },
  {
   "cell_type": "code",
   "execution_count": 3,
   "metadata": {},
   "outputs": [
    {
     "name": "stdout",
     "output_type": "stream",
     "text": [
      "原資産価格: 22214.1\n",
      "権利行使価格: 22625.0\n",
      "満期までの期間: 0.03年(10.74日)\n",
      "プレミアム: 108.20\n",
      "ボラティリティ: 17.22%\n"
     ]
    }
   ],
   "source": [
    "print('原資産価格: {}'.format(s0))\n",
    "print('権利行使価格: {}'.format(k))\n",
    "print('満期までの期間: {:.2f}年({:.2f}日)'.format(t, t * 365))\n",
    "print('プレミアム: {:.2f}'.format(price))\n",
    "print('ボラティリティ: {:.2f}%'.format(sigma*100))"
   ]
  },
  {
   "cell_type": "markdown",
   "metadata": {},
   "source": [
    "### 幾何ブラウン運動\n",
    "\n",
    "> 「[幾何ブラウン運動](https://ja.wikipedia.org/wiki/幾何ブラウン運動)」（2017年3月2日 (木) 04:18　UTCの版）『ウィキペディア日本語版』。\n",
    "\n",
    "$dS_t = \\mu S_t\\,dt + \\sigma S_t\\,dB_t$\n",
    "\n",
    "$S_t = S_0\\exp\\left( \\left(\\mu - \\frac{\\sigma^2}{2} \\right)t + \\sigma B_t\\right),$"
   ]
  },
  {
   "cell_type": "markdown",
   "metadata": {},
   "source": [
    "$s_0 = 22214.1$  \n",
    "$\\mu = 0$  \n",
    "$sigma = 0.1722$  \n",
    "$t = 0.03$"
   ]
  },
  {
   "cell_type": "markdown",
   "metadata": {},
   "source": [
    "幾何ブラウン運動に従う乱数を用いて$S_t$を算出"
   ]
  },
  {
   "cell_type": "code",
   "execution_count": 4,
   "metadata": {},
   "outputs": [],
   "source": [
    "def get_st(s0, mu, sigma, t):\n",
    "    return s0 * np.exp(np.random.normal((mu - 0.5 * np.power(sigma, 2)) * t, sigma * np.sqrt(t)))"
   ]
  },
  {
   "cell_type": "code",
   "execution_count": 5,
   "metadata": {},
   "outputs": [
    {
     "data": {
      "text/plain": [
       "23295.801603657848"
      ]
     },
     "execution_count": 5,
     "metadata": {},
     "output_type": "execute_result"
    }
   ],
   "source": [
    "get_st(s0, 0, sigma, t)"
   ]
  },
  {
   "cell_type": "code",
   "execution_count": 6,
   "metadata": {},
   "outputs": [
    {
     "data": {
      "text/plain": [
       "21806.759778023705"
      ]
     },
     "execution_count": 6,
     "metadata": {},
     "output_type": "execute_result"
    }
   ],
   "source": [
    "get_st(s0, 0, sigma, t)"
   ]
  },
  {
   "cell_type": "code",
   "execution_count": 7,
   "metadata": {},
   "outputs": [
    {
     "data": {
      "text/plain": [
       "21860.668118808022"
      ]
     },
     "execution_count": 7,
     "metadata": {},
     "output_type": "execute_result"
    }
   ],
   "source": [
    "get_st(s0, 0, sigma, t)"
   ]
  },
  {
   "cell_type": "code",
   "execution_count": 8,
   "metadata": {},
   "outputs": [
    {
     "data": {
      "text/plain": [
       "21511.680390211179"
      ]
     },
     "execution_count": 8,
     "metadata": {},
     "output_type": "execute_result"
    }
   ],
   "source": [
    "get_st(s0, 0, sigma, t)"
   ]
  },
  {
   "cell_type": "code",
   "execution_count": 9,
   "metadata": {},
   "outputs": [
    {
     "data": {
      "text/plain": [
       "22779.353426081234"
      ]
     },
     "execution_count": 9,
     "metadata": {},
     "output_type": "execute_result"
    }
   ],
   "source": [
    "get_st(s0, 0, sigma, t)"
   ]
  },
  {
   "cell_type": "code",
   "execution_count": 10,
   "metadata": {},
   "outputs": [
    {
     "data": {
      "text/plain": [
       "20744.990847682759"
      ]
     },
     "execution_count": 10,
     "metadata": {},
     "output_type": "execute_result"
    }
   ],
   "source": [
    "get_st(s0, 0, sigma, t)"
   ]
  },
  {
   "cell_type": "markdown",
   "metadata": {},
   "source": [
    "上記を10000回繰り返す"
   ]
  },
  {
   "cell_type": "code",
   "execution_count": 11,
   "metadata": {},
   "outputs": [],
   "source": [
    "st = np.array([get_st(s0, 0, sigma, t) for _ in range(10000)])"
   ]
  },
  {
   "cell_type": "markdown",
   "metadata": {},
   "source": [
    "試行した結果をヒストグラムに"
   ]
  },
  {
   "cell_type": "code",
   "execution_count": 12,
   "metadata": {},
   "outputs": [
    {
     "data": {
      "image/png": "[encoded data removed]",
      "text/plain": [
       "<matplotlib.figure.Figure at 0x7fdf48b87240>"
      ]
     },
     "metadata": {},
     "output_type": "display_data"
    }
   ],
   "source": [
    "_ = plt.hist(st, bins=100)"
   ]
  },
  {
   "cell_type": "markdown",
   "metadata": {},
   "source": [
    "$k = 22625$を超えた価格がITMとなる"
   ]
  },
  {
   "cell_type": "code",
   "execution_count": 13,
   "metadata": {},
   "outputs": [
    {
     "data": {
      "image/png": "[encoded data removed]",
      "text/plain": [
       "<matplotlib.figure.Figure at 0x7fdf46a6ecc0>"
      ]
     },
     "metadata": {},
     "output_type": "display_data"
    }
   ],
   "source": [
    "itm = st[st - k > 0]\n",
    "\n",
    "fig = plt.figure()\n",
    "ax = fig.add_subplot(1, 1, 1)\n",
    "_ = ax.hist(st, range=(st.min(), st.max()), bins=100, label='OTM')\n",
    "_ = ax.hist(itm, range=(st.min(), st.max()), bins=100, label='ITM')\n",
    "plt.legend()\n",
    "plt.show()"
   ]
  },
  {
   "cell_type": "markdown",
   "metadata": {},
   "source": [
    "権利行使価格$k$で得られる損益は$s_t - k$または0の最大値をとる\n",
    "\n",
    "$max(s_t - k, 0)$"
   ]
  },
  {
   "cell_type": "code",
   "execution_count": 14,
   "metadata": {},
   "outputs": [],
   "source": [
    "payoff = [max(s - k, 0) for s in st]"
   ]
  },
  {
   "cell_type": "code",
   "execution_count": 15,
   "metadata": {},
   "outputs": [
    {
     "data": {
      "image/png": "[encoded data removed]",
      "text/plain": [
       "<matplotlib.figure.Figure at 0x7fdf4692b160>"
      ]
     },
     "metadata": {},
     "output_type": "display_data"
    }
   ],
   "source": [
    "fig = plt.figure()\n",
    "ax = fig.add_subplot(1, 1, 1)\n",
    "_ = ax.hist(payoff)\n",
    "plt.show()"
   ]
  },
  {
   "cell_type": "markdown",
   "metadata": {},
   "source": [
    "この差分の平均を算出するとコールオプションの価格となる"
   ]
  },
  {
   "cell_type": "code",
   "execution_count": 16,
   "metadata": {},
   "outputs": [
    {
     "data": {
      "text/plain": [
       "109.48415890297761"
      ]
     },
     "execution_count": 16,
     "metadata": {},
     "output_type": "execute_result"
    }
   ],
   "source": [
    "np.mean([max(s - k, 0) for s in st])"
   ]
  },
  {
   "cell_type": "markdown",
   "metadata": {},
   "source": [
    "* 乱数を発生させるにはコンピュータを用いないといけない\n",
    "* 十分なサンプルを得るには数万回サイコロを振らないといけない -> 手が疲れる"
   ]
  },
  {
   "cell_type": "markdown",
   "metadata": {},
   "source": [
    "### ブラックショールズ方程式\n",
    "\n",
    "> 「[ブラック–ショールズ方程式](https://ja.wikipedia.org/wiki/ブラック–ショールズ方程式)」（2016年10月10日 (月) 15:39 　UTCの版）『ウィキペディア日本語版』。\n",
    "\n",
    "下記の式を用いるとコールオプションの価格が一発で求められる\n",
    "\n",
    "$C(S_t, t) = S_t N(d_1) - Ke^{-r(T-t)} N(d_2)$\n",
    "\n",
    "プットオプションの価格はプットコールパリティから求められる"
   ]
  },
  {
   "cell_type": "markdown",
   "metadata": {},
   "source": [
    "すごく大雑把に書き直すと下記のようになる\n",
    "\n",
    "$(S_t - K)N(d)$\n",
    "\n",
    "$N(d)$は確率密度関数と呼ばれ、先に試行した分布(ヒストグラム)の色が変わった部分を求められる"
   ]
  },
  {
   "cell_type": "code",
   "execution_count": 17,
   "metadata": {},
   "outputs": [
    {
     "data": {
      "image/png": "[encoded data removed]",
      "text/plain": [
       "<matplotlib.figure.Figure at 0x7fdf469b5320>"
      ]
     },
     "metadata": {},
     "output_type": "display_data"
    }
   ],
   "source": [
    "_ = plt.hist(st, range=(st.min(), st.max()), bins=100, label='OTM')\n",
    "_ = plt.hist(itm, range=(st.min(), st.max()), bins=100, label='ITM')"
   ]
  },
  {
   "cell_type": "markdown",
   "metadata": {},
   "source": [
    "$S_t - K$は満期時の損益(本質的価値)を表すので、これにITMになる確率を示す確率密度関数$N(d)$を掛けることでコールオプションの価格が求められる"
   ]
  },
  {
   "cell_type": "code",
   "execution_count": 18,
   "metadata": {},
   "outputs": [],
   "source": [
    "def d1(S0, k, r, sigma, t):\n",
    "    return (np.log(S0 / k) + (r + sigma**2 / 2) * t) / (sigma * np.sqrt(t))\n",
    "\n",
    "\n",
    "def d2(S0, K, r, sigma, t):\n",
    "    return (np.log(S0 / k) + (r - sigma**2 / 2) * t) / (sigma * np.sqrt(t))\n",
    "\n",
    "\n",
    "def bs_call(S0, k, r, sigma, t):\n",
    "    return S0 * stats.norm.cdf(d1(S0, k, r, sigma, t)) - k * np.exp(-r * t) * stats.norm.cdf(d2(S0, k, r, sigma, t))"
   ]
  },
  {
   "cell_type": "code",
   "execution_count": 19,
   "metadata": {},
   "outputs": [
    {
     "data": {
      "text/plain": [
       "108.19777523292942"
      ]
     },
     "execution_count": 19,
     "metadata": {},
     "output_type": "execute_result"
    }
   ],
   "source": [
    "bs_call(s0, k, r, sigma, t)"
   ]
  },
  {
   "cell_type": "markdown",
   "metadata": {},
   "source": [
    "### インプライド・ボラティリティ\n",
    "\n",
    "* これまではボラティリティからオプションのプレミアムを算出していたが、オプションのプレミアムからボラティリティを逆算できる\n",
    "* プレミアムからボラティリティを求める式は存在しないため、ボラティリティの値を試行錯誤してプレミアムと等価になるまで繰り返し演算する\n",
    "* 結局はコンピュータが必要になる"
   ]
  },
  {
   "cell_type": "markdown",
   "metadata": {},
   "source": [
    "### グリークス\n",
    "\n",
    "ブラックショールズの式から偏微分などをして求められる"
   ]
  },
  {
   "cell_type": "markdown",
   "metadata": {},
   "source": [
    "### モデルの課題\n",
    "\n",
    "* 原資産価格の価格が幾何ブラウン運動(対数正規分布)に従う前提となっている  \n",
    "  実際の分布はどうなのか？ -> いくつかの分布が提案されているが真の分布は誰もわからない\n",
    "* 実際のオプション価格は満期までの期間や権利行使価格によってばらつきがでる\n",
    "* 権利行使価格がATMから離れるほどボラティリティが変化する、この曲線をボラティリティスマイルまたはボラティリティサーフェイサーと呼ばれる"
   ]
  },
  {
   "cell_type": "code",
   "execution_count": null,
   "metadata": {},
   "outputs": [],
   "source": []
  }
 ],
 "metadata": {
  "kernelspec": {
   "display_name": "Python 3",
   "language": "python",
   "name": "python3"
  },
  "language_info": {
   "codemirror_mode": {
    "name": "ipython",
    "version": 3
   },
   "file_extension": ".py",
   "mimetype": "text/x-python",
   "name": "python",
   "nbconvert_exporter": "python",
   "pygments_lexer": "ipython3",
   "version": "3.6.3"
  }
 },
 "nbformat": 4,
 "nbformat_minor": 2
}
