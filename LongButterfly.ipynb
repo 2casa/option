{
 "cells": [
  {
   "cell_type": "code",
   "execution_count": 1,
   "metadata": {
    "slideshow": {
     "slide_type": "skip"
    }
   },
   "outputs": [
    {
     "data": {
      "text/html": [
       "<link rel=\"stylesheet\" type=\"text/css\" href=\"custom.css\">"
      ],
      "text/plain": [
       "<IPython.core.display.HTML object>"
      ]
     },
     "metadata": {},
     "output_type": "display_data"
    }
   ],
   "source": [
    "%%HTML\n",
    "<link rel=\"stylesheet\" type=\"text/css\" href=\"custom.css\">"
   ]
  },
  {
   "cell_type": "code",
   "execution_count": 2,
   "metadata": {
    "slideshow": {
     "slide_type": "skip"
    }
   },
   "outputs": [],
   "source": [
    "import pandas as pd\n",
    "import matplotlib.pyplot as plt\n",
    "from IPython.display import display\n",
    "import fudebako\n",
    "import importlib\n",
    "\n",
    "pd.options.display.float_format = '{:.2f}'.format"
   ]
  },
  {
   "cell_type": "code",
   "execution_count": 3,
   "metadata": {
    "slideshow": {
     "slide_type": "skip"
    }
   },
   "outputs": [],
   "source": [
    "t0 = fudebako.s_df.index[0]\n",
    "p1 = fudebako.Portfolio()\n",
    "p1.add(t0, 5, 0, 'C', 22000)\n",
    "p1.add(t0, -10, 0, 'C', 22250)\n",
    "p1.add(t0, 5, 0, 'C', 22500)"
   ]
  },
  {
   "cell_type": "markdown",
   "metadata": {
    "slideshow": {
     "slide_type": "slide"
    }
   },
   "source": [
    "# ロングバタフライ再考"
   ]
  },
  {
   "cell_type": "markdown",
   "metadata": {
    "slideshow": {
     "slide_type": "subslide"
    }
   },
   "source": [
    "### ケーススタディ\n",
    "\n",
    "下記のようなロングバタフライを組んでみる\n",
    "* 2018/02/13 15:15\n",
    "* 2018年3月限先物: 21166.10"
   ]
  },
  {
   "cell_type": "code",
   "execution_count": 4,
   "metadata": {
    "slideshow": {
     "slide_type": "fragment"
    }
   },
   "outputs": [
    {
     "name": "stdout",
     "output_type": "stream",
     "text": [
      "コスト:101.88(1セット当り:33.96)\n"
     ]
    },
    {
     "data": {
      "text/html": [
       "<div>\n",
       "<style scoped>\n",
       "    .dataframe tbody tr th:only-of-type {\n",
       "        vertical-align: middle;\n",
       "    }\n",
       "\n",
       "    .dataframe tbody tr th {\n",
       "        vertical-align: top;\n",
       "    }\n",
       "\n",
       "    .dataframe thead th {\n",
       "        text-align: right;\n",
       "    }\n",
       "</style>\n",
       "<table border=\"1\" class=\"dataframe\">\n",
       "  <thead>\n",
       "    <tr style=\"text-align: right;\">\n",
       "      <th></th>\n",
       "      <th>code</th>\n",
       "      <th>qty</th>\n",
       "      <th>a_price</th>\n",
       "      <th>delta</th>\n",
       "      <th>gamma</th>\n",
       "      <th>vega</th>\n",
       "      <th>theta</th>\n",
       "    </tr>\n",
       "  </thead>\n",
       "  <tbody>\n",
       "    <tr>\n",
       "      <th>0</th>\n",
       "      <td>1803C22000</td>\n",
       "      <td>5.00</td>\n",
       "      <td>245.21</td>\n",
       "      <td>1.45</td>\n",
       "      <td>1.23</td>\n",
       "      <td>9241.49</td>\n",
       "      <td>-50.34</td>\n",
       "    </tr>\n",
       "    <tr>\n",
       "      <th>1</th>\n",
       "      <td>1803C22250</td>\n",
       "      <td>-10.00</td>\n",
       "      <td>170.31</td>\n",
       "      <td>-2.26</td>\n",
       "      <td>-2.23</td>\n",
       "      <td>-16220.75</td>\n",
       "      <td>85.28</td>\n",
       "    </tr>\n",
       "    <tr>\n",
       "      <th>2</th>\n",
       "      <td>1803C22500</td>\n",
       "      <td>5.00</td>\n",
       "      <td>115.79</td>\n",
       "      <td>0.85</td>\n",
       "      <td>0.96</td>\n",
       "      <td>6828.51</td>\n",
       "      <td>-34.99</td>\n",
       "    </tr>\n",
       "  </tbody>\n",
       "</table>\n",
       "</div>"
      ],
      "text/plain": [
       "         code    qty  a_price  delta  gamma      vega  theta\n",
       "0  1803C22000   5.00   245.21   1.45   1.23   9241.49 -50.34\n",
       "1  1803C22250 -10.00   170.31  -2.26  -2.23 -16220.75  85.28\n",
       "2  1803C22500   5.00   115.79   0.85   0.96   6828.51 -34.99"
      ]
     },
     "metadata": {},
     "output_type": "display_data"
    }
   ],
   "source": [
    "cost = (p1.position['qty'] * p1.position['a_price']).sum()\n",
    "print('コスト:{:.2f}(1セット当り:{:.2f})'.format(cost, cost / len(p1.position)))\n",
    "display(p1.position[['code', 'qty', 'a_price', 'delta', 'gamma', 'vega', 'theta']])"
   ]
  },
  {
   "cell_type": "markdown",
   "metadata": {
    "slideshow": {
     "slide_type": "subslide"
    }
   },
   "source": [
    "* 最大利益: 120 * 5 = 600\n",
    "* 最大損失: 20.2 * 5 = 101"
   ]
  },
  {
   "cell_type": "markdown",
   "metadata": {
    "slideshow": {
     "slide_type": "subslide"
    }
   },
   "source": [
    "### 実際の損益"
   ]
  },
  {
   "cell_type": "code",
   "execution_count": 5,
   "metadata": {
    "slideshow": {
     "slide_type": "fragment"
    }
   },
   "outputs": [
    {
     "data": {
      "image/png": "[encoded data removed]",
      "text/plain": [
       "<matplotlib.figure.Figure at 0x7f0e7af882b0>"
      ]
     },
     "metadata": {},
     "output_type": "display_data"
    }
   ],
   "source": [
    "df1 = fudebako.get_portfolio_history(p1, fudebako.s_df.index[1:-1])\n",
    "df1_pl = df1.groupby(\"timestamp\").sum()[\"pl\"]\n",
    "\n",
    "fig = plt.figure(figsize=(14, 6))\n",
    "ax1 = fig.add_subplot(2, 1, 1)\n",
    "ax2 = fig.add_subplot(2, 1, 2, sharex=ax1)\n",
    "ax1.plot(fudebako.s_df[\"1803\"])\n",
    "ax1.axhline(22250, linestyle=\"--\", color=\"r\")\n",
    "ax2.plot(df1_pl)\n",
    "ax1.set_title(\"Nikkei225 Futures\")\n",
    "ax2.set_title(\"Long Butterfly P/L\")\n",
    "plt.show()"
   ]
  },
  {
   "cell_type": "markdown",
   "metadata": {
    "slideshow": {
     "slide_type": "slide"
    }
   },
   "source": [
    "### なにか手はないか？\n",
    "* 先物が最大利益の着地点に到達するものの、そのままSQを迎えるほど甘くはない\n",
    "* この時点で利食いするのは手堅い手段\n",
    "* 3つの組み合わせのスプレッドを解消するのは少し大変なので、別な手段を考えてみる"
   ]
  },
  {
   "cell_type": "markdown",
   "metadata": {
    "slideshow": {
     "slide_type": "subslide"
    }
   },
   "source": [
    "* 2018/02/26 15:15\n",
    "* 2018年3月限先物: 22214.10\n",
    "* 先物がこの地点から離れると利益を逃す -> 期先でロングストラドルを組んでみる"
   ]
  },
  {
   "cell_type": "code",
   "execution_count": 6,
   "metadata": {
    "slideshow": {
     "slide_type": "skip"
    }
   },
   "outputs": [],
   "source": [
    "t0 = fudebako.s_df.index[0]\n",
    "p2 = fudebako.Portfolio()\n",
    "p2.add(t0, 5, 0, 'C', 22000)\n",
    "p2.add(t0, -10, 0, 'C', 22250)\n",
    "p2.add(t0, 5, 0, 'C', 22500)\n",
    "t0 = fudebako.s_df.index[9]\n",
    "p2.add(t0, 1, 1, 'C', 22250)\n",
    "p2.add(t0, 1, 1, 'P', 22125)"
   ]
  },
  {
   "cell_type": "code",
   "execution_count": 7,
   "metadata": {
    "slideshow": {
     "slide_type": "fragment"
    }
   },
   "outputs": [
    {
     "data": {
      "text/html": [
       "<div>\n",
       "<style scoped>\n",
       "    .dataframe tbody tr th:only-of-type {\n",
       "        vertical-align: middle;\n",
       "    }\n",
       "\n",
       "    .dataframe tbody tr th {\n",
       "        vertical-align: top;\n",
       "    }\n",
       "\n",
       "    .dataframe thead th {\n",
       "        text-align: right;\n",
       "    }\n",
       "</style>\n",
       "<table border=\"1\" class=\"dataframe\">\n",
       "  <thead>\n",
       "    <tr style=\"text-align: right;\">\n",
       "      <th></th>\n",
       "      <th>code</th>\n",
       "      <th>qty</th>\n",
       "      <th>a_price</th>\n",
       "      <th>delta</th>\n",
       "      <th>gamma</th>\n",
       "      <th>vega</th>\n",
       "      <th>theta</th>\n",
       "    </tr>\n",
       "  </thead>\n",
       "  <tbody>\n",
       "    <tr>\n",
       "      <th>0</th>\n",
       "      <td>1803C22000</td>\n",
       "      <td>5.00</td>\n",
       "      <td>245.21</td>\n",
       "      <td>1.45</td>\n",
       "      <td>1.23</td>\n",
       "      <td>9241.49</td>\n",
       "      <td>-50.34</td>\n",
       "    </tr>\n",
       "    <tr>\n",
       "      <th>1</th>\n",
       "      <td>1803C22250</td>\n",
       "      <td>-10.00</td>\n",
       "      <td>170.31</td>\n",
       "      <td>-2.26</td>\n",
       "      <td>-2.23</td>\n",
       "      <td>-16220.75</td>\n",
       "      <td>85.28</td>\n",
       "    </tr>\n",
       "    <tr>\n",
       "      <th>2</th>\n",
       "      <td>1803C22500</td>\n",
       "      <td>5.00</td>\n",
       "      <td>115.79</td>\n",
       "      <td>0.85</td>\n",
       "      <td>0.96</td>\n",
       "      <td>6828.51</td>\n",
       "      <td>-34.99</td>\n",
       "    </tr>\n",
       "    <tr>\n",
       "      <th>3</th>\n",
       "      <td>1804C22250</td>\n",
       "      <td>1.00</td>\n",
       "      <td>440.77</td>\n",
       "      <td>0.45</td>\n",
       "      <td>0.30</td>\n",
       "      <td>3091.17</td>\n",
       "      <td>-5.81</td>\n",
       "    </tr>\n",
       "    <tr>\n",
       "      <th>4</th>\n",
       "      <td>1804P22125</td>\n",
       "      <td>1.00</td>\n",
       "      <td>581.43</td>\n",
       "      <td>-0.51</td>\n",
       "      <td>0.29</td>\n",
       "      <td>3112.40</td>\n",
       "      <td>-5.89</td>\n",
       "    </tr>\n",
       "  </tbody>\n",
       "</table>\n",
       "</div>"
      ],
      "text/plain": [
       "         code    qty  a_price  delta  gamma      vega  theta\n",
       "0  1803C22000   5.00   245.21   1.45   1.23   9241.49 -50.34\n",
       "1  1803C22250 -10.00   170.31  -2.26  -2.23 -16220.75  85.28\n",
       "2  1803C22500   5.00   115.79   0.85   0.96   6828.51 -34.99\n",
       "3  1804C22250   1.00   440.77   0.45   0.30   3091.17  -5.81\n",
       "4  1804P22125   1.00   581.43  -0.51   0.29   3112.40  -5.89"
      ]
     },
     "execution_count": 7,
     "metadata": {},
     "output_type": "execute_result"
    }
   ],
   "source": [
    "p2.position[['code', 'qty', 'a_price', 'delta', 'gamma', 'vega', 'theta']]"
   ]
  },
  {
   "cell_type": "markdown",
   "metadata": {
    "slideshow": {
     "slide_type": "subslide"
    }
   },
   "source": [
    "### ロングバタフライ + ロングストラドル(期先)"
   ]
  },
  {
   "cell_type": "code",
   "execution_count": 8,
   "metadata": {
    "scrolled": false,
    "slideshow": {
     "slide_type": "fragment"
    }
   },
   "outputs": [
    {
     "data": {
      "image/png": "[encoded data removed]",
      "text/plain": [
       "<matplotlib.figure.Figure at 0x7f0e78c782e8>"
      ]
     },
     "metadata": {},
     "output_type": "display_data"
    }
   ],
   "source": [
    "df2 = fudebako.get_portfolio_history(p2, fudebako.s_df.index[10:-1])\n",
    "df2_pl = df2.groupby(\"timestamp\").sum()[\"pl\"]\n",
    "df2_pl = df1_pl + df2_pl.reindex(df1_pl.index).fillna(0)\n",
    "\n",
    "fig = plt.figure(figsize=(14, 6))\n",
    "ax1 = fig.add_subplot(2, 1, 1)\n",
    "ax2 = fig.add_subplot(2, 1, 2, sharex=ax1)\n",
    "ax1.plot(fudebako.s_df[\"1803\"])\n",
    "ax1.axhline(22250, linestyle=\"--\", color=\"r\")\n",
    "ax2.plot(df2_pl)\n",
    "change_point = fudebako.s_df.index[9:]\n",
    "ax2.text(change_point[0], 50, \"<- add Long Straddle!!\")\n",
    "yticks = ax2.axes.get_yticks()\n",
    "ax2.fill_between(change_point, yticks[0], yticks[-1], facecolor=\"green\", alpha=0.2)\n",
    "\n",
    "ax1.set_title(\"Nikkei225 Futures\")\n",
    "ax2.set_title(\"Long Butterfly P/L\")\n",
    "plt.show()"
   ]
  },
  {
   "cell_type": "markdown",
   "metadata": {
    "slideshow": {
     "slide_type": "subslide"
    }
   },
   "source": [
    "* 追加で組んだロングストラドルの利益が101以上になったら利食いを入れてもよい  \n",
    "  101 = ロングバタフライのコスト(最大損失)\n",
    "* 先物でダイナミックヘッジをしてもよさそう\n",
    "* 最初に組んだロングバタフライはそのまま放置できる"
   ]
  },
  {
   "cell_type": "code",
   "execution_count": null,
   "metadata": {},
   "outputs": [],
   "source": []
  }
 ],
 "metadata": {
  "celltoolbar": "Slideshow",
  "hide_input": true,
  "kernelspec": {
   "display_name": "Python 3",
   "language": "python",
   "name": "python3"
  },
  "language_info": {
   "codemirror_mode": {
    "name": "ipython",
    "version": 3
   },
   "file_extension": ".py",
   "mimetype": "text/x-python",
   "name": "python",
   "nbconvert_exporter": "python",
   "pygments_lexer": "ipython3",
   "version": "3.6.3"
  },
  "varInspector": {
   "cols": {
    "lenName": 16,
    "lenType": 16,
    "lenVar": 40
   },
   "kernels_config": {
    "python": {
     "delete_cmd_postfix": "",
     "delete_cmd_prefix": "del ",
     "library": "var_list.py",
     "varRefreshCmd": "print(var_dic_list())"
    },
    "r": {
     "delete_cmd_postfix": ") ",
     "delete_cmd_prefix": "rm(",
     "library": "var_list.r",
     "varRefreshCmd": "cat(var_dic_list()) "
    }
   },
   "types_to_exclude": [
    "module",
    "function",
    "builtin_function_or_method",
    "instance",
    "_Feature"
   ],
   "window_display": false
  }
 },
 "nbformat": 4,
 "nbformat_minor": 2
}
