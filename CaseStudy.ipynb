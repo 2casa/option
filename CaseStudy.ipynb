{
 "cells": [
  {
   "cell_type": "code",
   "execution_count": 71,
   "metadata": {
    "slideshow": {
     "slide_type": "skip"
    }
   },
   "outputs": [],
   "source": [
    "import pandas as pd\n",
    "import matplotlib.pyplot as plt\n",
    "import matplotlib.gridspec as gridspec\n",
    "import ivolat3\n",
    "import jpxtime3"
   ]
  },
  {
   "cell_type": "code",
   "execution_count": 2,
   "metadata": {
    "slideshow": {
     "slide_type": "skip"
    }
   },
   "outputs": [],
   "source": [
    "s_df = pd.read_pickle('./data/s.pickle')\n",
    "op_pn1 = pd.read_pickle('./data/op1.pickle')\n",
    "op_pn2 = pd.read_pickle('./data/op2.pickle')\n",
    "op_pn = {'1803': op_pn1, '1804': op_pn2}"
   ]
  },
  {
   "cell_type": "code",
   "execution_count": 66,
   "metadata": {},
   "outputs": [],
   "source": [
    "vi_df = pd.read_csv('./data/nikkei_vi.csv', index_col=['Date'], parse_dates=True)\n",
    "s1804 = s_df['1804'].copy()\n",
    "s1804.index = s1804.index.map(lambda x: x.date())\n",
    "s1804_vi_df = pd.concat([s1804, vi_df['Close']], axis=1)\n",
    "s1804_vi_df.index = s1804_vi_df.index.map(lambda x: '{:%m/%d}'.format(x))\n",
    "s1804_vi_df.columns = ['Futures', 'VI']"
   ]
  },
  {
   "cell_type": "code",
   "execution_count": 67,
   "metadata": {
    "slideshow": {
     "slide_type": "skip"
    }
   },
   "outputs": [],
   "source": [
    "def _plot_iv(t0, t1, maturity, ax):\n",
    "    s0 = s_df.loc[t0, maturity]\n",
    "    s1 = s_df.loc[t1, maturity]\n",
    "    iv0 = op_pn[maturity].loc[t0]['iv']\n",
    "    iv1 = op_pn[maturity].loc[t1]['iv']\n",
    "\n",
    "    ax.plot(iv1.index, iv1, c='b', label=t1)\n",
    "    ax.plot(iv0.index, iv0, c='b', linestyle='--', linewidth=1, label=t0)\n",
    "    y_min = min(iv0.min(), iv1.min())\n",
    "    y_max = max(iv0.max(), iv1.max())\n",
    "    ax.vlines(s1, y_min, y_max, linewidth=1)\n",
    "    ax.vlines(s0, y_min, y_max, linewidth=1, linestyle='--')\n",
    "\n",
    "    ax.legend(loc='lower left')\n",
    "\n",
    "\n",
    "def plot_iv(t0, t1, maturity):\n",
    "    fig = plt.figure(figsize=(10, 6))\n",
    "    ax = fig.add_subplot(1, 1, 1)\n",
    "    _plot_iv(t0, t1, maturity, ax)\n",
    "    plt.show()"
   ]
  },
  {
   "cell_type": "code",
   "execution_count": 68,
   "metadata": {
    "slideshow": {
     "slide_type": "skip"
    }
   },
   "outputs": [],
   "source": [
    "class Portfolio:\n",
    "    def __init__(self, t0, positions):\n",
    "        t0 = pd.to_datetime(t0)\n",
    "        self.positions = positions\n",
    "        self.df = self.make_portfolio(t0)\n",
    "\n",
    "\n",
    "    def make_portfolio(self, t0):\n",
    "        df = pd.DataFrame([], columns=[\n",
    "            'qty', 'maturity', 'right', 'price', 'iv', 'delta', 'gamma', 'vega', 'theta'])\n",
    "        for i, p in enumerate(self.positions):\n",
    "            qty = p['qty']\n",
    "            maturity = p['maturity']\n",
    "            right = p['right']\n",
    "            \n",
    "            if right.lower() == 'f':\n",
    "                p['k'] = None\n",
    "                pname = '{}{}'.format(maturity, right)\n",
    "                p['price'] = s_df.loc[t0, maturity]\n",
    "                p['iv'] = None\n",
    "                p['delta'] = qty\n",
    "                p['gamma'] = 0\n",
    "                p['vega'] = 0\n",
    "                p['theta'] = 0\n",
    "            else:\n",
    "                k = p['k']\n",
    "                pname = '{}{}{}'.format(maturity, right, k)\n",
    "                p['price'] = op_pn[maturity].loc[t0].loc[k, 'price']\n",
    "                sigma, delta, gamma, vega, theta = self.get_greeks(\n",
    "                    t0, qty, maturity, right, k)\n",
    "                p['iv'] = sigma\n",
    "                p['delta'] = delta\n",
    "                p['gamma'] = gamma\n",
    "                p['vega'] = vega\n",
    "                p['theta'] = theta\n",
    "\n",
    "            df.loc[i] = pd.Series(p)\n",
    "        df.loc['sum'] = df.loc[:, 'delta':'theta'].sum()\n",
    "        return df\n",
    "\n",
    "    def get_greeks(self, t0, qty, maturity, right, k):\n",
    "        s0 = s_df.loc[t0, maturity]\n",
    "        r = 0.001\n",
    "        t = jpxtime3.get_t(t0, jpxtime3.get_sq(maturity))\n",
    "        sigma = op_pn[maturity].loc[t0].loc[k, 'iv']\n",
    "        delta = qty * ivolat3.delta(s0, k, r, 0, t, sigma, right)\n",
    "        gamma = qty * ivolat3.gamma(s0, k, r, 0, t, sigma)\n",
    "        vega = qty * ivolat3.vega(s0, k, r, 0, t, sigma) * 0.01\n",
    "        theta = qty * ivolat3.theta(s0, k, r, 0, t, sigma, right) / 365\n",
    "        return sigma, delta, gamma, vega, theta\n",
    "    \n",
    "    def get_status(self, t0):\n",
    "        t0 = pd.to_datetime(t0)\n",
    "        current_df = self.make_portfolio(t0)\n",
    "        for r in self.df.index[:-1]:\n",
    "            pl = (current_df.loc[r, 'price'] - self.df.loc[r, 'price']) * self.df.loc[r, 'qty']\n",
    "            current_df.loc[r, 'P/L'] = pl\n",
    "        current_df.loc['sum', 'P/L'] = current_df['P/L'].sum()\n",
    "        return current_df"
   ]
  },
  {
   "cell_type": "markdown",
   "metadata": {
    "hide_input": true,
    "slideshow": {
     "slide_type": "slide"
    }
   },
   "source": [
    "### 2018年4月限 @2018年3月2日"
   ]
  },
  {
   "cell_type": "markdown",
   "metadata": {
    "slideshow": {
     "slide_type": "subslide"
    }
   },
   "source": [
    "### 気になったところを挙げてみよう\n",
    "\n",
    "2018年3月2日, 2018年4月限@, 先物 21644.4 -> 21475.6"
   ]
  },
  {
   "cell_type": "code",
   "execution_count": 72,
   "metadata": {
    "hide_input": true
   },
   "outputs": [
    {
     "data": {
      "image/png": "[encoded data removed]",
      "text/plain": [
       "<matplotlib.figure.Figure at 0x7ff671b25cf8>"
      ]
     },
     "metadata": {},
     "output_type": "display_data"
    }
   ],
   "source": [
    "fig = plt.figure(figsize=(12, 4))\n",
    "gs = gridspec.GridSpec(2, 2)\n",
    "ax1 = fig.add_subplot(gs[:, 0])\n",
    "ax2 = fig.add_subplot(gs[0, 1])\n",
    "ax3 = fig.add_subplot(gs[1, 1], sharex=ax2)\n",
    "_plot_iv('2018-03-02 15:15', '2018-03-05 15:15', '1804', ax1)\n",
    "ax1.set_title('Implied Volatility')\n",
    "ax2.plot(s1804_vi_df.loc[:'03/02', 'Futures'])\n",
    "ax2.set_title('Futures')\n",
    "plt.setp(ax2.get_xticklabels(), visible=False)\n",
    "ax3.plot(s1804_vi_df.loc[:'03/02', 'VI'])\n",
    "ax3.set_title('VI')\n",
    "plt.xticks(s1804_vi_df.loc[:'03/02'].index, s1804_vi_df.index, rotation='vertical')\n",
    "plt.show()"
   ]
  },
  {
   "cell_type": "markdown",
   "metadata": {
    "hide_input": true,
    "slideshow": {
     "slide_type": "slide"
    }
   },
   "source": [
    "#### カバードコールを組んで見る\n",
    "\n",
    "* コール23000(18年4月限)を1枚ショート\n",
    "* 先物(18年4月限)を0.09枚ロング"
   ]
  },
  {
   "cell_type": "code",
   "execution_count": 80,
   "metadata": {
    "hide_input": true
   },
   "outputs": [
    {
     "data": {
      "text/html": [
       "<style  type=\"text/css\" >\n",
       "    #T_b68e56e4_4d07_11e8_90d6_002710e3a2d8row0_col0 {\n",
       "            font-size:  18px;\n",
       "        }    #T_b68e56e4_4d07_11e8_90d6_002710e3a2d8row0_col1 {\n",
       "            font-size:  18px;\n",
       "        }    #T_b68e56e4_4d07_11e8_90d6_002710e3a2d8row0_col2 {\n",
       "            font-size:  18px;\n",
       "        }    #T_b68e56e4_4d07_11e8_90d6_002710e3a2d8row0_col3 {\n",
       "            font-size:  18px;\n",
       "        }    #T_b68e56e4_4d07_11e8_90d6_002710e3a2d8row0_col4 {\n",
       "            font-size:  18px;\n",
       "        }    #T_b68e56e4_4d07_11e8_90d6_002710e3a2d8row0_col5 {\n",
       "            font-size:  18px;\n",
       "        }    #T_b68e56e4_4d07_11e8_90d6_002710e3a2d8row0_col6 {\n",
       "            font-size:  18px;\n",
       "        }    #T_b68e56e4_4d07_11e8_90d6_002710e3a2d8row0_col7 {\n",
       "            font-size:  18px;\n",
       "        }    #T_b68e56e4_4d07_11e8_90d6_002710e3a2d8row0_col8 {\n",
       "            font-size:  18px;\n",
       "        }    #T_b68e56e4_4d07_11e8_90d6_002710e3a2d8row1_col0 {\n",
       "            font-size:  18px;\n",
       "        }    #T_b68e56e4_4d07_11e8_90d6_002710e3a2d8row1_col1 {\n",
       "            font-size:  18px;\n",
       "        }    #T_b68e56e4_4d07_11e8_90d6_002710e3a2d8row1_col2 {\n",
       "            font-size:  18px;\n",
       "        }    #T_b68e56e4_4d07_11e8_90d6_002710e3a2d8row1_col3 {\n",
       "            font-size:  18px;\n",
       "        }    #T_b68e56e4_4d07_11e8_90d6_002710e3a2d8row1_col4 {\n",
       "            font-size:  18px;\n",
       "        }    #T_b68e56e4_4d07_11e8_90d6_002710e3a2d8row1_col5 {\n",
       "            font-size:  18px;\n",
       "        }    #T_b68e56e4_4d07_11e8_90d6_002710e3a2d8row1_col6 {\n",
       "            font-size:  18px;\n",
       "        }    #T_b68e56e4_4d07_11e8_90d6_002710e3a2d8row1_col7 {\n",
       "            font-size:  18px;\n",
       "        }    #T_b68e56e4_4d07_11e8_90d6_002710e3a2d8row1_col8 {\n",
       "            font-size:  18px;\n",
       "        }    #T_b68e56e4_4d07_11e8_90d6_002710e3a2d8row2_col0 {\n",
       "            font-size:  18px;\n",
       "        }    #T_b68e56e4_4d07_11e8_90d6_002710e3a2d8row2_col1 {\n",
       "            font-size:  18px;\n",
       "        }    #T_b68e56e4_4d07_11e8_90d6_002710e3a2d8row2_col2 {\n",
       "            font-size:  18px;\n",
       "        }    #T_b68e56e4_4d07_11e8_90d6_002710e3a2d8row2_col3 {\n",
       "            font-size:  18px;\n",
       "        }    #T_b68e56e4_4d07_11e8_90d6_002710e3a2d8row2_col4 {\n",
       "            font-size:  18px;\n",
       "        }    #T_b68e56e4_4d07_11e8_90d6_002710e3a2d8row2_col5 {\n",
       "            font-size:  18px;\n",
       "        }    #T_b68e56e4_4d07_11e8_90d6_002710e3a2d8row2_col6 {\n",
       "            font-size:  18px;\n",
       "        }    #T_b68e56e4_4d07_11e8_90d6_002710e3a2d8row2_col7 {\n",
       "            font-size:  18px;\n",
       "        }    #T_b68e56e4_4d07_11e8_90d6_002710e3a2d8row2_col8 {\n",
       "            font-size:  18px;\n",
       "        }</style>  \n",
       "<table id=\"T_b68e56e4_4d07_11e8_90d6_002710e3a2d8\" > \n",
       "<thead>    <tr> \n",
       "        <th class=\"blank level0\" ></th> \n",
       "        <th class=\"col_heading level0 col0\" >qty</th> \n",
       "        <th class=\"col_heading level0 col1\" >maturity</th> \n",
       "        <th class=\"col_heading level0 col2\" >right</th> \n",
       "        <th class=\"col_heading level0 col3\" >price</th> \n",
       "        <th class=\"col_heading level0 col4\" >iv</th> \n",
       "        <th class=\"col_heading level0 col5\" >delta</th> \n",
       "        <th class=\"col_heading level0 col6\" >gamma</th> \n",
       "        <th class=\"col_heading level0 col7\" >vega</th> \n",
       "        <th class=\"col_heading level0 col8\" >theta</th> \n",
       "    </tr></thead> \n",
       "<tbody>    <tr> \n",
       "        <th id=\"T_b68e56e4_4d07_11e8_90d6_002710e3a2d8level0_row0\" class=\"row_heading level0 row0\" >0</th> \n",
       "        <td id=\"T_b68e56e4_4d07_11e8_90d6_002710e3a2d8row0_col0\" class=\"data row0 col0\" >-1</td> \n",
       "        <td id=\"T_b68e56e4_4d07_11e8_90d6_002710e3a2d8row0_col1\" class=\"data row0 col1\" >1804</td> \n",
       "        <td id=\"T_b68e56e4_4d07_11e8_90d6_002710e3a2d8row0_col2\" class=\"data row0 col2\" >C</td> \n",
       "        <td id=\"T_b68e56e4_4d07_11e8_90d6_002710e3a2d8row0_col3\" class=\"data row0 col3\" >55.8</td> \n",
       "        <td id=\"T_b68e56e4_4d07_11e8_90d6_002710e3a2d8row0_col4\" class=\"data row0 col4\" >0.19705</td> \n",
       "        <td id=\"T_b68e56e4_4d07_11e8_90d6_002710e3a2d8row0_col5\" class=\"data row0 col5\" >-0.09</td> \n",
       "        <td id=\"T_b68e56e4_4d07_11e8_90d6_002710e3a2d8row0_col6\" class=\"data row0 col6\" >-0</td> \n",
       "        <td id=\"T_b68e56e4_4d07_11e8_90d6_002710e3a2d8row0_col7\" class=\"data row0 col7\" >-11.4</td> \n",
       "        <td id=\"T_b68e56e4_4d07_11e8_90d6_002710e3a2d8row0_col8\" class=\"data row0 col8\" >2.69</td> \n",
       "    </tr>    <tr> \n",
       "        <th id=\"T_b68e56e4_4d07_11e8_90d6_002710e3a2d8level0_row1\" class=\"row_heading level0 row1\" >1</th> \n",
       "        <td id=\"T_b68e56e4_4d07_11e8_90d6_002710e3a2d8row1_col0\" class=\"data row1 col0\" >0.09</td> \n",
       "        <td id=\"T_b68e56e4_4d07_11e8_90d6_002710e3a2d8row1_col1\" class=\"data row1 col1\" >1804</td> \n",
       "        <td id=\"T_b68e56e4_4d07_11e8_90d6_002710e3a2d8row1_col2\" class=\"data row1 col2\" >F</td> \n",
       "        <td id=\"T_b68e56e4_4d07_11e8_90d6_002710e3a2d8row1_col3\" class=\"data row1 col3\" >20974.1</td> \n",
       "        <td id=\"T_b68e56e4_4d07_11e8_90d6_002710e3a2d8row1_col4\" class=\"data row1 col4\" >None</td> \n",
       "        <td id=\"T_b68e56e4_4d07_11e8_90d6_002710e3a2d8row1_col5\" class=\"data row1 col5\" >0.09</td> \n",
       "        <td id=\"T_b68e56e4_4d07_11e8_90d6_002710e3a2d8row1_col6\" class=\"data row1 col6\" >0</td> \n",
       "        <td id=\"T_b68e56e4_4d07_11e8_90d6_002710e3a2d8row1_col7\" class=\"data row1 col7\" >0</td> \n",
       "        <td id=\"T_b68e56e4_4d07_11e8_90d6_002710e3a2d8row1_col8\" class=\"data row1 col8\" >0</td> \n",
       "    </tr>    <tr> \n",
       "        <th id=\"T_b68e56e4_4d07_11e8_90d6_002710e3a2d8level0_row2\" class=\"row_heading level0 row2\" >sum</th> \n",
       "        <td id=\"T_b68e56e4_4d07_11e8_90d6_002710e3a2d8row2_col0\" class=\"data row2 col0\" >nan</td> \n",
       "        <td id=\"T_b68e56e4_4d07_11e8_90d6_002710e3a2d8row2_col1\" class=\"data row2 col1\" >nan</td> \n",
       "        <td id=\"T_b68e56e4_4d07_11e8_90d6_002710e3a2d8row2_col2\" class=\"data row2 col2\" >nan</td> \n",
       "        <td id=\"T_b68e56e4_4d07_11e8_90d6_002710e3a2d8row2_col3\" class=\"data row2 col3\" >nan</td> \n",
       "        <td id=\"T_b68e56e4_4d07_11e8_90d6_002710e3a2d8row2_col4\" class=\"data row2 col4\" >nan</td> \n",
       "        <td id=\"T_b68e56e4_4d07_11e8_90d6_002710e3a2d8row2_col5\" class=\"data row2 col5\" >0</td> \n",
       "        <td id=\"T_b68e56e4_4d07_11e8_90d6_002710e3a2d8row2_col6\" class=\"data row2 col6\" >-0</td> \n",
       "        <td id=\"T_b68e56e4_4d07_11e8_90d6_002710e3a2d8row2_col7\" class=\"data row2 col7\" >-11.4</td> \n",
       "        <td id=\"T_b68e56e4_4d07_11e8_90d6_002710e3a2d8row2_col8\" class=\"data row2 col8\" >2.69</td> \n",
       "    </tr></tbody> \n",
       "</table> "
      ],
      "text/plain": [
       "<pandas.io.formats.style.Styler at 0x7ff671c74d30>"
      ]
     },
     "execution_count": 80,
     "metadata": {},
     "output_type": "execute_result"
    }
   ],
   "source": [
    "p = Portfolio('2018-03-02 15:15',\n",
    "              [{'qty': -1, 'maturity': '1804', 'right': 'C', 'k': 23000},\n",
    "               {'qty': 0.09, 'maturity': '1804', 'right': 'F'}])\n",
    "p.df.round(2).style.set_properties(**{'font-size': '18px'})"
   ]
  },
  {
   "cell_type": "markdown",
   "metadata": {
    "slideshow": {
     "slide_type": "slide"
    }
   },
   "source": [
    "### 2018年4月限 @2018年3月5日"
   ]
  },
  {
   "cell_type": "code",
   "execution_count": 8,
   "metadata": {
    "slideshow": {
     "slide_type": "subslide"
    }
   },
   "outputs": [
    {
     "data": {
      "image/png": "[encoded data removed]",
      "text/plain": [
       "<matplotlib.figure.Figure at 0x7fd6bcada208>"
      ]
     },
     "metadata": {},
     "output_type": "display_data"
    }
   ],
   "source": [
    "plot_iv('2018-03-02 15:15', '2018-03-05 15:15', '1804')"
   ]
  },
  {
   "cell_type": "code",
   "execution_count": 9,
   "metadata": {
    "slideshow": {
     "slide_type": "subslide"
    }
   },
   "outputs": [
    {
     "data": {
      "text/html": [
       "<div>\n",
       "<style scoped>\n",
       "    .dataframe tbody tr th:only-of-type {\n",
       "        vertical-align: middle;\n",
       "    }\n",
       "\n",
       "    .dataframe tbody tr th {\n",
       "        vertical-align: top;\n",
       "    }\n",
       "\n",
       "    .dataframe thead th {\n",
       "        text-align: right;\n",
       "    }\n",
       "</style>\n",
       "<table border=\"1\" class=\"dataframe\">\n",
       "  <thead>\n",
       "    <tr style=\"text-align: right;\">\n",
       "      <th></th>\n",
       "      <th>qty</th>\n",
       "      <th>maturity</th>\n",
       "      <th>right</th>\n",
       "      <th>price</th>\n",
       "      <th>iv</th>\n",
       "      <th>delta</th>\n",
       "      <th>gamma</th>\n",
       "      <th>vega</th>\n",
       "      <th>theta</th>\n",
       "      <th>P/L</th>\n",
       "    </tr>\n",
       "  </thead>\n",
       "  <tbody>\n",
       "    <tr>\n",
       "      <th>0</th>\n",
       "      <td>-1</td>\n",
       "      <td>1804</td>\n",
       "      <td>C</td>\n",
       "      <td>38.8571</td>\n",
       "      <td>0.200565</td>\n",
       "      <td>-0.066809</td>\n",
       "      <td>-0.000095</td>\n",
       "      <td>-8.780012</td>\n",
       "      <td>2.276524</td>\n",
       "      <td>16.9442</td>\n",
       "    </tr>\n",
       "    <tr>\n",
       "      <th>1</th>\n",
       "      <td>0.09</td>\n",
       "      <td>1804</td>\n",
       "      <td>F</td>\n",
       "      <td>20806.1000</td>\n",
       "      <td>None</td>\n",
       "      <td>0.090000</td>\n",
       "      <td>0.000000</td>\n",
       "      <td>0.000000</td>\n",
       "      <td>0.000000</td>\n",
       "      <td>-15.1200</td>\n",
       "    </tr>\n",
       "    <tr>\n",
       "      <th>sum</th>\n",
       "      <td>NaN</td>\n",
       "      <td>NaN</td>\n",
       "      <td>NaN</td>\n",
       "      <td>NaN</td>\n",
       "      <td>NaN</td>\n",
       "      <td>0.023191</td>\n",
       "      <td>-0.000095</td>\n",
       "      <td>-8.780012</td>\n",
       "      <td>2.276524</td>\n",
       "      <td>1.8242</td>\n",
       "    </tr>\n",
       "  </tbody>\n",
       "</table>\n",
       "</div>"
      ],
      "text/plain": [
       "      qty maturity right       price        iv     delta     gamma      vega  \\\n",
       "0      -1     1804     C     38.8571  0.200565 -0.066809 -0.000095 -8.780012   \n",
       "1    0.09     1804     F  20806.1000      None  0.090000  0.000000  0.000000   \n",
       "sum   NaN      NaN   NaN         NaN       NaN  0.023191 -0.000095 -8.780012   \n",
       "\n",
       "        theta      P/L  \n",
       "0    2.276524  16.9442  \n",
       "1    0.000000 -15.1200  \n",
       "sum  2.276524   1.8242  "
      ]
     },
     "execution_count": 9,
     "metadata": {},
     "output_type": "execute_result"
    }
   ],
   "source": [
    "p.get_status('2018-03-05 15:15')"
   ]
  },
  {
   "cell_type": "markdown",
   "metadata": {
    "slideshow": {
     "slide_type": "subslide"
    }
   },
   "source": [
    "### 2018年4月限 @2018年3月6日"
   ]
  },
  {
   "cell_type": "code",
   "execution_count": 10,
   "metadata": {
    "slideshow": {
     "slide_type": "subslide"
    }
   },
   "outputs": [
    {
     "data": {
      "image/png": "[encoded data removed]",
      "text/plain": [
       "<matplotlib.figure.Figure at 0x7fd6ba4e5978>"
      ]
     },
     "metadata": {},
     "output_type": "display_data"
    }
   ],
   "source": [
    "plot_iv('2018-03-05 15:15', '2018-03-06 15:15', '1804')"
   ]
  },
  {
   "cell_type": "code",
   "execution_count": 11,
   "metadata": {
    "slideshow": {
     "slide_type": "subslide"
    }
   },
   "outputs": [
    {
     "data": {
      "text/html": [
       "<div>\n",
       "<style scoped>\n",
       "    .dataframe tbody tr th:only-of-type {\n",
       "        vertical-align: middle;\n",
       "    }\n",
       "\n",
       "    .dataframe tbody tr th {\n",
       "        vertical-align: top;\n",
       "    }\n",
       "\n",
       "    .dataframe thead th {\n",
       "        text-align: right;\n",
       "    }\n",
       "</style>\n",
       "<table border=\"1\" class=\"dataframe\">\n",
       "  <thead>\n",
       "    <tr style=\"text-align: right;\">\n",
       "      <th></th>\n",
       "      <th>qty</th>\n",
       "      <th>maturity</th>\n",
       "      <th>right</th>\n",
       "      <th>price</th>\n",
       "      <th>iv</th>\n",
       "      <th>delta</th>\n",
       "      <th>gamma</th>\n",
       "      <th>vega</th>\n",
       "      <th>theta</th>\n",
       "      <th>P/L</th>\n",
       "    </tr>\n",
       "  </thead>\n",
       "  <tbody>\n",
       "    <tr>\n",
       "      <th>0</th>\n",
       "      <td>-1</td>\n",
       "      <td>1804</td>\n",
       "      <td>C</td>\n",
       "      <td>65.1596</td>\n",
       "      <td>0.189611</td>\n",
       "      <td>-0.107228</td>\n",
       "      <td>-0.000142</td>\n",
       "      <td>-12.634479</td>\n",
       "      <td>3.17997</td>\n",
       "      <td>-9.3583</td>\n",
       "    </tr>\n",
       "    <tr>\n",
       "      <th>1</th>\n",
       "      <td>0.09</td>\n",
       "      <td>1804</td>\n",
       "      <td>F</td>\n",
       "      <td>21281.7000</td>\n",
       "      <td>None</td>\n",
       "      <td>0.090000</td>\n",
       "      <td>0.000000</td>\n",
       "      <td>0.000000</td>\n",
       "      <td>0.00000</td>\n",
       "      <td>27.6840</td>\n",
       "    </tr>\n",
       "    <tr>\n",
       "      <th>sum</th>\n",
       "      <td>NaN</td>\n",
       "      <td>NaN</td>\n",
       "      <td>NaN</td>\n",
       "      <td>NaN</td>\n",
       "      <td>NaN</td>\n",
       "      <td>-0.017228</td>\n",
       "      <td>-0.000142</td>\n",
       "      <td>-12.634479</td>\n",
       "      <td>3.17997</td>\n",
       "      <td>18.3257</td>\n",
       "    </tr>\n",
       "  </tbody>\n",
       "</table>\n",
       "</div>"
      ],
      "text/plain": [
       "      qty maturity right       price        iv     delta     gamma       vega  \\\n",
       "0      -1     1804     C     65.1596  0.189611 -0.107228 -0.000142 -12.634479   \n",
       "1    0.09     1804     F  21281.7000      None  0.090000  0.000000   0.000000   \n",
       "sum   NaN      NaN   NaN         NaN       NaN -0.017228 -0.000142 -12.634479   \n",
       "\n",
       "       theta      P/L  \n",
       "0    3.17997  -9.3583  \n",
       "1    0.00000  27.6840  \n",
       "sum  3.17997  18.3257  "
      ]
     },
     "execution_count": 11,
     "metadata": {},
     "output_type": "execute_result"
    }
   ],
   "source": [
    "p.get_status('2018-03-06 15:15')"
   ]
  },
  {
   "cell_type": "code",
   "execution_count": null,
   "metadata": {},
   "outputs": [],
   "source": []
  }
 ],
 "metadata": {
  "celltoolbar": "Slideshow",
  "hide_input": false,
  "kernelspec": {
   "display_name": "Python 3",
   "language": "python",
   "name": "python3"
  },
  "language_info": {
   "codemirror_mode": {
    "name": "ipython",
    "version": 3
   },
   "file_extension": ".py",
   "mimetype": "text/x-python",
   "name": "python",
   "nbconvert_exporter": "python",
   "pygments_lexer": "ipython3",
   "version": "3.6.3"
  }
 },
 "nbformat": 4,
 "nbformat_minor": 2
}
