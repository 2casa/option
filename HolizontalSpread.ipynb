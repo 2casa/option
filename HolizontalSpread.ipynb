{
 "cells": [
  {
   "cell_type": "code",
   "execution_count": 6,
   "metadata": {},
   "outputs": [],
   "source": [
    "import load_data"
   ]
  },
  {
   "cell_type": "code",
   "execution_count": 13,
   "metadata": {},
   "outputs": [],
   "source": [
    "(s0_1, t_1, op_df1, full_price1), (s0_2, t_2, op_df2, full_price2) = load_data.get_fop_data(load_data.s_df.index[0])"
   ]
  },
  {
   "cell_type": "markdown",
   "metadata": {
    "slideshow": {
     "slide_type": "slide"
    }
   },
   "source": [
    "# ホリゾンタルスプレッド"
   ]
  },
  {
   "cell_type": "markdown",
   "metadata": {
    "slideshow": {
     "slide_type": "slide"
    }
   },
   "source": [
    "### バーティカルスプレッド\n",
    "同一限月のオプションの組み合わせ\n",
    "* デビッド\n",
    "* バタフライ\n",
    "* etc"
   ]
  },
  {
   "cell_type": "markdown",
   "metadata": {
    "slideshow": {
     "slide_type": "subslide"
    }
   },
   "source": [
    "### ホリゾンタルスプレッド\n",
    "異なる限月のオプションの組み合わせ\n",
    "* カレンダー\n",
    "* リバースカレンダー"
   ]
  },
  {
   "cell_type": "markdown",
   "metadata": {
    "slideshow": {
     "slide_type": "slide"
    }
   },
   "source": [
    "### 時間による影響を整理\n",
    "\n",
    "満期までの期間|短い|長い\n",
    "---|---|---\n",
    "ベガ|小|大\n",
    "ガンマ|大|小"
   ]
  },
  {
   "cell_type": "markdown",
   "metadata": {
    "slideshow": {
     "slide_type": "slide"
    }
   },
   "source": [
    "### 満期までの期間が短いほど\n",
    "原資産の変動(ガンマ/セータ)の影響が大きい\n",
    "\n",
    "### 満期までの期間が長いほど\n",
    "ボラティリティ(ベガ)の影響が大きい"
   ]
  },
  {
   "cell_type": "markdown",
   "metadata": {
    "slideshow": {
     "slide_type": "slide"
    }
   },
   "source": [
    "### カレンダースプレッド\n",
    "* 期近をショート・期先をロング(1:1)\n",
    "* ガンマ-\n",
    "* ベガ+\n",
    "* セータ+"
   ]
  },
  {
   "cell_type": "markdown",
   "metadata": {
    "slideshow": {
     "slide_type": "subslide"
    }
   },
   "source": [
    "デルタ\n",
    "* ATMで組んで場合にはニュートラル\n",
    "* OTMで組んだ場合には期先のデルタの絶対値が大きくなる  \n",
    "  -> 必要に応じてデルタヘッジ"
   ]
  },
  {
   "cell_type": "markdown",
   "metadata": {},
   "source": [
    "### リバースカレンダースプレッド\n",
    "* 期近をロング・期先をショート(1:1)\n",
    "* ガンマ+\n",
    "* ベガ-\n",
    "* セータ-"
   ]
  },
  {
   "cell_type": "markdown",
   "metadata": {},
   "source": [
    "デルタ\n",
    "* ATMで組んで場合にはニュートラル\n",
    "* OTMで組んだ場合には期先のデルタの絶対値が大きくなる  \n",
    "  -> 必要に応じてデルタヘッジ"
   ]
  },
  {
   "cell_type": "markdown",
   "metadata": {},
   "source": [
    "### ダイアゴナルスプレッド\n",
    "* 異なる限月・権利行使価格のオプションをロング・ショート\n",
    "* 通常は期先のほうが期近よりもOTM側になる\n",
    "* デルタがニュートラルな権利行使価格同士で組むことが多い"
   ]
  },
  {
   "cell_type": "markdown",
   "metadata": {},
   "source": [
    "### コンタンゴ(順ザヤ)\n",
    "* 期近のボラティリティ > 期先のボラティリティ\n",
    "* 平時の状態に多い"
   ]
  },
  {
   "cell_type": "markdown",
   "metadata": {},
   "source": [
    "### バックワーデーション(逆ザヤ)\n",
    "* 期近のボラティリティ < 期先のボラティリティ\n",
    "* 相場が波乱になった場合に多い"
   ]
  },
  {
   "cell_type": "markdown",
   "metadata": {},
   "source": [
    "### ホリゾンタルスプレッド\n",
    "\n",
    "* グリークスの相場観  \n",
    "  - ガンマ/セータ\n",
    "  - ベガ\n",
    "* ボラティリティの鞘(期近と期先の差)をとりにいく"
   ]
  },
  {
   "cell_type": "code",
   "execution_count": null,
   "metadata": {},
   "outputs": [],
   "source": []
  }
 ],
 "metadata": {
  "celltoolbar": "Slideshow",
  "hide_input": false,
  "kernelspec": {
   "display_name": "Python 3",
   "language": "python",
   "name": "python3"
  },
  "language_info": {
   "codemirror_mode": {
    "name": "ipython",
    "version": 3
   },
   "file_extension": ".py",
   "mimetype": "text/x-python",
   "name": "python",
   "nbconvert_exporter": "python",
   "pygments_lexer": "ipython3",
   "version": "3.6.3"
  },
  "varInspector": {
   "cols": {
    "lenName": 16,
    "lenType": 16,
    "lenVar": 40
   },
   "kernels_config": {
    "python": {
     "delete_cmd_postfix": "",
     "delete_cmd_prefix": "del ",
     "library": "var_list.py",
     "varRefreshCmd": "print(var_dic_list())"
    },
    "r": {
     "delete_cmd_postfix": ") ",
     "delete_cmd_prefix": "rm(",
     "library": "var_list.r",
     "varRefreshCmd": "cat(var_dic_list()) "
    }
   },
   "types_to_exclude": [
    "module",
    "function",
    "builtin_function_or_method",
    "instance",
    "_Feature"
   ],
   "window_display": false
  }
 },
 "nbformat": 4,
 "nbformat_minor": 2
}
