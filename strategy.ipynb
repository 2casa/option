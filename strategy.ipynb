{
 "cells": [
  {
   "cell_type": "markdown",
   "metadata": {},
   "source": [
    "# オプション戦略"
   ]
  },
  {
   "cell_type": "code",
   "execution_count": 1,
   "metadata": {},
   "outputs": [],
   "source": [
    "import pandas as pd\n",
    "import ivolat3\n",
    "from payoff import plot_payoff\n",
    "\n",
    "pd.options.display.max_rows = 999\n",
    "\n",
    "s_df = pd.read_pickle('data/s.pickle')\n",
    "op1_df = pd.read_pickle('data/op1.pickle')\n",
    "op2_df = pd.read_pickle('data/op1.pickle')"
   ]
  },
  {
   "cell_type": "markdown",
   "metadata": {},
   "source": [
    "### 2018年2月26日のデータ"
   ]
  },
  {
   "cell_type": "code",
   "execution_count": 2,
   "metadata": {},
   "outputs": [],
   "source": [
    "t0 = pd.to_datetime('2018-02-26 15:15')\n",
    "t1 = pd.to_datetime('2018-03-09 09:00')\n",
    "s0 = s_df.loc[t0, '1803']\n",
    "r = 0.001\n",
    "delta_t = t1 - t0\n",
    "t = (delta_t.days / 365) + (delta_t.seconds / 31536000)\n",
    "op_df = op1_df.loc['2018-02-26 15:15'].dropna().copy()"
   ]
  },
  {
   "cell_type": "code",
   "execution_count": 3,
   "metadata": {},
   "outputs": [
    {
     "data": {
      "text/plain": [
       "'先物価格:22214.1, 満期までの期間:0.02942351598173516'"
      ]
     },
     "execution_count": 3,
     "metadata": {},
     "output_type": "execute_result"
    }
   ],
   "source": [
    "'先物価格:{}, 満期までの期間:{}'.format(s0, t)"
   ]
  },
  {
   "cell_type": "code",
   "execution_count": 4,
   "metadata": {},
   "outputs": [
    {
     "data": {
      "text/html": [
       "<div>\n",
       "<style scoped>\n",
       "    .dataframe tbody tr th:only-of-type {\n",
       "        vertical-align: middle;\n",
       "    }\n",
       "\n",
       "    .dataframe tbody tr th {\n",
       "        vertical-align: top;\n",
       "    }\n",
       "\n",
       "    .dataframe thead th {\n",
       "        text-align: right;\n",
       "    }\n",
       "</style>\n",
       "<table border=\"1\" class=\"dataframe\">\n",
       "  <thead>\n",
       "    <tr style=\"text-align: right;\">\n",
       "      <th></th>\n",
       "      <th>price</th>\n",
       "      <th>iv</th>\n",
       "      <th>Call/Put</th>\n",
       "    </tr>\n",
       "    <tr>\n",
       "      <th>k</th>\n",
       "      <th></th>\n",
       "      <th></th>\n",
       "      <th></th>\n",
       "    </tr>\n",
       "  </thead>\n",
       "  <tbody>\n",
       "    <tr>\n",
       "      <th>15750.0</th>\n",
       "      <td>1.83762</td>\n",
       "      <td>0.719635</td>\n",
       "      <td>P</td>\n",
       "    </tr>\n",
       "    <tr>\n",
       "      <th>16000.0</th>\n",
       "      <td>1.91618</td>\n",
       "      <td>0.692107</td>\n",
       "      <td>P</td>\n",
       "    </tr>\n",
       "    <tr>\n",
       "      <th>16250.0</th>\n",
       "      <td>1.98373</td>\n",
       "      <td>0.664316</td>\n",
       "      <td>P</td>\n",
       "    </tr>\n",
       "    <tr>\n",
       "      <th>16500.0</th>\n",
       "      <td>2.73333</td>\n",
       "      <td>0.655723</td>\n",
       "      <td>P</td>\n",
       "    </tr>\n",
       "    <tr>\n",
       "      <th>16750.0</th>\n",
       "      <td>2.855</td>\n",
       "      <td>0.628376</td>\n",
       "      <td>P</td>\n",
       "    </tr>\n",
       "  </tbody>\n",
       "</table>\n",
       "</div>"
      ],
      "text/plain": [
       "           price        iv Call/Put\n",
       "k                                  \n",
       "15750.0  1.83762  0.719635        P\n",
       "16000.0  1.91618  0.692107        P\n",
       "16250.0  1.98373  0.664316        P\n",
       "16500.0  2.73333  0.655723        P\n",
       "16750.0    2.855  0.628376        P"
      ]
     },
     "execution_count": 4,
     "metadata": {},
     "output_type": "execute_result"
    }
   ],
   "source": [
    "op_df.head()"
   ]
  },
  {
   "cell_type": "code",
   "execution_count": 5,
   "metadata": {},
   "outputs": [],
   "source": [
    "def _get_greeks(fop):\n",
    "    right, qty_price = fop.split('x')\n",
    "    qty = float(qty_price.split('@')[0])\n",
    "    if right == 's':\n",
    "        return 'f', qty, 0, 0, 0\n",
    "    \n",
    "    k = float(right[:-1])\n",
    "    pc = right[-1]\n",
    "    sigma = op_df.loc[k, 'iv']\n",
    "    delta = qty * ivolat3.delta(s0, k, r, 0, t, sigma, pc)\n",
    "    gamma = qty * ivolat3.gamma(s0, k, r, 0, t, sigma)\n",
    "    vega = qty * ivolat3.vega(s0, k, r, 0, t, sigma) * 0.01\n",
    "    theta = qty * ivolat3.theta(s0, k, r, 0, t, sigma, pc) / 365\n",
    "    return right, delta, gamma, vega, theta"
   ]
  },
  {
   "cell_type": "code",
   "execution_count": 6,
   "metadata": {},
   "outputs": [],
   "source": [
    "def get_greeks(portfolio):\n",
    "    df = pd.DataFrame([_get_greeks(p) for p in portfolio],\n",
    "                     columns=['right', 'delta', 'gamma', 'vega', 'theta'])\n",
    "    df.set_index('right', inplace=True)\n",
    "    df.loc['sum'] = df.sum()\n",
    "    return df"
   ]
  },
  {
   "cell_type": "markdown",
   "metadata": {},
   "source": [
    "### 2018年3月限のオプションの価格\n",
    "\n",
    "k: 権利行使価格  \n",
    "price: 仲値  \n",
    "iv: ボラティリティ  \n",
    "Call/Put: コールまたはプット"
   ]
  },
  {
   "cell_type": "code",
   "execution_count": 7,
   "metadata": {
    "scrolled": true
   },
   "outputs": [
    {
     "data": {
      "text/html": [
       "<div>\n",
       "<style scoped>\n",
       "    .dataframe tbody tr th:only-of-type {\n",
       "        vertical-align: middle;\n",
       "    }\n",
       "\n",
       "    .dataframe tbody tr th {\n",
       "        vertical-align: top;\n",
       "    }\n",
       "\n",
       "    .dataframe thead th {\n",
       "        text-align: right;\n",
       "    }\n",
       "</style>\n",
       "<table border=\"1\" class=\"dataframe\">\n",
       "  <thead>\n",
       "    <tr style=\"text-align: right;\">\n",
       "      <th></th>\n",
       "      <th>price</th>\n",
       "      <th>iv</th>\n",
       "      <th>Call/Put</th>\n",
       "    </tr>\n",
       "    <tr>\n",
       "      <th>k</th>\n",
       "      <th></th>\n",
       "      <th></th>\n",
       "      <th></th>\n",
       "    </tr>\n",
       "  </thead>\n",
       "  <tbody>\n",
       "    <tr>\n",
       "      <th>15750.0</th>\n",
       "      <td>1.83762</td>\n",
       "      <td>0.719635</td>\n",
       "      <td>P</td>\n",
       "    </tr>\n",
       "    <tr>\n",
       "      <th>16000.0</th>\n",
       "      <td>1.91618</td>\n",
       "      <td>0.692107</td>\n",
       "      <td>P</td>\n",
       "    </tr>\n",
       "    <tr>\n",
       "      <th>16250.0</th>\n",
       "      <td>1.98373</td>\n",
       "      <td>0.664316</td>\n",
       "      <td>P</td>\n",
       "    </tr>\n",
       "    <tr>\n",
       "      <th>16500.0</th>\n",
       "      <td>2.73333</td>\n",
       "      <td>0.655723</td>\n",
       "      <td>P</td>\n",
       "    </tr>\n",
       "    <tr>\n",
       "      <th>16750.0</th>\n",
       "      <td>2.855</td>\n",
       "      <td>0.628376</td>\n",
       "      <td>P</td>\n",
       "    </tr>\n",
       "    <tr>\n",
       "      <th>17000.0</th>\n",
       "      <td>3.52886</td>\n",
       "      <td>0.61238</td>\n",
       "      <td>P</td>\n",
       "    </tr>\n",
       "    <tr>\n",
       "      <th>17250.0</th>\n",
       "      <td>3.90949</td>\n",
       "      <td>0.588903</td>\n",
       "      <td>P</td>\n",
       "    </tr>\n",
       "    <tr>\n",
       "      <th>17500.0</th>\n",
       "      <td>4.63427</td>\n",
       "      <td>0.569882</td>\n",
       "      <td>P</td>\n",
       "    </tr>\n",
       "    <tr>\n",
       "      <th>17750.0</th>\n",
       "      <td>5.09237</td>\n",
       "      <td>0.545632</td>\n",
       "      <td>P</td>\n",
       "    </tr>\n",
       "    <tr>\n",
       "      <th>18000.0</th>\n",
       "      <td>5.99268</td>\n",
       "      <td>0.525789</td>\n",
       "      <td>P</td>\n",
       "    </tr>\n",
       "    <tr>\n",
       "      <th>18250.0</th>\n",
       "      <td>7.04284</td>\n",
       "      <td>0.505644</td>\n",
       "      <td>P</td>\n",
       "    </tr>\n",
       "    <tr>\n",
       "      <th>18500.0</th>\n",
       "      <td>7.91892</td>\n",
       "      <td>0.482303</td>\n",
       "      <td>P</td>\n",
       "    </tr>\n",
       "    <tr>\n",
       "      <th>18750.0</th>\n",
       "      <td>9.00889</td>\n",
       "      <td>0.459455</td>\n",
       "      <td>P</td>\n",
       "    </tr>\n",
       "    <tr>\n",
       "      <th>19000.0</th>\n",
       "      <td>10.7982</td>\n",
       "      <td>0.439673</td>\n",
       "      <td>P</td>\n",
       "    </tr>\n",
       "    <tr>\n",
       "      <th>19125.0</th>\n",
       "      <td>11.5</td>\n",
       "      <td>0.427816</td>\n",
       "      <td>P</td>\n",
       "    </tr>\n",
       "    <tr>\n",
       "      <th>19250.0</th>\n",
       "      <td>12.8129</td>\n",
       "      <td>0.418812</td>\n",
       "      <td>P</td>\n",
       "    </tr>\n",
       "    <tr>\n",
       "      <th>19375.0</th>\n",
       "      <td>14.124</td>\n",
       "      <td>0.408991</td>\n",
       "      <td>P</td>\n",
       "    </tr>\n",
       "    <tr>\n",
       "      <th>19500.0</th>\n",
       "      <td>15.0888</td>\n",
       "      <td>0.396954</td>\n",
       "      <td>P</td>\n",
       "    </tr>\n",
       "    <tr>\n",
       "      <th>19625.0</th>\n",
       "      <td>16.6809</td>\n",
       "      <td>0.387047</td>\n",
       "      <td>P</td>\n",
       "    </tr>\n",
       "    <tr>\n",
       "      <th>19750.0</th>\n",
       "      <td>18.0312</td>\n",
       "      <td>0.375485</td>\n",
       "      <td>P</td>\n",
       "    </tr>\n",
       "    <tr>\n",
       "      <th>19875.0</th>\n",
       "      <td>20.2134</td>\n",
       "      <td>0.366192</td>\n",
       "      <td>P</td>\n",
       "    </tr>\n",
       "    <tr>\n",
       "      <th>20000.0</th>\n",
       "      <td>22.1687</td>\n",
       "      <td>0.355246</td>\n",
       "      <td>P</td>\n",
       "    </tr>\n",
       "    <tr>\n",
       "      <th>20125.0</th>\n",
       "      <td>24.2222</td>\n",
       "      <td>0.34384</td>\n",
       "      <td>P</td>\n",
       "    </tr>\n",
       "    <tr>\n",
       "      <th>20250.0</th>\n",
       "      <td>27.0323</td>\n",
       "      <td>0.333662</td>\n",
       "      <td>P</td>\n",
       "    </tr>\n",
       "    <tr>\n",
       "      <th>20375.0</th>\n",
       "      <td>30.0102</td>\n",
       "      <td>0.32289</td>\n",
       "      <td>P</td>\n",
       "    </tr>\n",
       "    <tr>\n",
       "      <th>20500.0</th>\n",
       "      <td>33.7129</td>\n",
       "      <td>0.312693</td>\n",
       "      <td>P</td>\n",
       "    </tr>\n",
       "    <tr>\n",
       "      <th>20625.0</th>\n",
       "      <td>37.0312</td>\n",
       "      <td>0.300618</td>\n",
       "      <td>P</td>\n",
       "    </tr>\n",
       "    <tr>\n",
       "      <th>20750.0</th>\n",
       "      <td>42.0484</td>\n",
       "      <td>0.290603</td>\n",
       "      <td>P</td>\n",
       "    </tr>\n",
       "    <tr>\n",
       "      <th>20875.0</th>\n",
       "      <td>47.5556</td>\n",
       "      <td>0.279982</td>\n",
       "      <td>P</td>\n",
       "    </tr>\n",
       "    <tr>\n",
       "      <th>21000.0</th>\n",
       "      <td>54.4845</td>\n",
       "      <td>0.269986</td>\n",
       "      <td>P</td>\n",
       "    </tr>\n",
       "    <tr>\n",
       "      <th>21125.0</th>\n",
       "      <td>61.7717</td>\n",
       "      <td>0.258792</td>\n",
       "      <td>P</td>\n",
       "    </tr>\n",
       "    <tr>\n",
       "      <th>21250.0</th>\n",
       "      <td>71.8098</td>\n",
       "      <td>0.249176</td>\n",
       "      <td>P</td>\n",
       "    </tr>\n",
       "    <tr>\n",
       "      <th>21375.0</th>\n",
       "      <td>83.8667</td>\n",
       "      <td>0.239566</td>\n",
       "      <td>P</td>\n",
       "    </tr>\n",
       "    <tr>\n",
       "      <th>21500.0</th>\n",
       "      <td>100.897</td>\n",
       "      <td>0.232302</td>\n",
       "      <td>P</td>\n",
       "    </tr>\n",
       "    <tr>\n",
       "      <th>21625.0</th>\n",
       "      <td>115.062</td>\n",
       "      <td>0.219551</td>\n",
       "      <td>P</td>\n",
       "    </tr>\n",
       "    <tr>\n",
       "      <th>21750.0</th>\n",
       "      <td>139.474</td>\n",
       "      <td>0.212425</td>\n",
       "      <td>P</td>\n",
       "    </tr>\n",
       "    <tr>\n",
       "      <th>21875.0</th>\n",
       "      <td>167.115</td>\n",
       "      <td>0.203922</td>\n",
       "      <td>P</td>\n",
       "    </tr>\n",
       "    <tr>\n",
       "      <th>22000.0</th>\n",
       "      <td>201.898</td>\n",
       "      <td>0.196336</td>\n",
       "      <td>P</td>\n",
       "    </tr>\n",
       "    <tr>\n",
       "      <th>22125.0</th>\n",
       "      <td>247.857</td>\n",
       "      <td>0.191515</td>\n",
       "      <td>P</td>\n",
       "    </tr>\n",
       "    <tr>\n",
       "      <th>22250.0</th>\n",
       "      <td>261.136</td>\n",
       "      <td>0.183005</td>\n",
       "      <td>C</td>\n",
       "    </tr>\n",
       "    <tr>\n",
       "      <th>22375.0</th>\n",
       "      <td>197.241</td>\n",
       "      <td>0.176868</td>\n",
       "      <td>C</td>\n",
       "    </tr>\n",
       "    <tr>\n",
       "      <th>22500.0</th>\n",
       "      <td>144.965</td>\n",
       "      <td>0.17216</td>\n",
       "      <td>C</td>\n",
       "    </tr>\n",
       "    <tr>\n",
       "      <th>22625.0</th>\n",
       "      <td>108.198</td>\n",
       "      <td>0.172209</td>\n",
       "      <td>C</td>\n",
       "    </tr>\n",
       "    <tr>\n",
       "      <th>22750.0</th>\n",
       "      <td>76.4527</td>\n",
       "      <td>0.169926</td>\n",
       "      <td>C</td>\n",
       "    </tr>\n",
       "    <tr>\n",
       "      <th>22875.0</th>\n",
       "      <td>54.9558</td>\n",
       "      <td>0.170694</td>\n",
       "      <td>C</td>\n",
       "    </tr>\n",
       "    <tr>\n",
       "      <th>23000.0</th>\n",
       "      <td>37.9677</td>\n",
       "      <td>0.170424</td>\n",
       "      <td>C</td>\n",
       "    </tr>\n",
       "    <tr>\n",
       "      <th>23125.0</th>\n",
       "      <td>26.275</td>\n",
       "      <td>0.171314</td>\n",
       "      <td>C</td>\n",
       "    </tr>\n",
       "    <tr>\n",
       "      <th>23250.0</th>\n",
       "      <td>17.994</td>\n",
       "      <td>0.172478</td>\n",
       "      <td>C</td>\n",
       "    </tr>\n",
       "    <tr>\n",
       "      <th>23375.0</th>\n",
       "      <td>12.9683</td>\n",
       "      <td>0.175904</td>\n",
       "      <td>C</td>\n",
       "    </tr>\n",
       "    <tr>\n",
       "      <th>23500.0</th>\n",
       "      <td>8.99706</td>\n",
       "      <td>0.17816</td>\n",
       "      <td>C</td>\n",
       "    </tr>\n",
       "    <tr>\n",
       "      <th>23625.0</th>\n",
       "      <td>6.87132</td>\n",
       "      <td>0.183405</td>\n",
       "      <td>C</td>\n",
       "    </tr>\n",
       "    <tr>\n",
       "      <th>23750.0</th>\n",
       "      <td>4.98936</td>\n",
       "      <td>0.187001</td>\n",
       "      <td>C</td>\n",
       "    </tr>\n",
       "    <tr>\n",
       "      <th>23875.0</th>\n",
       "      <td>3.83624</td>\n",
       "      <td>0.192046</td>\n",
       "      <td>C</td>\n",
       "    </tr>\n",
       "    <tr>\n",
       "      <th>24000.0</th>\n",
       "      <td>2.86294</td>\n",
       "      <td>0.196121</td>\n",
       "      <td>C</td>\n",
       "    </tr>\n",
       "    <tr>\n",
       "      <th>24125.0</th>\n",
       "      <td>2.05158</td>\n",
       "      <td>0.199089</td>\n",
       "      <td>C</td>\n",
       "    </tr>\n",
       "    <tr>\n",
       "      <th>24250.0</th>\n",
       "      <td>1.82305</td>\n",
       "      <td>0.207065</td>\n",
       "      <td>C</td>\n",
       "    </tr>\n",
       "    <tr>\n",
       "      <th>24375.0</th>\n",
       "      <td>1.70825</td>\n",
       "      <td>0.216083</td>\n",
       "      <td>C</td>\n",
       "    </tr>\n",
       "  </tbody>\n",
       "</table>\n",
       "</div>"
      ],
      "text/plain": [
       "           price        iv Call/Put\n",
       "k                                  \n",
       "15750.0  1.83762  0.719635        P\n",
       "16000.0  1.91618  0.692107        P\n",
       "16250.0  1.98373  0.664316        P\n",
       "16500.0  2.73333  0.655723        P\n",
       "16750.0    2.855  0.628376        P\n",
       "17000.0  3.52886   0.61238        P\n",
       "17250.0  3.90949  0.588903        P\n",
       "17500.0  4.63427  0.569882        P\n",
       "17750.0  5.09237  0.545632        P\n",
       "18000.0  5.99268  0.525789        P\n",
       "18250.0  7.04284  0.505644        P\n",
       "18500.0  7.91892  0.482303        P\n",
       "18750.0  9.00889  0.459455        P\n",
       "19000.0  10.7982  0.439673        P\n",
       "19125.0     11.5  0.427816        P\n",
       "19250.0  12.8129  0.418812        P\n",
       "19375.0   14.124  0.408991        P\n",
       "19500.0  15.0888  0.396954        P\n",
       "19625.0  16.6809  0.387047        P\n",
       "19750.0  18.0312  0.375485        P\n",
       "19875.0  20.2134  0.366192        P\n",
       "20000.0  22.1687  0.355246        P\n",
       "20125.0  24.2222   0.34384        P\n",
       "20250.0  27.0323  0.333662        P\n",
       "20375.0  30.0102   0.32289        P\n",
       "20500.0  33.7129  0.312693        P\n",
       "20625.0  37.0312  0.300618        P\n",
       "20750.0  42.0484  0.290603        P\n",
       "20875.0  47.5556  0.279982        P\n",
       "21000.0  54.4845  0.269986        P\n",
       "21125.0  61.7717  0.258792        P\n",
       "21250.0  71.8098  0.249176        P\n",
       "21375.0  83.8667  0.239566        P\n",
       "21500.0  100.897  0.232302        P\n",
       "21625.0  115.062  0.219551        P\n",
       "21750.0  139.474  0.212425        P\n",
       "21875.0  167.115  0.203922        P\n",
       "22000.0  201.898  0.196336        P\n",
       "22125.0  247.857  0.191515        P\n",
       "22250.0  261.136  0.183005        C\n",
       "22375.0  197.241  0.176868        C\n",
       "22500.0  144.965   0.17216        C\n",
       "22625.0  108.198  0.172209        C\n",
       "22750.0  76.4527  0.169926        C\n",
       "22875.0  54.9558  0.170694        C\n",
       "23000.0  37.9677  0.170424        C\n",
       "23125.0   26.275  0.171314        C\n",
       "23250.0   17.994  0.172478        C\n",
       "23375.0  12.9683  0.175904        C\n",
       "23500.0  8.99706   0.17816        C\n",
       "23625.0  6.87132  0.183405        C\n",
       "23750.0  4.98936  0.187001        C\n",
       "23875.0  3.83624  0.192046        C\n",
       "24000.0  2.86294  0.196121        C\n",
       "24125.0  2.05158  0.199089        C\n",
       "24250.0  1.82305  0.207065        C\n",
       "24375.0  1.70825  0.216083        C"
      ]
     },
     "execution_count": 7,
     "metadata": {},
     "output_type": "execute_result"
    }
   ],
   "source": [
    "op1_df.loc['2018-02-26 15:15'].dropna()"
   ]
  },
  {
   "cell_type": "markdown",
   "metadata": {},
   "source": [
    "### 先物ロング/ショート\n",
    "\n",
    "* 相場の上下を予測\n",
    "* デルタだけをとりにいく戦略"
   ]
  },
  {
   "cell_type": "code",
   "execution_count": 8,
   "metadata": {},
   "outputs": [
    {
     "data": {
      "image/png": "[encoded data removed]",
      "text/plain": [
       "<matplotlib.figure.Figure at 0x7f128c309c88>"
      ]
     },
     "metadata": {},
     "output_type": "display_data"
    }
   ],
   "source": [
    "plot_payoff(['sx1@22214'])"
   ]
  },
  {
   "cell_type": "code",
   "execution_count": 9,
   "metadata": {},
   "outputs": [
    {
     "data": {
      "text/html": [
       "<div>\n",
       "<style scoped>\n",
       "    .dataframe tbody tr th:only-of-type {\n",
       "        vertical-align: middle;\n",
       "    }\n",
       "\n",
       "    .dataframe tbody tr th {\n",
       "        vertical-align: top;\n",
       "    }\n",
       "\n",
       "    .dataframe thead th {\n",
       "        text-align: right;\n",
       "    }\n",
       "</style>\n",
       "<table border=\"1\" class=\"dataframe\">\n",
       "  <thead>\n",
       "    <tr style=\"text-align: right;\">\n",
       "      <th></th>\n",
       "      <th>delta</th>\n",
       "      <th>gamma</th>\n",
       "      <th>vega</th>\n",
       "      <th>theta</th>\n",
       "    </tr>\n",
       "    <tr>\n",
       "      <th>right</th>\n",
       "      <th></th>\n",
       "      <th></th>\n",
       "      <th></th>\n",
       "      <th></th>\n",
       "    </tr>\n",
       "  </thead>\n",
       "  <tbody>\n",
       "    <tr>\n",
       "      <th>f</th>\n",
       "      <td>1.0</td>\n",
       "      <td>0.0</td>\n",
       "      <td>0.0</td>\n",
       "      <td>0.0</td>\n",
       "    </tr>\n",
       "    <tr>\n",
       "      <th>sum</th>\n",
       "      <td>1.0</td>\n",
       "      <td>0.0</td>\n",
       "      <td>0.0</td>\n",
       "      <td>0.0</td>\n",
       "    </tr>\n",
       "  </tbody>\n",
       "</table>\n",
       "</div>"
      ],
      "text/plain": [
       "       delta  gamma  vega  theta\n",
       "right                           \n",
       "f        1.0    0.0   0.0    0.0\n",
       "sum      1.0    0.0   0.0    0.0"
      ]
     },
     "execution_count": 9,
     "metadata": {},
     "output_type": "execute_result"
    }
   ],
   "source": [
    "get_greeks(['sx1@22214'])"
   ]
  },
  {
   "cell_type": "code",
   "execution_count": 10,
   "metadata": {},
   "outputs": [
    {
     "data": {
      "image/png": "[encoded data removed]",
      "text/plain": [
       "<matplotlib.figure.Figure at 0x7f125f07bd68>"
      ]
     },
     "metadata": {},
     "output_type": "display_data"
    }
   ],
   "source": [
    "plot_payoff(['sx-1@22214'])"
   ]
  },
  {
   "cell_type": "code",
   "execution_count": 11,
   "metadata": {},
   "outputs": [
    {
     "data": {
      "text/html": [
       "<div>\n",
       "<style scoped>\n",
       "    .dataframe tbody tr th:only-of-type {\n",
       "        vertical-align: middle;\n",
       "    }\n",
       "\n",
       "    .dataframe tbody tr th {\n",
       "        vertical-align: top;\n",
       "    }\n",
       "\n",
       "    .dataframe thead th {\n",
       "        text-align: right;\n",
       "    }\n",
       "</style>\n",
       "<table border=\"1\" class=\"dataframe\">\n",
       "  <thead>\n",
       "    <tr style=\"text-align: right;\">\n",
       "      <th></th>\n",
       "      <th>delta</th>\n",
       "      <th>gamma</th>\n",
       "      <th>vega</th>\n",
       "      <th>theta</th>\n",
       "    </tr>\n",
       "    <tr>\n",
       "      <th>right</th>\n",
       "      <th></th>\n",
       "      <th></th>\n",
       "      <th></th>\n",
       "      <th></th>\n",
       "    </tr>\n",
       "  </thead>\n",
       "  <tbody>\n",
       "    <tr>\n",
       "      <th>f</th>\n",
       "      <td>-1.0</td>\n",
       "      <td>0.0</td>\n",
       "      <td>0.0</td>\n",
       "      <td>0.0</td>\n",
       "    </tr>\n",
       "    <tr>\n",
       "      <th>sum</th>\n",
       "      <td>-1.0</td>\n",
       "      <td>0.0</td>\n",
       "      <td>0.0</td>\n",
       "      <td>0.0</td>\n",
       "    </tr>\n",
       "  </tbody>\n",
       "</table>\n",
       "</div>"
      ],
      "text/plain": [
       "       delta  gamma  vega  theta\n",
       "right                           \n",
       "f       -1.0    0.0   0.0    0.0\n",
       "sum     -1.0    0.0   0.0    0.0"
      ]
     },
     "execution_count": 11,
     "metadata": {},
     "output_type": "execute_result"
    }
   ],
   "source": [
    "get_greeks(['sx-1@22214'])"
   ]
  },
  {
   "cell_type": "markdown",
   "metadata": {},
   "source": [
    "### ネイキッドロング\n",
    "\n",
    "* 単純にオプションを買う\n",
    "* 相場の方向性とボラティリティ上昇の両方を当てにいく\n",
    "* 損失限定でリスクは比較的小さいがコストはやや高い\n",
    "* 非常に難しい"
   ]
  },
  {
   "cell_type": "code",
   "execution_count": 12,
   "metadata": {},
   "outputs": [
    {
     "data": {
      "image/png": "[encoded data removed]",
      "text/plain": [
       "<matplotlib.figure.Figure at 0x7f125cf25a20>"
      ]
     },
     "metadata": {},
     "output_type": "display_data"
    }
   ],
   "source": [
    "plot_payoff(['22250cx1@261'])"
   ]
  },
  {
   "cell_type": "code",
   "execution_count": 13,
   "metadata": {},
   "outputs": [
    {
     "data": {
      "text/html": [
       "<div>\n",
       "<style scoped>\n",
       "    .dataframe tbody tr th:only-of-type {\n",
       "        vertical-align: middle;\n",
       "    }\n",
       "\n",
       "    .dataframe tbody tr th {\n",
       "        vertical-align: top;\n",
       "    }\n",
       "\n",
       "    .dataframe thead th {\n",
       "        text-align: right;\n",
       "    }\n",
       "</style>\n",
       "<table border=\"1\" class=\"dataframe\">\n",
       "  <thead>\n",
       "    <tr style=\"text-align: right;\">\n",
       "      <th></th>\n",
       "      <th>delta</th>\n",
       "      <th>gamma</th>\n",
       "      <th>vega</th>\n",
       "      <th>theta</th>\n",
       "    </tr>\n",
       "    <tr>\n",
       "      <th>right</th>\n",
       "      <th></th>\n",
       "      <th></th>\n",
       "      <th></th>\n",
       "      <th></th>\n",
       "    </tr>\n",
       "  </thead>\n",
       "  <tbody>\n",
       "    <tr>\n",
       "      <th>22250c</th>\n",
       "      <td>0.486102</td>\n",
       "      <td>0.000572</td>\n",
       "      <td>15.192281</td>\n",
       "      <td>-12.972841</td>\n",
       "    </tr>\n",
       "    <tr>\n",
       "      <th>sum</th>\n",
       "      <td>0.486102</td>\n",
       "      <td>0.000572</td>\n",
       "      <td>15.192281</td>\n",
       "      <td>-12.972841</td>\n",
       "    </tr>\n",
       "  </tbody>\n",
       "</table>\n",
       "</div>"
      ],
      "text/plain": [
       "           delta     gamma       vega      theta\n",
       "right                                           \n",
       "22250c  0.486102  0.000572  15.192281 -12.972841\n",
       "sum     0.486102  0.000572  15.192281 -12.972841"
      ]
     },
     "execution_count": 13,
     "metadata": {},
     "output_type": "execute_result"
    }
   ],
   "source": [
    "get_greeks(['22250cx1@261'])"
   ]
  },
  {
   "cell_type": "code",
   "execution_count": 14,
   "metadata": {},
   "outputs": [
    {
     "data": {
      "image/png": "[encoded data removed]",
      "text/plain": [
       "<matplotlib.figure.Figure at 0x7f125ce9e4e0>"
      ]
     },
     "metadata": {},
     "output_type": "display_data"
    }
   ],
   "source": [
    "plot_payoff(['22250px1@297'])"
   ]
  },
  {
   "cell_type": "code",
   "execution_count": 15,
   "metadata": {},
   "outputs": [
    {
     "data": {
      "text/html": [
       "<div>\n",
       "<style scoped>\n",
       "    .dataframe tbody tr th:only-of-type {\n",
       "        vertical-align: middle;\n",
       "    }\n",
       "\n",
       "    .dataframe tbody tr th {\n",
       "        vertical-align: top;\n",
       "    }\n",
       "\n",
       "    .dataframe thead th {\n",
       "        text-align: right;\n",
       "    }\n",
       "</style>\n",
       "<table border=\"1\" class=\"dataframe\">\n",
       "  <thead>\n",
       "    <tr style=\"text-align: right;\">\n",
       "      <th></th>\n",
       "      <th>delta</th>\n",
       "      <th>gamma</th>\n",
       "      <th>vega</th>\n",
       "      <th>theta</th>\n",
       "    </tr>\n",
       "    <tr>\n",
       "      <th>right</th>\n",
       "      <th></th>\n",
       "      <th></th>\n",
       "      <th></th>\n",
       "      <th></th>\n",
       "    </tr>\n",
       "  </thead>\n",
       "  <tbody>\n",
       "    <tr>\n",
       "      <th>22250p</th>\n",
       "      <td>-0.513868</td>\n",
       "      <td>0.000572</td>\n",
       "      <td>15.192281</td>\n",
       "      <td>-12.911884</td>\n",
       "    </tr>\n",
       "    <tr>\n",
       "      <th>sum</th>\n",
       "      <td>-0.513868</td>\n",
       "      <td>0.000572</td>\n",
       "      <td>15.192281</td>\n",
       "      <td>-12.911884</td>\n",
       "    </tr>\n",
       "  </tbody>\n",
       "</table>\n",
       "</div>"
      ],
      "text/plain": [
       "           delta     gamma       vega      theta\n",
       "right                                           \n",
       "22250p -0.513868  0.000572  15.192281 -12.911884\n",
       "sum    -0.513868  0.000572  15.192281 -12.911884"
      ]
     },
     "execution_count": 15,
     "metadata": {},
     "output_type": "execute_result"
    }
   ],
   "source": [
    "get_greeks(['22250px1@297'])"
   ]
  },
  {
   "cell_type": "markdown",
   "metadata": {},
   "source": [
    "### ネイキッドショート\n",
    "\n",
    "* 単純にオプションを売る\n",
    "* 相場の方向性とボラティリティ下落の両方を当てにいく\n",
    "* 損失無限大\n",
    "* 勝率が高いがリスクが高い"
   ]
  },
  {
   "cell_type": "code",
   "execution_count": 16,
   "metadata": {},
   "outputs": [
    {
     "data": {
      "image/png": "[encoded data removed]",
      "text/plain": [
       "<matplotlib.figure.Figure at 0x7f125ce274a8>"
      ]
     },
     "metadata": {},
     "output_type": "display_data"
    }
   ],
   "source": [
    "plot_payoff(['22250cx-1@261'])"
   ]
  },
  {
   "cell_type": "code",
   "execution_count": 17,
   "metadata": {},
   "outputs": [
    {
     "data": {
      "text/html": [
       "<div>\n",
       "<style scoped>\n",
       "    .dataframe tbody tr th:only-of-type {\n",
       "        vertical-align: middle;\n",
       "    }\n",
       "\n",
       "    .dataframe tbody tr th {\n",
       "        vertical-align: top;\n",
       "    }\n",
       "\n",
       "    .dataframe thead th {\n",
       "        text-align: right;\n",
       "    }\n",
       "</style>\n",
       "<table border=\"1\" class=\"dataframe\">\n",
       "  <thead>\n",
       "    <tr style=\"text-align: right;\">\n",
       "      <th></th>\n",
       "      <th>delta</th>\n",
       "      <th>gamma</th>\n",
       "      <th>vega</th>\n",
       "      <th>theta</th>\n",
       "    </tr>\n",
       "    <tr>\n",
       "      <th>right</th>\n",
       "      <th></th>\n",
       "      <th></th>\n",
       "      <th></th>\n",
       "      <th></th>\n",
       "    </tr>\n",
       "  </thead>\n",
       "  <tbody>\n",
       "    <tr>\n",
       "      <th>22250c</th>\n",
       "      <td>-0.486102</td>\n",
       "      <td>-0.000572</td>\n",
       "      <td>-15.192281</td>\n",
       "      <td>12.972841</td>\n",
       "    </tr>\n",
       "    <tr>\n",
       "      <th>sum</th>\n",
       "      <td>-0.486102</td>\n",
       "      <td>-0.000572</td>\n",
       "      <td>-15.192281</td>\n",
       "      <td>12.972841</td>\n",
       "    </tr>\n",
       "  </tbody>\n",
       "</table>\n",
       "</div>"
      ],
      "text/plain": [
       "           delta     gamma       vega      theta\n",
       "right                                           \n",
       "22250c -0.486102 -0.000572 -15.192281  12.972841\n",
       "sum    -0.486102 -0.000572 -15.192281  12.972841"
      ]
     },
     "execution_count": 17,
     "metadata": {},
     "output_type": "execute_result"
    }
   ],
   "source": [
    "get_greeks(['22250cx-1@261'])"
   ]
  },
  {
   "cell_type": "code",
   "execution_count": 18,
   "metadata": {},
   "outputs": [
    {
     "data": {
      "image/png": "[encoded data removed]",
      "text/plain": [
       "<matplotlib.figure.Figure at 0x7f125ce40320>"
      ]
     },
     "metadata": {},
     "output_type": "display_data"
    }
   ],
   "source": [
    "plot_payoff(['22250px-1@297'])"
   ]
  },
  {
   "cell_type": "code",
   "execution_count": 19,
   "metadata": {},
   "outputs": [
    {
     "data": {
      "text/html": [
       "<div>\n",
       "<style scoped>\n",
       "    .dataframe tbody tr th:only-of-type {\n",
       "        vertical-align: middle;\n",
       "    }\n",
       "\n",
       "    .dataframe tbody tr th {\n",
       "        vertical-align: top;\n",
       "    }\n",
       "\n",
       "    .dataframe thead th {\n",
       "        text-align: right;\n",
       "    }\n",
       "</style>\n",
       "<table border=\"1\" class=\"dataframe\">\n",
       "  <thead>\n",
       "    <tr style=\"text-align: right;\">\n",
       "      <th></th>\n",
       "      <th>delta</th>\n",
       "      <th>gamma</th>\n",
       "      <th>vega</th>\n",
       "      <th>theta</th>\n",
       "    </tr>\n",
       "    <tr>\n",
       "      <th>right</th>\n",
       "      <th></th>\n",
       "      <th></th>\n",
       "      <th></th>\n",
       "      <th></th>\n",
       "    </tr>\n",
       "  </thead>\n",
       "  <tbody>\n",
       "    <tr>\n",
       "      <th>22250p</th>\n",
       "      <td>0.513868</td>\n",
       "      <td>-0.000572</td>\n",
       "      <td>-15.192281</td>\n",
       "      <td>12.911884</td>\n",
       "    </tr>\n",
       "    <tr>\n",
       "      <th>sum</th>\n",
       "      <td>0.513868</td>\n",
       "      <td>-0.000572</td>\n",
       "      <td>-15.192281</td>\n",
       "      <td>12.911884</td>\n",
       "    </tr>\n",
       "  </tbody>\n",
       "</table>\n",
       "</div>"
      ],
      "text/plain": [
       "           delta     gamma       vega      theta\n",
       "right                                           \n",
       "22250p  0.513868 -0.000572 -15.192281  12.911884\n",
       "sum     0.513868 -0.000572 -15.192281  12.911884"
      ]
     },
     "execution_count": 19,
     "metadata": {},
     "output_type": "execute_result"
    }
   ],
   "source": [
    "get_greeks(['22250px-1@297'])"
   ]
  },
  {
   "cell_type": "markdown",
   "metadata": {},
   "source": [
    "### プロティクティブコール\n",
    "\n",
    "* 先物ショートとコール買いを組み合わせた戦略\n",
    "* コール買いの保険がついた先物売り\n",
    "* プット買いに似ているが、下落スピードはあまり考慮しなくてよい"
   ]
  },
  {
   "cell_type": "code",
   "execution_count": 20,
   "metadata": {},
   "outputs": [
    {
     "data": {
      "image/png": "[encoded data removed]",
      "text/plain": [
       "<matplotlib.figure.Figure at 0x7f125ce12438>"
      ]
     },
     "metadata": {},
     "output_type": "display_data"
    }
   ],
   "source": [
    "plot_payoff(['sx-1@22214', '22250cx1@261'])"
   ]
  },
  {
   "cell_type": "code",
   "execution_count": 21,
   "metadata": {},
   "outputs": [
    {
     "data": {
      "text/html": [
       "<div>\n",
       "<style scoped>\n",
       "    .dataframe tbody tr th:only-of-type {\n",
       "        vertical-align: middle;\n",
       "    }\n",
       "\n",
       "    .dataframe tbody tr th {\n",
       "        vertical-align: top;\n",
       "    }\n",
       "\n",
       "    .dataframe thead th {\n",
       "        text-align: right;\n",
       "    }\n",
       "</style>\n",
       "<table border=\"1\" class=\"dataframe\">\n",
       "  <thead>\n",
       "    <tr style=\"text-align: right;\">\n",
       "      <th></th>\n",
       "      <th>delta</th>\n",
       "      <th>gamma</th>\n",
       "      <th>vega</th>\n",
       "      <th>theta</th>\n",
       "    </tr>\n",
       "    <tr>\n",
       "      <th>right</th>\n",
       "      <th></th>\n",
       "      <th></th>\n",
       "      <th></th>\n",
       "      <th></th>\n",
       "    </tr>\n",
       "  </thead>\n",
       "  <tbody>\n",
       "    <tr>\n",
       "      <th>f</th>\n",
       "      <td>-1.000000</td>\n",
       "      <td>0.000000</td>\n",
       "      <td>0.000000</td>\n",
       "      <td>0.000000</td>\n",
       "    </tr>\n",
       "    <tr>\n",
       "      <th>22250c</th>\n",
       "      <td>0.486102</td>\n",
       "      <td>0.000572</td>\n",
       "      <td>15.192281</td>\n",
       "      <td>-12.972841</td>\n",
       "    </tr>\n",
       "    <tr>\n",
       "      <th>sum</th>\n",
       "      <td>-0.513898</td>\n",
       "      <td>0.000572</td>\n",
       "      <td>15.192281</td>\n",
       "      <td>-12.972841</td>\n",
       "    </tr>\n",
       "  </tbody>\n",
       "</table>\n",
       "</div>"
      ],
      "text/plain": [
       "           delta     gamma       vega      theta\n",
       "right                                           \n",
       "f      -1.000000  0.000000   0.000000   0.000000\n",
       "22250c  0.486102  0.000572  15.192281 -12.972841\n",
       "sum    -0.513898  0.000572  15.192281 -12.972841"
      ]
     },
     "execution_count": 21,
     "metadata": {},
     "output_type": "execute_result"
    }
   ],
   "source": [
    "get_greeks(['sx-1@22214', '22250cx1@261'])"
   ]
  },
  {
   "cell_type": "markdown",
   "metadata": {},
   "source": [
    "### プロティクティブプット\n",
    "\n",
    "* 先物ロングとプット買いを組み合わせた戦略\n",
    "* プット買いの保険がついた先物売り\n",
    "* コール買いに似ているが、上昇スピードはあまり考慮しなくてよい"
   ]
  },
  {
   "cell_type": "code",
   "execution_count": 22,
   "metadata": {},
   "outputs": [
    {
     "data": {
      "image/png": "[encoded data removed]",
      "text/plain": [
       "<matplotlib.figure.Figure at 0x7f125cda80b8>"
      ]
     },
     "metadata": {},
     "output_type": "display_data"
    }
   ],
   "source": [
    "plot_payoff(['sx1@22214', '22250px1@297'])"
   ]
  },
  {
   "cell_type": "code",
   "execution_count": 23,
   "metadata": {},
   "outputs": [
    {
     "data": {
      "text/html": [
       "<div>\n",
       "<style scoped>\n",
       "    .dataframe tbody tr th:only-of-type {\n",
       "        vertical-align: middle;\n",
       "    }\n",
       "\n",
       "    .dataframe tbody tr th {\n",
       "        vertical-align: top;\n",
       "    }\n",
       "\n",
       "    .dataframe thead th {\n",
       "        text-align: right;\n",
       "    }\n",
       "</style>\n",
       "<table border=\"1\" class=\"dataframe\">\n",
       "  <thead>\n",
       "    <tr style=\"text-align: right;\">\n",
       "      <th></th>\n",
       "      <th>delta</th>\n",
       "      <th>gamma</th>\n",
       "      <th>vega</th>\n",
       "      <th>theta</th>\n",
       "    </tr>\n",
       "    <tr>\n",
       "      <th>right</th>\n",
       "      <th></th>\n",
       "      <th></th>\n",
       "      <th></th>\n",
       "      <th></th>\n",
       "    </tr>\n",
       "  </thead>\n",
       "  <tbody>\n",
       "    <tr>\n",
       "      <th>f</th>\n",
       "      <td>1.000000</td>\n",
       "      <td>0.000000</td>\n",
       "      <td>0.000000</td>\n",
       "      <td>0.000000</td>\n",
       "    </tr>\n",
       "    <tr>\n",
       "      <th>22250p</th>\n",
       "      <td>-0.513868</td>\n",
       "      <td>0.000572</td>\n",
       "      <td>15.192281</td>\n",
       "      <td>-12.911884</td>\n",
       "    </tr>\n",
       "    <tr>\n",
       "      <th>sum</th>\n",
       "      <td>0.486132</td>\n",
       "      <td>0.000572</td>\n",
       "      <td>15.192281</td>\n",
       "      <td>-12.911884</td>\n",
       "    </tr>\n",
       "  </tbody>\n",
       "</table>\n",
       "</div>"
      ],
      "text/plain": [
       "           delta     gamma       vega      theta\n",
       "right                                           \n",
       "f       1.000000  0.000000   0.000000   0.000000\n",
       "22250p -0.513868  0.000572  15.192281 -12.911884\n",
       "sum     0.486132  0.000572  15.192281 -12.911884"
      ]
     },
     "execution_count": 23,
     "metadata": {},
     "output_type": "execute_result"
    }
   ],
   "source": [
    "get_greeks(['sx1@22214', '22250px1@297'])"
   ]
  },
  {
   "cell_type": "markdown",
   "metadata": {},
   "source": [
    "### カバードコール(1:1)\n",
    "\n",
    "* 先物買いとコール売りを組み合わせた戦略\n",
    "* 先物買いの利益に上限を設ける代わりにオプションのプレミアムを受け取る\n",
    "* 先物買いの利益確定の手段として使われることもある"
   ]
  },
  {
   "cell_type": "code",
   "execution_count": 24,
   "metadata": {},
   "outputs": [
    {
     "data": {
      "image/png": "[encoded data removed]",
      "text/plain": [
       "<matplotlib.figure.Figure at 0x7f125cd91128>"
      ]
     },
     "metadata": {},
     "output_type": "display_data"
    }
   ],
   "source": [
    "plot_payoff(['sx1@22214', '22250cx-1@261'])"
   ]
  },
  {
   "cell_type": "code",
   "execution_count": 25,
   "metadata": {},
   "outputs": [
    {
     "data": {
      "text/html": [
       "<div>\n",
       "<style scoped>\n",
       "    .dataframe tbody tr th:only-of-type {\n",
       "        vertical-align: middle;\n",
       "    }\n",
       "\n",
       "    .dataframe tbody tr th {\n",
       "        vertical-align: top;\n",
       "    }\n",
       "\n",
       "    .dataframe thead th {\n",
       "        text-align: right;\n",
       "    }\n",
       "</style>\n",
       "<table border=\"1\" class=\"dataframe\">\n",
       "  <thead>\n",
       "    <tr style=\"text-align: right;\">\n",
       "      <th></th>\n",
       "      <th>delta</th>\n",
       "      <th>gamma</th>\n",
       "      <th>vega</th>\n",
       "      <th>theta</th>\n",
       "    </tr>\n",
       "    <tr>\n",
       "      <th>right</th>\n",
       "      <th></th>\n",
       "      <th></th>\n",
       "      <th></th>\n",
       "      <th></th>\n",
       "    </tr>\n",
       "  </thead>\n",
       "  <tbody>\n",
       "    <tr>\n",
       "      <th>f</th>\n",
       "      <td>1.000000</td>\n",
       "      <td>0.000000</td>\n",
       "      <td>0.000000</td>\n",
       "      <td>0.000000</td>\n",
       "    </tr>\n",
       "    <tr>\n",
       "      <th>22250c</th>\n",
       "      <td>-0.486102</td>\n",
       "      <td>-0.000572</td>\n",
       "      <td>-15.192281</td>\n",
       "      <td>12.972841</td>\n",
       "    </tr>\n",
       "    <tr>\n",
       "      <th>sum</th>\n",
       "      <td>0.513898</td>\n",
       "      <td>-0.000572</td>\n",
       "      <td>-15.192281</td>\n",
       "      <td>12.972841</td>\n",
       "    </tr>\n",
       "  </tbody>\n",
       "</table>\n",
       "</div>"
      ],
      "text/plain": [
       "           delta     gamma       vega      theta\n",
       "right                                           \n",
       "f       1.000000  0.000000   0.000000   0.000000\n",
       "22250c -0.486102 -0.000572 -15.192281  12.972841\n",
       "sum     0.513898 -0.000572 -15.192281  12.972841"
      ]
     },
     "execution_count": 25,
     "metadata": {},
     "output_type": "execute_result"
    }
   ],
   "source": [
    "get_greeks(['sx1@22214', '22250cx-1@261'])"
   ]
  },
  {
   "cell_type": "markdown",
   "metadata": {},
   "source": [
    "### カバードプット(1:1)\n",
    "\n",
    "* 先物売りとプット売りを組み合わせた戦略\n",
    "* 先物売りの利益に上限を設ける代わりにオプションのプレミアムを受け取る\n",
    "* 先物売りの利益確定の手段として使われることもある"
   ]
  },
  {
   "cell_type": "code",
   "execution_count": 26,
   "metadata": {},
   "outputs": [
    {
     "data": {
      "image/png": "[encoded data removed]",
      "text/plain": [
       "<matplotlib.figure.Figure at 0x7f125cd72fd0>"
      ]
     },
     "metadata": {},
     "output_type": "display_data"
    }
   ],
   "source": [
    "plot_payoff(['sx-1@22214', '22250px-1@297'])"
   ]
  },
  {
   "cell_type": "code",
   "execution_count": 27,
   "metadata": {},
   "outputs": [
    {
     "data": {
      "text/html": [
       "<div>\n",
       "<style scoped>\n",
       "    .dataframe tbody tr th:only-of-type {\n",
       "        vertical-align: middle;\n",
       "    }\n",
       "\n",
       "    .dataframe tbody tr th {\n",
       "        vertical-align: top;\n",
       "    }\n",
       "\n",
       "    .dataframe thead th {\n",
       "        text-align: right;\n",
       "    }\n",
       "</style>\n",
       "<table border=\"1\" class=\"dataframe\">\n",
       "  <thead>\n",
       "    <tr style=\"text-align: right;\">\n",
       "      <th></th>\n",
       "      <th>delta</th>\n",
       "      <th>gamma</th>\n",
       "      <th>vega</th>\n",
       "      <th>theta</th>\n",
       "    </tr>\n",
       "    <tr>\n",
       "      <th>right</th>\n",
       "      <th></th>\n",
       "      <th></th>\n",
       "      <th></th>\n",
       "      <th></th>\n",
       "    </tr>\n",
       "  </thead>\n",
       "  <tbody>\n",
       "    <tr>\n",
       "      <th>f</th>\n",
       "      <td>-1.000000</td>\n",
       "      <td>0.000000</td>\n",
       "      <td>0.000000</td>\n",
       "      <td>0.000000</td>\n",
       "    </tr>\n",
       "    <tr>\n",
       "      <th>22250p</th>\n",
       "      <td>0.513868</td>\n",
       "      <td>-0.000572</td>\n",
       "      <td>-15.192281</td>\n",
       "      <td>12.911884</td>\n",
       "    </tr>\n",
       "    <tr>\n",
       "      <th>sum</th>\n",
       "      <td>-0.486132</td>\n",
       "      <td>-0.000572</td>\n",
       "      <td>-15.192281</td>\n",
       "      <td>12.911884</td>\n",
       "    </tr>\n",
       "  </tbody>\n",
       "</table>\n",
       "</div>"
      ],
      "text/plain": [
       "           delta     gamma       vega      theta\n",
       "right                                           \n",
       "f      -1.000000  0.000000   0.000000   0.000000\n",
       "22250p  0.513868 -0.000572 -15.192281  12.911884\n",
       "sum    -0.486132 -0.000572 -15.192281  12.911884"
      ]
     },
     "execution_count": 27,
     "metadata": {},
     "output_type": "execute_result"
    }
   ],
   "source": [
    "get_greeks(['sx-1@22214', '22250px-1@297'])"
   ]
  },
  {
   "cell_type": "markdown",
   "metadata": {},
   "source": [
    "### カバードコール(ショートストラドル)\n",
    "\n",
    "* 先物買いとコール売りを複数組み合わせた戦略\n",
    "* 通常はデルタをニュートラルにする\n",
    "* 相場が動かないまたはボラティリティが低下することを狙った戦略\n",
    "* オプションのみで組成したショートストラドルよりはリスクが少ない"
   ]
  },
  {
   "cell_type": "code",
   "execution_count": 28,
   "metadata": {},
   "outputs": [
    {
     "data": {
      "image/png": "[encoded data removed]",
      "text/plain": [
       "<matplotlib.figure.Figure at 0x7f125cf31320>"
      ]
     },
     "metadata": {},
     "output_type": "display_data"
    }
   ],
   "source": [
    "plot_payoff(['sx1@22214', '22250cx-2@261'])"
   ]
  },
  {
   "cell_type": "code",
   "execution_count": 29,
   "metadata": {},
   "outputs": [
    {
     "data": {
      "text/html": [
       "<div>\n",
       "<style scoped>\n",
       "    .dataframe tbody tr th:only-of-type {\n",
       "        vertical-align: middle;\n",
       "    }\n",
       "\n",
       "    .dataframe tbody tr th {\n",
       "        vertical-align: top;\n",
       "    }\n",
       "\n",
       "    .dataframe thead th {\n",
       "        text-align: right;\n",
       "    }\n",
       "</style>\n",
       "<table border=\"1\" class=\"dataframe\">\n",
       "  <thead>\n",
       "    <tr style=\"text-align: right;\">\n",
       "      <th></th>\n",
       "      <th>delta</th>\n",
       "      <th>gamma</th>\n",
       "      <th>vega</th>\n",
       "      <th>theta</th>\n",
       "    </tr>\n",
       "    <tr>\n",
       "      <th>right</th>\n",
       "      <th></th>\n",
       "      <th></th>\n",
       "      <th></th>\n",
       "      <th></th>\n",
       "    </tr>\n",
       "  </thead>\n",
       "  <tbody>\n",
       "    <tr>\n",
       "      <th>f</th>\n",
       "      <td>1.000000</td>\n",
       "      <td>0.000000</td>\n",
       "      <td>0.000000</td>\n",
       "      <td>0.000000</td>\n",
       "    </tr>\n",
       "    <tr>\n",
       "      <th>22250c</th>\n",
       "      <td>-0.972204</td>\n",
       "      <td>-0.001144</td>\n",
       "      <td>-30.384562</td>\n",
       "      <td>25.945682</td>\n",
       "    </tr>\n",
       "    <tr>\n",
       "      <th>sum</th>\n",
       "      <td>0.027796</td>\n",
       "      <td>-0.001144</td>\n",
       "      <td>-30.384562</td>\n",
       "      <td>25.945682</td>\n",
       "    </tr>\n",
       "  </tbody>\n",
       "</table>\n",
       "</div>"
      ],
      "text/plain": [
       "           delta     gamma       vega      theta\n",
       "right                                           \n",
       "f       1.000000  0.000000   0.000000   0.000000\n",
       "22250c -0.972204 -0.001144 -30.384562  25.945682\n",
       "sum     0.027796 -0.001144 -30.384562  25.945682"
      ]
     },
     "execution_count": 29,
     "metadata": {},
     "output_type": "execute_result"
    }
   ],
   "source": [
    "get_greeks(['sx1@22214', '22250cx-2@261'])"
   ]
  },
  {
   "cell_type": "markdown",
   "metadata": {},
   "source": [
    "### カバードプット(ショートストラドル)\n",
    "\n",
    "* 先物売りとプット売りを複数組み合わせた戦略\n",
    "* 通常はデルタをニュートラルにする\n",
    "* 先物が動かないまたはボラティリティが低下することを狙った戦略\n",
    "* オプションのみで組成したショートストラドルよりはリスクが少ない"
   ]
  },
  {
   "cell_type": "code",
   "execution_count": 30,
   "metadata": {},
   "outputs": [
    {
     "data": {
      "image/png": "[encoded data removed]",
      "text/plain": [
       "<matplotlib.figure.Figure at 0x7f125ce7b198>"
      ]
     },
     "metadata": {},
     "output_type": "display_data"
    }
   ],
   "source": [
    "plot_payoff(['sx-1@22214', '22250px-2@297'])"
   ]
  },
  {
   "cell_type": "code",
   "execution_count": 31,
   "metadata": {},
   "outputs": [
    {
     "data": {
      "text/html": [
       "<div>\n",
       "<style scoped>\n",
       "    .dataframe tbody tr th:only-of-type {\n",
       "        vertical-align: middle;\n",
       "    }\n",
       "\n",
       "    .dataframe tbody tr th {\n",
       "        vertical-align: top;\n",
       "    }\n",
       "\n",
       "    .dataframe thead th {\n",
       "        text-align: right;\n",
       "    }\n",
       "</style>\n",
       "<table border=\"1\" class=\"dataframe\">\n",
       "  <thead>\n",
       "    <tr style=\"text-align: right;\">\n",
       "      <th></th>\n",
       "      <th>delta</th>\n",
       "      <th>gamma</th>\n",
       "      <th>vega</th>\n",
       "      <th>theta</th>\n",
       "    </tr>\n",
       "    <tr>\n",
       "      <th>right</th>\n",
       "      <th></th>\n",
       "      <th></th>\n",
       "      <th></th>\n",
       "      <th></th>\n",
       "    </tr>\n",
       "  </thead>\n",
       "  <tbody>\n",
       "    <tr>\n",
       "      <th>f</th>\n",
       "      <td>-1.000000</td>\n",
       "      <td>0.000000</td>\n",
       "      <td>0.000000</td>\n",
       "      <td>0.000000</td>\n",
       "    </tr>\n",
       "    <tr>\n",
       "      <th>22250p</th>\n",
       "      <td>1.027737</td>\n",
       "      <td>-0.001144</td>\n",
       "      <td>-30.384562</td>\n",
       "      <td>25.823768</td>\n",
       "    </tr>\n",
       "    <tr>\n",
       "      <th>sum</th>\n",
       "      <td>0.027737</td>\n",
       "      <td>-0.001144</td>\n",
       "      <td>-30.384562</td>\n",
       "      <td>25.823768</td>\n",
       "    </tr>\n",
       "  </tbody>\n",
       "</table>\n",
       "</div>"
      ],
      "text/plain": [
       "           delta     gamma       vega      theta\n",
       "right                                           \n",
       "f      -1.000000  0.000000   0.000000   0.000000\n",
       "22250p  1.027737 -0.001144 -30.384562  25.823768\n",
       "sum     0.027737 -0.001144 -30.384562  25.823768"
      ]
     },
     "execution_count": 31,
     "metadata": {},
     "output_type": "execute_result"
    }
   ],
   "source": [
    "get_greeks(['sx-1@22214', '22250px-2@297'])"
   ]
  },
  {
   "cell_type": "markdown",
   "metadata": {},
   "source": [
    "### ロングストラドル\n",
    "\n",
    "* ATMコールとATMプットを買う戦略\n",
    "* 先物が動くまたはボラティリティが上昇することを狙った戦略"
   ]
  },
  {
   "cell_type": "code",
   "execution_count": 32,
   "metadata": {},
   "outputs": [
    {
     "data": {
      "image/png": "[encoded data removed]",
      "text/plain": [
       "<matplotlib.figure.Figure at 0x7f125cf2d208>"
      ]
     },
     "metadata": {},
     "output_type": "display_data"
    }
   ],
   "source": [
    "plot_payoff(['22250cx1@261', '22250px1@297'])"
   ]
  },
  {
   "cell_type": "code",
   "execution_count": 33,
   "metadata": {},
   "outputs": [
    {
     "data": {
      "text/html": [
       "<div>\n",
       "<style scoped>\n",
       "    .dataframe tbody tr th:only-of-type {\n",
       "        vertical-align: middle;\n",
       "    }\n",
       "\n",
       "    .dataframe tbody tr th {\n",
       "        vertical-align: top;\n",
       "    }\n",
       "\n",
       "    .dataframe thead th {\n",
       "        text-align: right;\n",
       "    }\n",
       "</style>\n",
       "<table border=\"1\" class=\"dataframe\">\n",
       "  <thead>\n",
       "    <tr style=\"text-align: right;\">\n",
       "      <th></th>\n",
       "      <th>delta</th>\n",
       "      <th>gamma</th>\n",
       "      <th>vega</th>\n",
       "      <th>theta</th>\n",
       "    </tr>\n",
       "    <tr>\n",
       "      <th>right</th>\n",
       "      <th></th>\n",
       "      <th></th>\n",
       "      <th></th>\n",
       "      <th></th>\n",
       "    </tr>\n",
       "  </thead>\n",
       "  <tbody>\n",
       "    <tr>\n",
       "      <th>22250c</th>\n",
       "      <td>0.486102</td>\n",
       "      <td>0.000572</td>\n",
       "      <td>15.192281</td>\n",
       "      <td>-12.972841</td>\n",
       "    </tr>\n",
       "    <tr>\n",
       "      <th>22250p</th>\n",
       "      <td>-0.513868</td>\n",
       "      <td>0.000572</td>\n",
       "      <td>15.192281</td>\n",
       "      <td>-12.911884</td>\n",
       "    </tr>\n",
       "    <tr>\n",
       "      <th>sum</th>\n",
       "      <td>-0.027766</td>\n",
       "      <td>0.001144</td>\n",
       "      <td>30.384562</td>\n",
       "      <td>-25.884725</td>\n",
       "    </tr>\n",
       "  </tbody>\n",
       "</table>\n",
       "</div>"
      ],
      "text/plain": [
       "           delta     gamma       vega      theta\n",
       "right                                           \n",
       "22250c  0.486102  0.000572  15.192281 -12.972841\n",
       "22250p -0.513868  0.000572  15.192281 -12.911884\n",
       "sum    -0.027766  0.001144  30.384562 -25.884725"
      ]
     },
     "execution_count": 33,
     "metadata": {},
     "output_type": "execute_result"
    }
   ],
   "source": [
    "get_greeks(['22250cx1@261', '22250px1@297'])"
   ]
  },
  {
   "cell_type": "markdown",
   "metadata": {},
   "source": [
    "### ショートストラドル\n",
    "\n",
    "* ATMコールとATMプットを売る戦略\n",
    "* 先物が動かないまたはボラティリティが低下することを狙った戦略"
   ]
  },
  {
   "cell_type": "code",
   "execution_count": 34,
   "metadata": {},
   "outputs": [
    {
     "data": {
      "image/png": "[encoded data removed]",
      "text/plain": [
       "<matplotlib.figure.Figure at 0x7f125ccd9940>"
      ]
     },
     "metadata": {},
     "output_type": "display_data"
    }
   ],
   "source": [
    "plot_payoff(['22250cx-1@261', '22250px-1@297'])"
   ]
  },
  {
   "cell_type": "markdown",
   "metadata": {},
   "source": [
    "### ロングストラングル\n",
    "\n",
    "* OTMコールとOTMプットを買う戦略\n",
    "* 先物が大きく動くまたはボラティリティが大きく上昇することを狙った戦略"
   ]
  },
  {
   "cell_type": "code",
   "execution_count": 35,
   "metadata": {},
   "outputs": [
    {
     "data": {
      "image/png": "[encoded data removed]",
      "text/plain": [
       "<matplotlib.figure.Figure at 0x7f125cc168d0>"
      ]
     },
     "metadata": {},
     "output_type": "display_data"
    }
   ],
   "source": [
    "plot_payoff(['22625cx1@108', '21500px1@101'])"
   ]
  },
  {
   "cell_type": "code",
   "execution_count": 36,
   "metadata": {},
   "outputs": [
    {
     "data": {
      "text/html": [
       "<div>\n",
       "<style scoped>\n",
       "    .dataframe tbody tr th:only-of-type {\n",
       "        vertical-align: middle;\n",
       "    }\n",
       "\n",
       "    .dataframe tbody tr th {\n",
       "        vertical-align: top;\n",
       "    }\n",
       "\n",
       "    .dataframe thead th {\n",
       "        text-align: right;\n",
       "    }\n",
       "</style>\n",
       "<table border=\"1\" class=\"dataframe\">\n",
       "  <thead>\n",
       "    <tr style=\"text-align: right;\">\n",
       "      <th></th>\n",
       "      <th>delta</th>\n",
       "      <th>gamma</th>\n",
       "      <th>vega</th>\n",
       "      <th>theta</th>\n",
       "    </tr>\n",
       "    <tr>\n",
       "      <th>right</th>\n",
       "      <th></th>\n",
       "      <th></th>\n",
       "      <th></th>\n",
       "      <th></th>\n",
       "    </tr>\n",
       "  </thead>\n",
       "  <tbody>\n",
       "    <tr>\n",
       "      <th>22625c</th>\n",
       "      <td>0.272680</td>\n",
       "      <td>0.000506</td>\n",
       "      <td>12.661436</td>\n",
       "      <td>-10.167566</td>\n",
       "    </tr>\n",
       "    <tr>\n",
       "      <th>21500p</th>\n",
       "      <td>-0.200267</td>\n",
       "      <td>0.000317</td>\n",
       "      <td>10.676542</td>\n",
       "      <td>-11.534445</td>\n",
       "    </tr>\n",
       "    <tr>\n",
       "      <th>sum</th>\n",
       "      <td>0.072414</td>\n",
       "      <td>0.000823</td>\n",
       "      <td>23.337978</td>\n",
       "      <td>-21.702011</td>\n",
       "    </tr>\n",
       "  </tbody>\n",
       "</table>\n",
       "</div>"
      ],
      "text/plain": [
       "           delta     gamma       vega      theta\n",
       "right                                           \n",
       "22625c  0.272680  0.000506  12.661436 -10.167566\n",
       "21500p -0.200267  0.000317  10.676542 -11.534445\n",
       "sum     0.072414  0.000823  23.337978 -21.702011"
      ]
     },
     "execution_count": 36,
     "metadata": {},
     "output_type": "execute_result"
    }
   ],
   "source": [
    "get_greeks(['22625cx1@108', '21500px1@101'])"
   ]
  },
  {
   "cell_type": "markdown",
   "metadata": {},
   "source": [
    "### ショートストラングル\n",
    "\n",
    "* OTMコールとOTMプットを売る戦略\n",
    "* 先物が動かないまたはボラティリティが低下することを狙った戦略\n",
    "* 勝率が高いが非常にリスクが高い"
   ]
  },
  {
   "cell_type": "code",
   "execution_count": 37,
   "metadata": {},
   "outputs": [
    {
     "data": {
      "image/png": "[encoded data removed]",
      "text/plain": [
       "<matplotlib.figure.Figure at 0x7f125cc0d208>"
      ]
     },
     "metadata": {},
     "output_type": "display_data"
    }
   ],
   "source": [
    "plot_payoff(['22625cx-1@108', '21500px-1@101'])"
   ]
  },
  {
   "cell_type": "code",
   "execution_count": 38,
   "metadata": {},
   "outputs": [
    {
     "data": {
      "text/html": [
       "<div>\n",
       "<style scoped>\n",
       "    .dataframe tbody tr th:only-of-type {\n",
       "        vertical-align: middle;\n",
       "    }\n",
       "\n",
       "    .dataframe tbody tr th {\n",
       "        vertical-align: top;\n",
       "    }\n",
       "\n",
       "    .dataframe thead th {\n",
       "        text-align: right;\n",
       "    }\n",
       "</style>\n",
       "<table border=\"1\" class=\"dataframe\">\n",
       "  <thead>\n",
       "    <tr style=\"text-align: right;\">\n",
       "      <th></th>\n",
       "      <th>delta</th>\n",
       "      <th>gamma</th>\n",
       "      <th>vega</th>\n",
       "      <th>theta</th>\n",
       "    </tr>\n",
       "    <tr>\n",
       "      <th>right</th>\n",
       "      <th></th>\n",
       "      <th></th>\n",
       "      <th></th>\n",
       "      <th></th>\n",
       "    </tr>\n",
       "  </thead>\n",
       "  <tbody>\n",
       "    <tr>\n",
       "      <th>22625c</th>\n",
       "      <td>-0.272680</td>\n",
       "      <td>-0.000506</td>\n",
       "      <td>-12.661436</td>\n",
       "      <td>10.167566</td>\n",
       "    </tr>\n",
       "    <tr>\n",
       "      <th>21500p</th>\n",
       "      <td>0.200267</td>\n",
       "      <td>-0.000317</td>\n",
       "      <td>-10.676542</td>\n",
       "      <td>11.534445</td>\n",
       "    </tr>\n",
       "    <tr>\n",
       "      <th>sum</th>\n",
       "      <td>-0.072414</td>\n",
       "      <td>-0.000823</td>\n",
       "      <td>-23.337978</td>\n",
       "      <td>21.702011</td>\n",
       "    </tr>\n",
       "  </tbody>\n",
       "</table>\n",
       "</div>"
      ],
      "text/plain": [
       "           delta     gamma       vega      theta\n",
       "right                                           \n",
       "22625c -0.272680 -0.000506 -12.661436  10.167566\n",
       "21500p  0.200267 -0.000317 -10.676542  11.534445\n",
       "sum    -0.072414 -0.000823 -23.337978  21.702011"
      ]
     },
     "execution_count": 38,
     "metadata": {},
     "output_type": "execute_result"
    }
   ],
   "source": [
    "get_greeks(['22625cx-1@108', '21500px-1@101'])"
   ]
  },
  {
   "cell_type": "markdown",
   "metadata": {},
   "source": [
    "### デビットスプレッド\n",
    "\n",
    "* OTMを買い、その外側のOTMを売る戦略\n",
    "* ネイキッドロングの利益を限定した形だが、コストが安い"
   ]
  },
  {
   "cell_type": "code",
   "execution_count": 39,
   "metadata": {},
   "outputs": [
    {
     "data": {
      "image/png": "[encoded data removed]",
      "text/plain": [
       "<matplotlib.figure.Figure at 0x7f125cbb2710>"
      ]
     },
     "metadata": {},
     "output_type": "display_data"
    }
   ],
   "source": [
    "plot_payoff(['22250cx1@261', '22500cx-1@144'])"
   ]
  },
  {
   "cell_type": "code",
   "execution_count": 40,
   "metadata": {},
   "outputs": [
    {
     "data": {
      "text/html": [
       "<div>\n",
       "<style scoped>\n",
       "    .dataframe tbody tr th:only-of-type {\n",
       "        vertical-align: middle;\n",
       "    }\n",
       "\n",
       "    .dataframe tbody tr th {\n",
       "        vertical-align: top;\n",
       "    }\n",
       "\n",
       "    .dataframe thead th {\n",
       "        text-align: right;\n",
       "    }\n",
       "</style>\n",
       "<table border=\"1\" class=\"dataframe\">\n",
       "  <thead>\n",
       "    <tr style=\"text-align: right;\">\n",
       "      <th></th>\n",
       "      <th>delta</th>\n",
       "      <th>gamma</th>\n",
       "      <th>vega</th>\n",
       "      <th>theta</th>\n",
       "    </tr>\n",
       "    <tr>\n",
       "      <th>right</th>\n",
       "      <th></th>\n",
       "      <th></th>\n",
       "      <th></th>\n",
       "      <th></th>\n",
       "    </tr>\n",
       "  </thead>\n",
       "  <tbody>\n",
       "    <tr>\n",
       "      <th>22250c</th>\n",
       "      <td>0.486102</td>\n",
       "      <td>0.000572</td>\n",
       "      <td>15.192281</td>\n",
       "      <td>-12.972841</td>\n",
       "    </tr>\n",
       "    <tr>\n",
       "      <th>22500c</th>\n",
       "      <td>-0.338229</td>\n",
       "      <td>-0.000557</td>\n",
       "      <td>-13.934029</td>\n",
       "      <td>11.188627</td>\n",
       "    </tr>\n",
       "    <tr>\n",
       "      <th>sum</th>\n",
       "      <td>0.147874</td>\n",
       "      <td>0.000014</td>\n",
       "      <td>1.258252</td>\n",
       "      <td>-1.784214</td>\n",
       "    </tr>\n",
       "  </tbody>\n",
       "</table>\n",
       "</div>"
      ],
      "text/plain": [
       "           delta     gamma       vega      theta\n",
       "right                                           \n",
       "22250c  0.486102  0.000572  15.192281 -12.972841\n",
       "22500c -0.338229 -0.000557 -13.934029  11.188627\n",
       "sum     0.147874  0.000014   1.258252  -1.784214"
      ]
     },
     "execution_count": 40,
     "metadata": {},
     "output_type": "execute_result"
    }
   ],
   "source": [
    "get_greeks(['22250cx1@261', '22500cx-1@144'])"
   ]
  },
  {
   "cell_type": "code",
   "execution_count": 41,
   "metadata": {},
   "outputs": [
    {
     "data": {
      "image/png": "[encoded data removed]",
      "text/plain": [
       "<matplotlib.figure.Figure at 0x7f125cb1f198>"
      ]
     },
     "metadata": {},
     "output_type": "display_data"
    }
   ],
   "source": [
    "plot_payoff(['21750px1@139', '21500px-1@101'])"
   ]
  },
  {
   "cell_type": "code",
   "execution_count": 42,
   "metadata": {},
   "outputs": [
    {
     "data": {
      "text/html": [
       "<div>\n",
       "<style scoped>\n",
       "    .dataframe tbody tr th:only-of-type {\n",
       "        vertical-align: middle;\n",
       "    }\n",
       "\n",
       "    .dataframe tbody tr th {\n",
       "        vertical-align: top;\n",
       "    }\n",
       "\n",
       "    .dataframe thead th {\n",
       "        text-align: right;\n",
       "    }\n",
       "</style>\n",
       "<table border=\"1\" class=\"dataframe\">\n",
       "  <thead>\n",
       "    <tr style=\"text-align: right;\">\n",
       "      <th></th>\n",
       "      <th>delta</th>\n",
       "      <th>gamma</th>\n",
       "      <th>vega</th>\n",
       "      <th>theta</th>\n",
       "    </tr>\n",
       "    <tr>\n",
       "      <th>right</th>\n",
       "      <th></th>\n",
       "      <th></th>\n",
       "      <th></th>\n",
       "      <th></th>\n",
       "    </tr>\n",
       "  </thead>\n",
       "  <tbody>\n",
       "    <tr>\n",
       "      <th>21750p</th>\n",
       "      <td>-0.274758</td>\n",
       "      <td>0.000412</td>\n",
       "      <td>12.709052</td>\n",
       "      <td>-12.551943</td>\n",
       "    </tr>\n",
       "    <tr>\n",
       "      <th>21500p</th>\n",
       "      <td>0.200267</td>\n",
       "      <td>-0.000317</td>\n",
       "      <td>-10.676542</td>\n",
       "      <td>11.534445</td>\n",
       "    </tr>\n",
       "    <tr>\n",
       "      <th>sum</th>\n",
       "      <td>-0.074491</td>\n",
       "      <td>0.000096</td>\n",
       "      <td>2.032510</td>\n",
       "      <td>-1.017498</td>\n",
       "    </tr>\n",
       "  </tbody>\n",
       "</table>\n",
       "</div>"
      ],
      "text/plain": [
       "           delta     gamma       vega      theta\n",
       "right                                           \n",
       "21750p -0.274758  0.000412  12.709052 -12.551943\n",
       "21500p  0.200267 -0.000317 -10.676542  11.534445\n",
       "sum    -0.074491  0.000096   2.032510  -1.017498"
      ]
     },
     "execution_count": 42,
     "metadata": {},
     "output_type": "execute_result"
    }
   ],
   "source": [
    "get_greeks(['21750px1@139', '21500px-1@101'])"
   ]
  },
  {
   "cell_type": "markdown",
   "metadata": {},
   "source": [
    "### クレジットスプレッド\n",
    "\n",
    "* OTMを売り、その外側のOTMを買う戦略\n",
    "* ネイキッドショートの損失を限定した形"
   ]
  },
  {
   "cell_type": "code",
   "execution_count": 43,
   "metadata": {},
   "outputs": [
    {
     "data": {
      "image/png": "[encoded data removed]",
      "text/plain": [
       "<matplotlib.figure.Figure at 0x7f125cb1fbe0>"
      ]
     },
     "metadata": {},
     "output_type": "display_data"
    }
   ],
   "source": [
    "plot_payoff(['22250cx-1@261', '22500cx1@144'])"
   ]
  },
  {
   "cell_type": "code",
   "execution_count": 44,
   "metadata": {},
   "outputs": [
    {
     "data": {
      "text/html": [
       "<div>\n",
       "<style scoped>\n",
       "    .dataframe tbody tr th:only-of-type {\n",
       "        vertical-align: middle;\n",
       "    }\n",
       "\n",
       "    .dataframe tbody tr th {\n",
       "        vertical-align: top;\n",
       "    }\n",
       "\n",
       "    .dataframe thead th {\n",
       "        text-align: right;\n",
       "    }\n",
       "</style>\n",
       "<table border=\"1\" class=\"dataframe\">\n",
       "  <thead>\n",
       "    <tr style=\"text-align: right;\">\n",
       "      <th></th>\n",
       "      <th>delta</th>\n",
       "      <th>gamma</th>\n",
       "      <th>vega</th>\n",
       "      <th>theta</th>\n",
       "    </tr>\n",
       "    <tr>\n",
       "      <th>right</th>\n",
       "      <th></th>\n",
       "      <th></th>\n",
       "      <th></th>\n",
       "      <th></th>\n",
       "    </tr>\n",
       "  </thead>\n",
       "  <tbody>\n",
       "    <tr>\n",
       "      <th>22250c</th>\n",
       "      <td>-0.486102</td>\n",
       "      <td>-0.000572</td>\n",
       "      <td>-15.192281</td>\n",
       "      <td>12.972841</td>\n",
       "    </tr>\n",
       "    <tr>\n",
       "      <th>22500c</th>\n",
       "      <td>0.338229</td>\n",
       "      <td>0.000557</td>\n",
       "      <td>13.934029</td>\n",
       "      <td>-11.188627</td>\n",
       "    </tr>\n",
       "    <tr>\n",
       "      <th>sum</th>\n",
       "      <td>-0.147874</td>\n",
       "      <td>-0.000014</td>\n",
       "      <td>-1.258252</td>\n",
       "      <td>1.784214</td>\n",
       "    </tr>\n",
       "  </tbody>\n",
       "</table>\n",
       "</div>"
      ],
      "text/plain": [
       "           delta     gamma       vega      theta\n",
       "right                                           \n",
       "22250c -0.486102 -0.000572 -15.192281  12.972841\n",
       "22500c  0.338229  0.000557  13.934029 -11.188627\n",
       "sum    -0.147874 -0.000014  -1.258252   1.784214"
      ]
     },
     "execution_count": 44,
     "metadata": {},
     "output_type": "execute_result"
    }
   ],
   "source": [
    "get_greeks(['22250cx-1@261', '22500cx1@144'])"
   ]
  },
  {
   "cell_type": "code",
   "execution_count": 45,
   "metadata": {},
   "outputs": [
    {
     "data": {
      "image/png": "[encoded data removed]",
      "text/plain": [
       "<matplotlib.figure.Figure at 0x7f125cb5d278>"
      ]
     },
     "metadata": {},
     "output_type": "display_data"
    }
   ],
   "source": [
    "plot_payoff(['21750px-1@139', '21500px1@101'])"
   ]
  },
  {
   "cell_type": "code",
   "execution_count": 46,
   "metadata": {},
   "outputs": [
    {
     "data": {
      "text/html": [
       "<div>\n",
       "<style scoped>\n",
       "    .dataframe tbody tr th:only-of-type {\n",
       "        vertical-align: middle;\n",
       "    }\n",
       "\n",
       "    .dataframe tbody tr th {\n",
       "        vertical-align: top;\n",
       "    }\n",
       "\n",
       "    .dataframe thead th {\n",
       "        text-align: right;\n",
       "    }\n",
       "</style>\n",
       "<table border=\"1\" class=\"dataframe\">\n",
       "  <thead>\n",
       "    <tr style=\"text-align: right;\">\n",
       "      <th></th>\n",
       "      <th>delta</th>\n",
       "      <th>gamma</th>\n",
       "      <th>vega</th>\n",
       "      <th>theta</th>\n",
       "    </tr>\n",
       "    <tr>\n",
       "      <th>right</th>\n",
       "      <th></th>\n",
       "      <th></th>\n",
       "      <th></th>\n",
       "      <th></th>\n",
       "    </tr>\n",
       "  </thead>\n",
       "  <tbody>\n",
       "    <tr>\n",
       "      <th>21750p</th>\n",
       "      <td>0.274758</td>\n",
       "      <td>-0.000412</td>\n",
       "      <td>-12.709052</td>\n",
       "      <td>12.551943</td>\n",
       "    </tr>\n",
       "    <tr>\n",
       "      <th>21500p</th>\n",
       "      <td>-0.200267</td>\n",
       "      <td>0.000317</td>\n",
       "      <td>10.676542</td>\n",
       "      <td>-11.534445</td>\n",
       "    </tr>\n",
       "    <tr>\n",
       "      <th>sum</th>\n",
       "      <td>0.074491</td>\n",
       "      <td>-0.000096</td>\n",
       "      <td>-2.032510</td>\n",
       "      <td>1.017498</td>\n",
       "    </tr>\n",
       "  </tbody>\n",
       "</table>\n",
       "</div>"
      ],
      "text/plain": [
       "           delta     gamma       vega      theta\n",
       "right                                           \n",
       "21750p  0.274758 -0.000412 -12.709052  12.551943\n",
       "21500p -0.200267  0.000317  10.676542 -11.534445\n",
       "sum     0.074491 -0.000096  -2.032510   1.017498"
      ]
     },
     "execution_count": 46,
     "metadata": {},
     "output_type": "execute_result"
    }
   ],
   "source": [
    "get_greeks(['21750px-1@139', '21500px1@101'])"
   ]
  },
  {
   "cell_type": "markdown",
   "metadata": {},
   "source": [
    "### ブルシンセティック(リスクリバーサルの売り)\n",
    "\n",
    "* OTMコールを買い、OTMプットを売る戦略\n",
    "* 先物ロングに似ているが、動きがなかった場合に中立となる\n",
    "* ボラティリティの歪み(skew)をとる場合に組成される"
   ]
  },
  {
   "cell_type": "code",
   "execution_count": 47,
   "metadata": {},
   "outputs": [
    {
     "data": {
      "image/png": "[encoded data removed]",
      "text/plain": [
       "<matplotlib.figure.Figure at 0x7f125ccff208>"
      ]
     },
     "metadata": {},
     "output_type": "display_data"
    }
   ],
   "source": [
    "plot_payoff(['22625cx1@108', '21500px-1@101'])"
   ]
  },
  {
   "cell_type": "code",
   "execution_count": 48,
   "metadata": {},
   "outputs": [
    {
     "data": {
      "text/html": [
       "<div>\n",
       "<style scoped>\n",
       "    .dataframe tbody tr th:only-of-type {\n",
       "        vertical-align: middle;\n",
       "    }\n",
       "\n",
       "    .dataframe tbody tr th {\n",
       "        vertical-align: top;\n",
       "    }\n",
       "\n",
       "    .dataframe thead th {\n",
       "        text-align: right;\n",
       "    }\n",
       "</style>\n",
       "<table border=\"1\" class=\"dataframe\">\n",
       "  <thead>\n",
       "    <tr style=\"text-align: right;\">\n",
       "      <th></th>\n",
       "      <th>delta</th>\n",
       "      <th>gamma</th>\n",
       "      <th>vega</th>\n",
       "      <th>theta</th>\n",
       "    </tr>\n",
       "    <tr>\n",
       "      <th>right</th>\n",
       "      <th></th>\n",
       "      <th></th>\n",
       "      <th></th>\n",
       "      <th></th>\n",
       "    </tr>\n",
       "  </thead>\n",
       "  <tbody>\n",
       "    <tr>\n",
       "      <th>22625c</th>\n",
       "      <td>0.272680</td>\n",
       "      <td>0.000506</td>\n",
       "      <td>12.661436</td>\n",
       "      <td>-10.167566</td>\n",
       "    </tr>\n",
       "    <tr>\n",
       "      <th>21500p</th>\n",
       "      <td>0.200267</td>\n",
       "      <td>-0.000317</td>\n",
       "      <td>-10.676542</td>\n",
       "      <td>11.534445</td>\n",
       "    </tr>\n",
       "    <tr>\n",
       "      <th>sum</th>\n",
       "      <td>0.472947</td>\n",
       "      <td>0.000190</td>\n",
       "      <td>1.984894</td>\n",
       "      <td>1.366879</td>\n",
       "    </tr>\n",
       "  </tbody>\n",
       "</table>\n",
       "</div>"
      ],
      "text/plain": [
       "           delta     gamma       vega      theta\n",
       "right                                           \n",
       "22625c  0.272680  0.000506  12.661436 -10.167566\n",
       "21500p  0.200267 -0.000317 -10.676542  11.534445\n",
       "sum     0.472947  0.000190   1.984894   1.366879"
      ]
     },
     "execution_count": 48,
     "metadata": {},
     "output_type": "execute_result"
    }
   ],
   "source": [
    "get_greeks(['22625cx1@108', '21500px-1@101'])"
   ]
  },
  {
   "cell_type": "markdown",
   "metadata": {},
   "source": [
    "### ベアシンセティック(リスクリバーサルの買い)\n",
    "\n",
    "* OTMコールを売り、OTMプットを買う戦略\n",
    "* 先物ショートに似ているが、動きがなかった場合に中立となる\n",
    "* ボラティリティの歪み(skew)をとる場合に組成される"
   ]
  },
  {
   "cell_type": "code",
   "execution_count": 49,
   "metadata": {},
   "outputs": [
    {
     "data": {
      "image/png": "[encoded data removed]",
      "text/plain": [
       "<matplotlib.figure.Figure at 0x7f125cbb9978>"
      ]
     },
     "metadata": {},
     "output_type": "display_data"
    }
   ],
   "source": [
    "plot_payoff(['22625cx-1@108', '21500px1@101'])"
   ]
  },
  {
   "cell_type": "code",
   "execution_count": 50,
   "metadata": {},
   "outputs": [
    {
     "data": {
      "text/html": [
       "<div>\n",
       "<style scoped>\n",
       "    .dataframe tbody tr th:only-of-type {\n",
       "        vertical-align: middle;\n",
       "    }\n",
       "\n",
       "    .dataframe tbody tr th {\n",
       "        vertical-align: top;\n",
       "    }\n",
       "\n",
       "    .dataframe thead th {\n",
       "        text-align: right;\n",
       "    }\n",
       "</style>\n",
       "<table border=\"1\" class=\"dataframe\">\n",
       "  <thead>\n",
       "    <tr style=\"text-align: right;\">\n",
       "      <th></th>\n",
       "      <th>delta</th>\n",
       "      <th>gamma</th>\n",
       "      <th>vega</th>\n",
       "      <th>theta</th>\n",
       "    </tr>\n",
       "    <tr>\n",
       "      <th>right</th>\n",
       "      <th></th>\n",
       "      <th></th>\n",
       "      <th></th>\n",
       "      <th></th>\n",
       "    </tr>\n",
       "  </thead>\n",
       "  <tbody>\n",
       "    <tr>\n",
       "      <th>22625c</th>\n",
       "      <td>-0.272680</td>\n",
       "      <td>-0.000506</td>\n",
       "      <td>-12.661436</td>\n",
       "      <td>10.167566</td>\n",
       "    </tr>\n",
       "    <tr>\n",
       "      <th>21500p</th>\n",
       "      <td>-0.200267</td>\n",
       "      <td>0.000317</td>\n",
       "      <td>10.676542</td>\n",
       "      <td>-11.534445</td>\n",
       "    </tr>\n",
       "    <tr>\n",
       "      <th>sum</th>\n",
       "      <td>-0.472947</td>\n",
       "      <td>-0.000190</td>\n",
       "      <td>-1.984894</td>\n",
       "      <td>-1.366879</td>\n",
       "    </tr>\n",
       "  </tbody>\n",
       "</table>\n",
       "</div>"
      ],
      "text/plain": [
       "           delta     gamma       vega      theta\n",
       "right                                           \n",
       "22625c -0.272680 -0.000506 -12.661436  10.167566\n",
       "21500p -0.200267  0.000317  10.676542 -11.534445\n",
       "sum    -0.472947 -0.000190  -1.984894  -1.366879"
      ]
     },
     "execution_count": 50,
     "metadata": {},
     "output_type": "execute_result"
    }
   ],
   "source": [
    "get_greeks(['22625cx-1@108', '21500px1@101'])"
   ]
  },
  {
   "cell_type": "markdown",
   "metadata": {},
   "source": [
    "### デルタヘッジ+ブルシンセティック(リスクリバーサルの売り)\n",
    "\n",
    "* 先物でデルタを調整したシンセティック"
   ]
  },
  {
   "cell_type": "code",
   "execution_count": 51,
   "metadata": {},
   "outputs": [
    {
     "data": {
      "image/png": "[encoded data removed]",
      "text/plain": [
       "<matplotlib.figure.Figure at 0x7f125cf257b8>"
      ]
     },
     "metadata": {},
     "output_type": "display_data"
    }
   ],
   "source": [
    "plot_payoff(['22625cx1@108', '21500px-1@101', 'sx-0.47@22214'])"
   ]
  },
  {
   "cell_type": "code",
   "execution_count": 52,
   "metadata": {},
   "outputs": [
    {
     "data": {
      "text/html": [
       "<div>\n",
       "<style scoped>\n",
       "    .dataframe tbody tr th:only-of-type {\n",
       "        vertical-align: middle;\n",
       "    }\n",
       "\n",
       "    .dataframe tbody tr th {\n",
       "        vertical-align: top;\n",
       "    }\n",
       "\n",
       "    .dataframe thead th {\n",
       "        text-align: right;\n",
       "    }\n",
       "</style>\n",
       "<table border=\"1\" class=\"dataframe\">\n",
       "  <thead>\n",
       "    <tr style=\"text-align: right;\">\n",
       "      <th></th>\n",
       "      <th>delta</th>\n",
       "      <th>gamma</th>\n",
       "      <th>vega</th>\n",
       "      <th>theta</th>\n",
       "    </tr>\n",
       "    <tr>\n",
       "      <th>right</th>\n",
       "      <th></th>\n",
       "      <th></th>\n",
       "      <th></th>\n",
       "      <th></th>\n",
       "    </tr>\n",
       "  </thead>\n",
       "  <tbody>\n",
       "    <tr>\n",
       "      <th>22625c</th>\n",
       "      <td>0.272680</td>\n",
       "      <td>0.000506</td>\n",
       "      <td>12.661436</td>\n",
       "      <td>-10.167566</td>\n",
       "    </tr>\n",
       "    <tr>\n",
       "      <th>21500p</th>\n",
       "      <td>0.200267</td>\n",
       "      <td>-0.000317</td>\n",
       "      <td>-10.676542</td>\n",
       "      <td>11.534445</td>\n",
       "    </tr>\n",
       "    <tr>\n",
       "      <th>f</th>\n",
       "      <td>-0.470000</td>\n",
       "      <td>0.000000</td>\n",
       "      <td>0.000000</td>\n",
       "      <td>0.000000</td>\n",
       "    </tr>\n",
       "    <tr>\n",
       "      <th>sum</th>\n",
       "      <td>0.002947</td>\n",
       "      <td>0.000190</td>\n",
       "      <td>1.984894</td>\n",
       "      <td>1.366879</td>\n",
       "    </tr>\n",
       "  </tbody>\n",
       "</table>\n",
       "</div>"
      ],
      "text/plain": [
       "           delta     gamma       vega      theta\n",
       "right                                           \n",
       "22625c  0.272680  0.000506  12.661436 -10.167566\n",
       "21500p  0.200267 -0.000317 -10.676542  11.534445\n",
       "f      -0.470000  0.000000   0.000000   0.000000\n",
       "sum     0.002947  0.000190   1.984894   1.366879"
      ]
     },
     "execution_count": 52,
     "metadata": {},
     "output_type": "execute_result"
    }
   ],
   "source": [
    "get_greeks(['22625cx1@108', '21500px-1@101', 'sx-0.47@22214'])"
   ]
  },
  {
   "cell_type": "markdown",
   "metadata": {},
   "source": [
    "### デルタヘッジ+ベアシンセティック(リスクリバーサルの買い)\n",
    "\n",
    "* 先物でデルタを調整したシンセティック"
   ]
  },
  {
   "cell_type": "code",
   "execution_count": 53,
   "metadata": {},
   "outputs": [
    {
     "data": {
      "image/png": "[encoded data removed]",
      "text/plain": [
       "<matplotlib.figure.Figure at 0x7f125ce528d0>"
      ]
     },
     "metadata": {},
     "output_type": "display_data"
    }
   ],
   "source": [
    "plot_payoff(['22625cx-1@108', '21500px1@101', 'sx0.47@22214'])"
   ]
  },
  {
   "cell_type": "markdown",
   "metadata": {},
   "source": [
    "### レシオスプレッド\n",
    "\n",
    "* オプションを買いその外側を複数売る戦略\n",
    "* 先物が緩やかに動くことを狙って組成\n",
    "* 勝率は高いがリスクも高い"
   ]
  },
  {
   "cell_type": "code",
   "execution_count": 54,
   "metadata": {},
   "outputs": [
    {
     "data": {
      "image/png": "[encoded data removed]",
      "text/plain": [
       "<matplotlib.figure.Figure at 0x7f125cda8c88>"
      ]
     },
     "metadata": {},
     "output_type": "display_data"
    }
   ],
   "source": [
    "plot_payoff(['22500cx1@145', '22625cx-2@108'])"
   ]
  },
  {
   "cell_type": "code",
   "execution_count": 55,
   "metadata": {},
   "outputs": [
    {
     "data": {
      "text/html": [
       "<div>\n",
       "<style scoped>\n",
       "    .dataframe tbody tr th:only-of-type {\n",
       "        vertical-align: middle;\n",
       "    }\n",
       "\n",
       "    .dataframe tbody tr th {\n",
       "        vertical-align: top;\n",
       "    }\n",
       "\n",
       "    .dataframe thead th {\n",
       "        text-align: right;\n",
       "    }\n",
       "</style>\n",
       "<table border=\"1\" class=\"dataframe\">\n",
       "  <thead>\n",
       "    <tr style=\"text-align: right;\">\n",
       "      <th></th>\n",
       "      <th>delta</th>\n",
       "      <th>gamma</th>\n",
       "      <th>vega</th>\n",
       "      <th>theta</th>\n",
       "    </tr>\n",
       "    <tr>\n",
       "      <th>right</th>\n",
       "      <th></th>\n",
       "      <th></th>\n",
       "      <th></th>\n",
       "      <th></th>\n",
       "    </tr>\n",
       "  </thead>\n",
       "  <tbody>\n",
       "    <tr>\n",
       "      <th>22500c</th>\n",
       "      <td>0.338229</td>\n",
       "      <td>0.000557</td>\n",
       "      <td>13.934029</td>\n",
       "      <td>-11.188627</td>\n",
       "    </tr>\n",
       "    <tr>\n",
       "      <th>22625c</th>\n",
       "      <td>-0.545361</td>\n",
       "      <td>-0.001013</td>\n",
       "      <td>-25.322872</td>\n",
       "      <td>20.335132</td>\n",
       "    </tr>\n",
       "    <tr>\n",
       "      <th>sum</th>\n",
       "      <td>-0.207132</td>\n",
       "      <td>-0.000455</td>\n",
       "      <td>-11.388843</td>\n",
       "      <td>9.146505</td>\n",
       "    </tr>\n",
       "  </tbody>\n",
       "</table>\n",
       "</div>"
      ],
      "text/plain": [
       "           delta     gamma       vega      theta\n",
       "right                                           \n",
       "22500c  0.338229  0.000557  13.934029 -11.188627\n",
       "22625c -0.545361 -0.001013 -25.322872  20.335132\n",
       "sum    -0.207132 -0.000455 -11.388843   9.146505"
      ]
     },
     "execution_count": 55,
     "metadata": {},
     "output_type": "execute_result"
    }
   ],
   "source": [
    "get_greeks(['22500cx1@145', '22625cx-2@108'])"
   ]
  },
  {
   "cell_type": "code",
   "execution_count": 56,
   "metadata": {},
   "outputs": [
    {
     "data": {
      "image/png": "[encoded data removed]",
      "text/plain": [
       "<matplotlib.figure.Figure at 0x7f125cc166a0>"
      ]
     },
     "metadata": {},
     "output_type": "display_data"
    }
   ],
   "source": [
    "plot_payoff(['21875px1@167', '21750px-2@139'])"
   ]
  },
  {
   "cell_type": "code",
   "execution_count": 57,
   "metadata": {},
   "outputs": [
    {
     "data": {
      "text/html": [
       "<div>\n",
       "<style scoped>\n",
       "    .dataframe tbody tr th:only-of-type {\n",
       "        vertical-align: middle;\n",
       "    }\n",
       "\n",
       "    .dataframe tbody tr th {\n",
       "        vertical-align: top;\n",
       "    }\n",
       "\n",
       "    .dataframe thead th {\n",
       "        text-align: right;\n",
       "    }\n",
       "</style>\n",
       "<table border=\"1\" class=\"dataframe\">\n",
       "  <thead>\n",
       "    <tr style=\"text-align: right;\">\n",
       "      <th></th>\n",
       "      <th>delta</th>\n",
       "      <th>gamma</th>\n",
       "      <th>vega</th>\n",
       "      <th>theta</th>\n",
       "    </tr>\n",
       "    <tr>\n",
       "      <th>right</th>\n",
       "      <th></th>\n",
       "      <th></th>\n",
       "      <th></th>\n",
       "      <th></th>\n",
       "    </tr>\n",
       "  </thead>\n",
       "  <tbody>\n",
       "    <tr>\n",
       "      <th>21875p</th>\n",
       "      <td>-0.323431</td>\n",
       "      <td>0.000462</td>\n",
       "      <td>13.687263</td>\n",
       "      <td>-12.974453</td>\n",
       "    </tr>\n",
       "    <tr>\n",
       "      <th>21750p</th>\n",
       "      <td>0.549515</td>\n",
       "      <td>-0.000824</td>\n",
       "      <td>-25.418104</td>\n",
       "      <td>25.103885</td>\n",
       "    </tr>\n",
       "    <tr>\n",
       "      <th>sum</th>\n",
       "      <td>0.226084</td>\n",
       "      <td>-0.000362</td>\n",
       "      <td>-11.730841</td>\n",
       "      <td>12.129432</td>\n",
       "    </tr>\n",
       "  </tbody>\n",
       "</table>\n",
       "</div>"
      ],
      "text/plain": [
       "           delta     gamma       vega      theta\n",
       "right                                           \n",
       "21875p -0.323431  0.000462  13.687263 -12.974453\n",
       "21750p  0.549515 -0.000824 -25.418104  25.103885\n",
       "sum     0.226084 -0.000362 -11.730841  12.129432"
      ]
     },
     "execution_count": 57,
     "metadata": {},
     "output_type": "execute_result"
    }
   ],
   "source": [
    "get_greeks(['21875px1@167', '21750px-2@139'])"
   ]
  },
  {
   "cell_type": "markdown",
   "metadata": {},
   "source": [
    "### バックスプレッド\n",
    "\n",
    "* オプションを売りその外側を複数買う戦略\n",
    "* ガンマとベガの上昇を効率よくとりにいける"
   ]
  },
  {
   "cell_type": "code",
   "execution_count": 58,
   "metadata": {},
   "outputs": [
    {
     "data": {
      "image/png": "[encoded data removed]",
      "text/plain": [
       "<matplotlib.figure.Figure at 0x7f125cd8a2e8>"
      ]
     },
     "metadata": {},
     "output_type": "display_data"
    }
   ],
   "source": [
    "plot_payoff(['22500cx-1@145', '22625cx2@108'])"
   ]
  },
  {
   "cell_type": "code",
   "execution_count": 59,
   "metadata": {},
   "outputs": [
    {
     "data": {
      "text/html": [
       "<div>\n",
       "<style scoped>\n",
       "    .dataframe tbody tr th:only-of-type {\n",
       "        vertical-align: middle;\n",
       "    }\n",
       "\n",
       "    .dataframe tbody tr th {\n",
       "        vertical-align: top;\n",
       "    }\n",
       "\n",
       "    .dataframe thead th {\n",
       "        text-align: right;\n",
       "    }\n",
       "</style>\n",
       "<table border=\"1\" class=\"dataframe\">\n",
       "  <thead>\n",
       "    <tr style=\"text-align: right;\">\n",
       "      <th></th>\n",
       "      <th>delta</th>\n",
       "      <th>gamma</th>\n",
       "      <th>vega</th>\n",
       "      <th>theta</th>\n",
       "    </tr>\n",
       "    <tr>\n",
       "      <th>right</th>\n",
       "      <th></th>\n",
       "      <th></th>\n",
       "      <th></th>\n",
       "      <th></th>\n",
       "    </tr>\n",
       "  </thead>\n",
       "  <tbody>\n",
       "    <tr>\n",
       "      <th>22500c</th>\n",
       "      <td>-0.338229</td>\n",
       "      <td>-0.000557</td>\n",
       "      <td>-13.934029</td>\n",
       "      <td>11.188627</td>\n",
       "    </tr>\n",
       "    <tr>\n",
       "      <th>22625c</th>\n",
       "      <td>0.545361</td>\n",
       "      <td>0.001013</td>\n",
       "      <td>25.322872</td>\n",
       "      <td>-20.335132</td>\n",
       "    </tr>\n",
       "    <tr>\n",
       "      <th>sum</th>\n",
       "      <td>0.207132</td>\n",
       "      <td>0.000455</td>\n",
       "      <td>11.388843</td>\n",
       "      <td>-9.146505</td>\n",
       "    </tr>\n",
       "  </tbody>\n",
       "</table>\n",
       "</div>"
      ],
      "text/plain": [
       "           delta     gamma       vega      theta\n",
       "right                                           \n",
       "22500c -0.338229 -0.000557 -13.934029  11.188627\n",
       "22625c  0.545361  0.001013  25.322872 -20.335132\n",
       "sum     0.207132  0.000455  11.388843  -9.146505"
      ]
     },
     "execution_count": 59,
     "metadata": {},
     "output_type": "execute_result"
    }
   ],
   "source": [
    "get_greeks(['22500cx-1@145', '22625cx2@108'])"
   ]
  },
  {
   "cell_type": "code",
   "execution_count": 60,
   "metadata": {},
   "outputs": [
    {
     "data": {
      "image/png": "[encoded data removed]",
      "text/plain": [
       "<matplotlib.figure.Figure at 0x7f125cbdb860>"
      ]
     },
     "metadata": {},
     "output_type": "display_data"
    }
   ],
   "source": [
    "plot_payoff(['21875px-1@167', '21750px2@139'])"
   ]
  },
  {
   "cell_type": "code",
   "execution_count": 61,
   "metadata": {},
   "outputs": [
    {
     "data": {
      "text/html": [
       "<div>\n",
       "<style scoped>\n",
       "    .dataframe tbody tr th:only-of-type {\n",
       "        vertical-align: middle;\n",
       "    }\n",
       "\n",
       "    .dataframe tbody tr th {\n",
       "        vertical-align: top;\n",
       "    }\n",
       "\n",
       "    .dataframe thead th {\n",
       "        text-align: right;\n",
       "    }\n",
       "</style>\n",
       "<table border=\"1\" class=\"dataframe\">\n",
       "  <thead>\n",
       "    <tr style=\"text-align: right;\">\n",
       "      <th></th>\n",
       "      <th>delta</th>\n",
       "      <th>gamma</th>\n",
       "      <th>vega</th>\n",
       "      <th>theta</th>\n",
       "    </tr>\n",
       "    <tr>\n",
       "      <th>right</th>\n",
       "      <th></th>\n",
       "      <th></th>\n",
       "      <th></th>\n",
       "      <th></th>\n",
       "    </tr>\n",
       "  </thead>\n",
       "  <tbody>\n",
       "    <tr>\n",
       "      <th>21875p</th>\n",
       "      <td>0.323431</td>\n",
       "      <td>-0.000462</td>\n",
       "      <td>-13.687263</td>\n",
       "      <td>12.974453</td>\n",
       "    </tr>\n",
       "    <tr>\n",
       "      <th>21750p</th>\n",
       "      <td>-0.549515</td>\n",
       "      <td>0.000824</td>\n",
       "      <td>25.418104</td>\n",
       "      <td>-25.103885</td>\n",
       "    </tr>\n",
       "    <tr>\n",
       "      <th>sum</th>\n",
       "      <td>-0.226084</td>\n",
       "      <td>0.000362</td>\n",
       "      <td>11.730841</td>\n",
       "      <td>-12.129432</td>\n",
       "    </tr>\n",
       "  </tbody>\n",
       "</table>\n",
       "</div>"
      ],
      "text/plain": [
       "           delta     gamma       vega      theta\n",
       "right                                           \n",
       "21875p  0.323431 -0.000462 -13.687263  12.974453\n",
       "21750p -0.549515  0.000824  25.418104 -25.103885\n",
       "sum    -0.226084  0.000362  11.730841 -12.129432"
      ]
     },
     "execution_count": 61,
     "metadata": {},
     "output_type": "execute_result"
    }
   ],
   "source": [
    "get_greeks(['21875px-1@167', '21750px2@139'])"
   ]
  },
  {
   "cell_type": "markdown",
   "metadata": {},
   "source": [
    "### ロングバタフライ\n",
    "\n",
    "* オプションを1枚買いその外側を2枚売り、更にその外側を1枚買う戦略\n",
    "* 精算値がオプションを売った位置にくると最大の利益となる\n",
    "* コストが安い\n",
    "* グリークスがほぼニュートラルで非常にリスクが少ない"
   ]
  },
  {
   "cell_type": "code",
   "execution_count": 62,
   "metadata": {},
   "outputs": [
    {
     "data": {
      "image/png": "[encoded data removed]",
      "text/plain": [
       "<matplotlib.figure.Figure at 0x7f125ca984a8>"
      ]
     },
     "metadata": {},
     "output_type": "display_data"
    }
   ],
   "source": [
    "plot_payoff(['22500cx1@145', '22625cx-2@108', '22750cx1@77'])"
   ]
  },
  {
   "cell_type": "code",
   "execution_count": 63,
   "metadata": {},
   "outputs": [
    {
     "data": {
      "text/html": [
       "<div>\n",
       "<style scoped>\n",
       "    .dataframe tbody tr th:only-of-type {\n",
       "        vertical-align: middle;\n",
       "    }\n",
       "\n",
       "    .dataframe tbody tr th {\n",
       "        vertical-align: top;\n",
       "    }\n",
       "\n",
       "    .dataframe thead th {\n",
       "        text-align: right;\n",
       "    }\n",
       "</style>\n",
       "<table border=\"1\" class=\"dataframe\">\n",
       "  <thead>\n",
       "    <tr style=\"text-align: right;\">\n",
       "      <th></th>\n",
       "      <th>delta</th>\n",
       "      <th>gamma</th>\n",
       "      <th>vega</th>\n",
       "      <th>theta</th>\n",
       "    </tr>\n",
       "    <tr>\n",
       "      <th>right</th>\n",
       "      <th></th>\n",
       "      <th></th>\n",
       "      <th></th>\n",
       "      <th></th>\n",
       "    </tr>\n",
       "  </thead>\n",
       "  <tbody>\n",
       "    <tr>\n",
       "      <th>22500c</th>\n",
       "      <td>0.338229</td>\n",
       "      <td>0.000557</td>\n",
       "      <td>13.934029</td>\n",
       "      <td>-11.188627</td>\n",
       "    </tr>\n",
       "    <tr>\n",
       "      <th>22625c</th>\n",
       "      <td>-0.545361</td>\n",
       "      <td>-0.001013</td>\n",
       "      <td>-25.322872</td>\n",
       "      <td>20.335132</td>\n",
       "    </tr>\n",
       "    <tr>\n",
       "      <th>22750c</th>\n",
       "      <td>0.211200</td>\n",
       "      <td>0.000447</td>\n",
       "      <td>11.018721</td>\n",
       "      <td>-8.729772</td>\n",
       "    </tr>\n",
       "    <tr>\n",
       "      <th>sum</th>\n",
       "      <td>0.004068</td>\n",
       "      <td>-0.000009</td>\n",
       "      <td>-0.370122</td>\n",
       "      <td>0.416733</td>\n",
       "    </tr>\n",
       "  </tbody>\n",
       "</table>\n",
       "</div>"
      ],
      "text/plain": [
       "           delta     gamma       vega      theta\n",
       "right                                           \n",
       "22500c  0.338229  0.000557  13.934029 -11.188627\n",
       "22625c -0.545361 -0.001013 -25.322872  20.335132\n",
       "22750c  0.211200  0.000447  11.018721  -8.729772\n",
       "sum     0.004068 -0.000009  -0.370122   0.416733"
      ]
     },
     "execution_count": 63,
     "metadata": {},
     "output_type": "execute_result"
    }
   ],
   "source": [
    "get_greeks(['22500cx1@145', '22625cx-2@108', '22750cx1@77'])"
   ]
  },
  {
   "cell_type": "markdown",
   "metadata": {},
   "source": [
    "### ショートバタフライ\n",
    "\n",
    "* オプションを1枚売りその外側を2枚買い、更にその外側を1枚売る戦略\n",
    "* 精算値がオプションを買った外側に来ると利益となる\n",
    "* コストが安い\n",
    "* グリークスがほぼニュートラルで非常にリスクが少ない"
   ]
  },
  {
   "cell_type": "code",
   "execution_count": 64,
   "metadata": {},
   "outputs": [
    {
     "data": {
      "image/png": "[encoded data removed]",
      "text/plain": [
       "<matplotlib.figure.Figure at 0x7f125ccf9d30>"
      ]
     },
     "metadata": {},
     "output_type": "display_data"
    }
   ],
   "source": [
    "plot_payoff(['22250cx-1@261', '22375cx2@197', '22500cx-1@144'])"
   ]
  },
  {
   "cell_type": "code",
   "execution_count": 65,
   "metadata": {},
   "outputs": [
    {
     "data": {
      "text/html": [
       "<div>\n",
       "<style scoped>\n",
       "    .dataframe tbody tr th:only-of-type {\n",
       "        vertical-align: middle;\n",
       "    }\n",
       "\n",
       "    .dataframe tbody tr th {\n",
       "        vertical-align: top;\n",
       "    }\n",
       "\n",
       "    .dataframe thead th {\n",
       "        text-align: right;\n",
       "    }\n",
       "</style>\n",
       "<table border=\"1\" class=\"dataframe\">\n",
       "  <thead>\n",
       "    <tr style=\"text-align: right;\">\n",
       "      <th></th>\n",
       "      <th>delta</th>\n",
       "      <th>gamma</th>\n",
       "      <th>vega</th>\n",
       "      <th>theta</th>\n",
       "    </tr>\n",
       "    <tr>\n",
       "      <th>right</th>\n",
       "      <th></th>\n",
       "      <th></th>\n",
       "      <th></th>\n",
       "      <th></th>\n",
       "    </tr>\n",
       "  </thead>\n",
       "  <tbody>\n",
       "    <tr>\n",
       "      <th>22250c</th>\n",
       "      <td>-0.486102</td>\n",
       "      <td>-0.000572</td>\n",
       "      <td>-15.192281</td>\n",
       "      <td>12.972841</td>\n",
       "    </tr>\n",
       "    <tr>\n",
       "      <th>22375c</th>\n",
       "      <td>0.824490</td>\n",
       "      <td>0.001155</td>\n",
       "      <td>29.664632</td>\n",
       "      <td>-24.476199</td>\n",
       "    </tr>\n",
       "    <tr>\n",
       "      <th>22500c</th>\n",
       "      <td>-0.338229</td>\n",
       "      <td>-0.000557</td>\n",
       "      <td>-13.934029</td>\n",
       "      <td>11.188627</td>\n",
       "    </tr>\n",
       "    <tr>\n",
       "      <th>sum</th>\n",
       "      <td>0.000159</td>\n",
       "      <td>0.000026</td>\n",
       "      <td>0.538322</td>\n",
       "      <td>-0.314730</td>\n",
       "    </tr>\n",
       "  </tbody>\n",
       "</table>\n",
       "</div>"
      ],
      "text/plain": [
       "           delta     gamma       vega      theta\n",
       "right                                           \n",
       "22250c -0.486102 -0.000572 -15.192281  12.972841\n",
       "22375c  0.824490  0.001155  29.664632 -24.476199\n",
       "22500c -0.338229 -0.000557 -13.934029  11.188627\n",
       "sum     0.000159  0.000026   0.538322  -0.314730"
      ]
     },
     "execution_count": 65,
     "metadata": {},
     "output_type": "execute_result"
    }
   ],
   "source": [
    "get_greeks(['22250cx-1@261', '22375cx2@197', '22500cx-1@144'])"
   ]
  },
  {
   "cell_type": "markdown",
   "metadata": {},
   "source": [
    "### ロングコンドル"
   ]
  },
  {
   "cell_type": "code",
   "execution_count": null,
   "metadata": {},
   "outputs": [],
   "source": []
  }
 ],
 "metadata": {
  "kernelspec": {
   "display_name": "Python 3",
   "language": "python",
   "name": "python3"
  },
  "language_info": {
   "codemirror_mode": {
    "name": "ipython",
    "version": 3
   },
   "file_extension": ".py",
   "mimetype": "text/x-python",
   "name": "python",
   "nbconvert_exporter": "python",
   "pygments_lexer": "ipython3",
   "version": "3.6.3"
  }
 },
 "nbformat": 4,
 "nbformat_minor": 2
}
