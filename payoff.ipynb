{
 "cells": [
  {
   "cell_type": "code",
   "execution_count": 1,
   "metadata": {},
   "outputs": [],
   "source": [
    "import numpy as np\n",
    "import pandas as pd\n",
    "import matplotlib.pyplot as plt\n",
    "from ipywidgets import IntSlider, Dropdown, BoundedIntText, Button, VBox, HBox"
   ]
  },
  {
   "cell_type": "code",
   "execution_count": 2,
   "metadata": {},
   "outputs": [],
   "source": [
    "def payoff_fut(qty, s, p, k=None):\n",
    "    return (s - p) * qty\n",
    "\n",
    "\n",
    "def payoff_call(qty, s, p, k):\n",
    "    return (max(s - k, 0) - p) * qty\n",
    "\n",
    "\n",
    "def payoff_put(qty, s, p, k):\n",
    "    return (max(k - s, 0) - p) * qty\n",
    "\n",
    "\n",
    "def payoff(right, qty, s, p, k=None):\n",
    "    func = {'s': payoff_fut, 'c': payoff_call, 'p': payoff_put}\n",
    "    return func[right](qty, s, p, k)"
   ]
  },
  {
   "cell_type": "code",
   "execution_count": 3,
   "metadata": {},
   "outputs": [],
   "source": [
    "def make_payoff():\n",
    "    df = pd.DataFrame(portfolio).T\n",
    "    s_max = df[['k', 'p']].max().max()\n",
    "    s_min = df[['k', 'p']].min().min()\n",
    "\n",
    "    def get_mergin(df):\n",
    "        if df['k'].sum():\n",
    "            max_ = df['k'].max()\n",
    "            min_ = df['k'].min()\n",
    "        else:\n",
    "            max_ = df['p'].max()\n",
    "            min_ = df['p'].min()\n",
    "        return min_ * 0.8, max_ * 1.2\n",
    "\n",
    "    def get_payoff_range(id_, x):\n",
    "        y = x.copy()\n",
    "        for i, s in enumerate(x):\n",
    "            y[i] = payoff(s=s, **portfolio[id_])\n",
    "        return y\n",
    "\n",
    "    x = np.linspace(*get_mergin(df), 1000)\n",
    "    y = sum([get_payoff_range(id_, x) for id_ in portfolio])\n",
    "    return x, y\n",
    "\n",
    "\n",
    "def plot_payoff(submit):\n",
    "    x, y = make_payoff()\n",
    "    plt.plot(x, y)"
   ]
  },
  {
   "cell_type": "code",
   "execution_count": 4,
   "metadata": {},
   "outputs": [],
   "source": [
    "portfolio = {1: {'qty': 0, 'right': 's', 'k': 20000, 'p': 0},\n",
    "             2: {'qty': 0, 'right': 's', 'k': 20000, 'p': 0}}"
   ]
  },
  {
   "cell_type": "code",
   "execution_count": 8,
   "metadata": {},
   "outputs": [],
   "source": [
    "def get_position_id(x):\n",
    "    return int(x.split('#')[-1])\n",
    "\n",
    "\n",
    "def observe_widget(change, param):\n",
    "    position = get_position_id(change['owner'].description)\n",
    "    value = change['new']\n",
    "    portfolio[position][param] = value\n",
    "\n",
    "\n",
    "def observe_qty(change):\n",
    "    observe_widget(change, 'qty')\n",
    "\n",
    "\n",
    "def observe_k(change):\n",
    "    observe_widget(change, 'k')\n",
    "\n",
    "\n",
    "def observe_right(change):\n",
    "    observe_widget(change, 'right')\n",
    "\n",
    "\n",
    "def observe_price(change):\n",
    "    observe_widget(change, 'p')\n",
    "\n",
    "\n",
    "def make_widgets(id_):\n",
    "    description = '枚数#{}'.format(id_)\n",
    "    int_text_qty = BoundedIntText(\n",
    "        value=0, min=-100, max=100, description=description)\n",
    "    int_text_qty.observe(observe_qty, names='value')\n",
    "\n",
    "    description = '権利行使価格#{}'.format(id_)\n",
    "    int_slider_k = IntSlider(value=20000, min=10000,\n",
    "                             max=30000, step=125, description=description)\n",
    "    int_slider_k.observe(observe_k, names='value')\n",
    "\n",
    "    description = '種別#{}'.format(id_)\n",
    "    dropdown_right = Dropdown(options=['s', 'c', 'p'], description=description)\n",
    "    dropdown_right.observe(observe_right, names='value')\n",
    "\n",
    "    description = '価格#{}'.format(id_)\n",
    "    int_text_price = BoundedIntText(value=0, min=0, description=description)\n",
    "    int_text_price.observe(observe_price, names='value')\n",
    "\n",
    "    return [int_text_qty, int_slider_k, dropdown_right, int_text_price]\n",
    "\n",
    "\n",
    "button = Button(description='ポチッとな')\n",
    "button.on_click(plot_payoff)"
   ]
  },
  {
   "cell_type": "code",
   "execution_count": 9,
   "metadata": {},
   "outputs": [
    {
     "data": {
      "application/vnd.jupyter.widget-view+json": {
       "model_id": "adad7c2d791b49f2813ea97022b25607",
       "version_major": 2,
       "version_minor": 0
      },
      "text/plain": [
       "VBox(children=(HBox(children=(VBox(children=(BoundedIntText(value=0, description='枚数#1', min=-100), IntSlider(…"
      ]
     },
     "metadata": {},
     "output_type": "display_data"
    },
    {
     "data": {
      "image/png": "[encoded data removed]",
      "text/plain": [
       "<matplotlib.figure.Figure at 0x7f4cabd9f550>"
      ]
     },
     "metadata": {},
     "output_type": "display_data"
    }
   ],
   "source": [
    "VBox([HBox([VBox(make_widgets(i)) for i in range(1, 3)]), button])"
   ]
  },
  {
   "cell_type": "code",
   "execution_count": null,
   "metadata": {},
   "outputs": [],
   "source": []
  }
 ],
 "metadata": {
  "kernelspec": {
   "display_name": "Python 3",
   "language": "python",
   "name": "python3"
  },
  "language_info": {
   "codemirror_mode": {
    "name": "ipython",
    "version": 3
   },
   "file_extension": ".py",
   "mimetype": "text/x-python",
   "name": "python",
   "nbconvert_exporter": "python",
   "pygments_lexer": "ipython3",
   "version": "3.6.3"
  }
 },
 "nbformat": 4,
 "nbformat_minor": 2
}
